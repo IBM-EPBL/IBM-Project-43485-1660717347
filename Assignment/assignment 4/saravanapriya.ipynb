{
 "cells": [
  {
   "cell_type": "code",
   "execution_count": 1,
   "id": "ac0f5687",
   "metadata": {},
   "outputs": [],
   "source": [
    "import numpy as np\n",
    "import pandas as pd\n",
    "import matplotlib.pyplot as plt\n",
    "import seaborn as sns\n",
    "import math\n",
    "\n",
    "import warnings\n",
    "warnings.filterwarnings(action='ignore')\n"
   ]
  },
  {
   "cell_type": "code",
   "execution_count": 32,
   "id": "63478f1a",
   "metadata": {},
   "outputs": [
    {
     "name": "stdout",
     "output_type": "stream",
     "text": [
      "Note: you may need to restart the kernel to use updated packages.Requirement already satisfied: scikit-learn in c:\\users\\elcot\\anaconda3\\lib\\site-packages (0.24.1)\n",
      "\n",
      "Requirement already satisfied: joblib>=0.11 in c:\\users\\elcot\\anaconda3\\lib\\site-packages (from scikit-learn) (1.0.1)\n",
      "Requirement already satisfied: threadpoolctl>=2.0.0 in c:\\users\\elcot\\anaconda3\\lib\\site-packages (from scikit-learn) (2.1.0)\n",
      "Requirement already satisfied: scipy>=0.19.1 in c:\\users\\elcot\\anaconda3\\lib\\site-packages (from scikit-learn) (1.6.2)\n",
      "Requirement already satisfied: numpy>=1.13.3 in c:\\users\\elcot\\anaconda3\\lib\\site-packages (from scikit-learn) (1.20.1)\n"
     ]
    }
   ],
   "source": [
    "pip install scikit-learn"
   ]
  },
  {
   "cell_type": "code",
   "execution_count": 117,
   "id": "c8bbae31",
   "metadata": {},
   "outputs": [
    {
     "data": {
      "text/html": [
       "<div>\n",
       "<style scoped>\n",
       "    .dataframe tbody tr th:only-of-type {\n",
       "        vertical-align: middle;\n",
       "    }\n",
       "\n",
       "    .dataframe tbody tr th {\n",
       "        vertical-align: top;\n",
       "    }\n",
       "\n",
       "    .dataframe thead th {\n",
       "        text-align: right;\n",
       "    }\n",
       "</style>\n",
       "<table border=\"1\" class=\"dataframe\">\n",
       "  <thead>\n",
       "    <tr style=\"text-align: right;\">\n",
       "      <th></th>\n",
       "      <th>id</th>\n",
       "      <th>age</th>\n",
       "      <th>bp</th>\n",
       "      <th>sg</th>\n",
       "      <th>al</th>\n",
       "      <th>su</th>\n",
       "      <th>rbc</th>\n",
       "      <th>pc</th>\n",
       "      <th>pcc</th>\n",
       "      <th>ba</th>\n",
       "      <th>...</th>\n",
       "      <th>pcv</th>\n",
       "      <th>wc</th>\n",
       "      <th>rc</th>\n",
       "      <th>htn</th>\n",
       "      <th>dm</th>\n",
       "      <th>cad</th>\n",
       "      <th>appet</th>\n",
       "      <th>pe</th>\n",
       "      <th>ane</th>\n",
       "      <th>classification</th>\n",
       "    </tr>\n",
       "  </thead>\n",
       "  <tbody>\n",
       "    <tr>\n",
       "      <th>0</th>\n",
       "      <td>0</td>\n",
       "      <td>48.0</td>\n",
       "      <td>80.0</td>\n",
       "      <td>1.020</td>\n",
       "      <td>1.0</td>\n",
       "      <td>0.0</td>\n",
       "      <td>NaN</td>\n",
       "      <td>normal</td>\n",
       "      <td>notpresent</td>\n",
       "      <td>notpresent</td>\n",
       "      <td>...</td>\n",
       "      <td>44</td>\n",
       "      <td>7800</td>\n",
       "      <td>5.2</td>\n",
       "      <td>yes</td>\n",
       "      <td>yes</td>\n",
       "      <td>no</td>\n",
       "      <td>good</td>\n",
       "      <td>no</td>\n",
       "      <td>no</td>\n",
       "      <td>ckd</td>\n",
       "    </tr>\n",
       "    <tr>\n",
       "      <th>1</th>\n",
       "      <td>1</td>\n",
       "      <td>7.0</td>\n",
       "      <td>50.0</td>\n",
       "      <td>1.020</td>\n",
       "      <td>4.0</td>\n",
       "      <td>0.0</td>\n",
       "      <td>NaN</td>\n",
       "      <td>normal</td>\n",
       "      <td>notpresent</td>\n",
       "      <td>notpresent</td>\n",
       "      <td>...</td>\n",
       "      <td>38</td>\n",
       "      <td>6000</td>\n",
       "      <td>NaN</td>\n",
       "      <td>no</td>\n",
       "      <td>no</td>\n",
       "      <td>no</td>\n",
       "      <td>good</td>\n",
       "      <td>no</td>\n",
       "      <td>no</td>\n",
       "      <td>ckd</td>\n",
       "    </tr>\n",
       "    <tr>\n",
       "      <th>2</th>\n",
       "      <td>2</td>\n",
       "      <td>62.0</td>\n",
       "      <td>80.0</td>\n",
       "      <td>1.010</td>\n",
       "      <td>2.0</td>\n",
       "      <td>3.0</td>\n",
       "      <td>normal</td>\n",
       "      <td>normal</td>\n",
       "      <td>notpresent</td>\n",
       "      <td>notpresent</td>\n",
       "      <td>...</td>\n",
       "      <td>31</td>\n",
       "      <td>7500</td>\n",
       "      <td>NaN</td>\n",
       "      <td>no</td>\n",
       "      <td>yes</td>\n",
       "      <td>no</td>\n",
       "      <td>poor</td>\n",
       "      <td>no</td>\n",
       "      <td>yes</td>\n",
       "      <td>ckd</td>\n",
       "    </tr>\n",
       "    <tr>\n",
       "      <th>3</th>\n",
       "      <td>3</td>\n",
       "      <td>48.0</td>\n",
       "      <td>70.0</td>\n",
       "      <td>1.005</td>\n",
       "      <td>4.0</td>\n",
       "      <td>0.0</td>\n",
       "      <td>normal</td>\n",
       "      <td>abnormal</td>\n",
       "      <td>present</td>\n",
       "      <td>notpresent</td>\n",
       "      <td>...</td>\n",
       "      <td>32</td>\n",
       "      <td>6700</td>\n",
       "      <td>3.9</td>\n",
       "      <td>yes</td>\n",
       "      <td>no</td>\n",
       "      <td>no</td>\n",
       "      <td>poor</td>\n",
       "      <td>yes</td>\n",
       "      <td>yes</td>\n",
       "      <td>ckd</td>\n",
       "    </tr>\n",
       "    <tr>\n",
       "      <th>4</th>\n",
       "      <td>4</td>\n",
       "      <td>51.0</td>\n",
       "      <td>80.0</td>\n",
       "      <td>1.010</td>\n",
       "      <td>2.0</td>\n",
       "      <td>0.0</td>\n",
       "      <td>normal</td>\n",
       "      <td>normal</td>\n",
       "      <td>notpresent</td>\n",
       "      <td>notpresent</td>\n",
       "      <td>...</td>\n",
       "      <td>35</td>\n",
       "      <td>7300</td>\n",
       "      <td>4.6</td>\n",
       "      <td>no</td>\n",
       "      <td>no</td>\n",
       "      <td>no</td>\n",
       "      <td>good</td>\n",
       "      <td>no</td>\n",
       "      <td>no</td>\n",
       "      <td>ckd</td>\n",
       "    </tr>\n",
       "    <tr>\n",
       "      <th>5</th>\n",
       "      <td>5</td>\n",
       "      <td>60.0</td>\n",
       "      <td>90.0</td>\n",
       "      <td>1.015</td>\n",
       "      <td>3.0</td>\n",
       "      <td>0.0</td>\n",
       "      <td>NaN</td>\n",
       "      <td>NaN</td>\n",
       "      <td>notpresent</td>\n",
       "      <td>notpresent</td>\n",
       "      <td>...</td>\n",
       "      <td>39</td>\n",
       "      <td>7800</td>\n",
       "      <td>4.4</td>\n",
       "      <td>yes</td>\n",
       "      <td>yes</td>\n",
       "      <td>no</td>\n",
       "      <td>good</td>\n",
       "      <td>yes</td>\n",
       "      <td>no</td>\n",
       "      <td>ckd</td>\n",
       "    </tr>\n",
       "    <tr>\n",
       "      <th>6</th>\n",
       "      <td>6</td>\n",
       "      <td>68.0</td>\n",
       "      <td>70.0</td>\n",
       "      <td>1.010</td>\n",
       "      <td>0.0</td>\n",
       "      <td>0.0</td>\n",
       "      <td>NaN</td>\n",
       "      <td>normal</td>\n",
       "      <td>notpresent</td>\n",
       "      <td>notpresent</td>\n",
       "      <td>...</td>\n",
       "      <td>36</td>\n",
       "      <td>NaN</td>\n",
       "      <td>NaN</td>\n",
       "      <td>no</td>\n",
       "      <td>no</td>\n",
       "      <td>no</td>\n",
       "      <td>good</td>\n",
       "      <td>no</td>\n",
       "      <td>no</td>\n",
       "      <td>ckd</td>\n",
       "    </tr>\n",
       "    <tr>\n",
       "      <th>7</th>\n",
       "      <td>7</td>\n",
       "      <td>24.0</td>\n",
       "      <td>NaN</td>\n",
       "      <td>1.015</td>\n",
       "      <td>2.0</td>\n",
       "      <td>4.0</td>\n",
       "      <td>normal</td>\n",
       "      <td>abnormal</td>\n",
       "      <td>notpresent</td>\n",
       "      <td>notpresent</td>\n",
       "      <td>...</td>\n",
       "      <td>44</td>\n",
       "      <td>6900</td>\n",
       "      <td>5</td>\n",
       "      <td>no</td>\n",
       "      <td>yes</td>\n",
       "      <td>no</td>\n",
       "      <td>good</td>\n",
       "      <td>yes</td>\n",
       "      <td>no</td>\n",
       "      <td>ckd</td>\n",
       "    </tr>\n",
       "  </tbody>\n",
       "</table>\n",
       "<p>8 rows × 26 columns</p>\n",
       "</div>"
      ],
      "text/plain": [
       "   id   age    bp     sg   al   su     rbc        pc         pcc          ba  \\\n",
       "0   0  48.0  80.0  1.020  1.0  0.0     NaN    normal  notpresent  notpresent   \n",
       "1   1   7.0  50.0  1.020  4.0  0.0     NaN    normal  notpresent  notpresent   \n",
       "2   2  62.0  80.0  1.010  2.0  3.0  normal    normal  notpresent  notpresent   \n",
       "3   3  48.0  70.0  1.005  4.0  0.0  normal  abnormal     present  notpresent   \n",
       "4   4  51.0  80.0  1.010  2.0  0.0  normal    normal  notpresent  notpresent   \n",
       "5   5  60.0  90.0  1.015  3.0  0.0     NaN       NaN  notpresent  notpresent   \n",
       "6   6  68.0  70.0  1.010  0.0  0.0     NaN    normal  notpresent  notpresent   \n",
       "7   7  24.0   NaN  1.015  2.0  4.0  normal  abnormal  notpresent  notpresent   \n",
       "\n",
       "   ...  pcv    wc   rc  htn   dm  cad appet   pe  ane classification  \n",
       "0  ...   44  7800  5.2  yes  yes   no  good   no   no            ckd  \n",
       "1  ...   38  6000  NaN   no   no   no  good   no   no            ckd  \n",
       "2  ...   31  7500  NaN   no  yes   no  poor   no  yes            ckd  \n",
       "3  ...   32  6700  3.9  yes   no   no  poor  yes  yes            ckd  \n",
       "4  ...   35  7300  4.6   no   no   no  good   no   no            ckd  \n",
       "5  ...   39  7800  4.4  yes  yes   no  good  yes   no            ckd  \n",
       "6  ...   36   NaN  NaN   no   no   no  good   no   no            ckd  \n",
       "7  ...   44  6900    5   no  yes   no  good  yes   no            ckd  \n",
       "\n",
       "[8 rows x 26 columns]"
      ]
     },
     "execution_count": 117,
     "metadata": {},
     "output_type": "execute_result"
    }
   ],
   "source": [
    "import pandas as pd\n",
    "data=pd.read_csv('kidney_disease.csv')\n",
    "data.head(8)"
   ]
  },
  {
   "cell_type": "code",
   "execution_count": 55,
   "id": "088c6c9f",
   "metadata": {},
   "outputs": [
    {
     "data": {
      "text/plain": [
       "(400, 26)"
      ]
     },
     "execution_count": 55,
     "metadata": {},
     "output_type": "execute_result"
    }
   ],
   "source": [
    "data.shape"
   ]
  },
  {
   "cell_type": "code",
   "execution_count": 56,
   "id": "7a79d9d6",
   "metadata": {},
   "outputs": [
    {
     "data": {
      "text/html": [
       "<div>\n",
       "<style scoped>\n",
       "    .dataframe tbody tr th:only-of-type {\n",
       "        vertical-align: middle;\n",
       "    }\n",
       "\n",
       "    .dataframe tbody tr th {\n",
       "        vertical-align: top;\n",
       "    }\n",
       "\n",
       "    .dataframe thead th {\n",
       "        text-align: right;\n",
       "    }\n",
       "</style>\n",
       "<table border=\"1\" class=\"dataframe\">\n",
       "  <thead>\n",
       "    <tr style=\"text-align: right;\">\n",
       "      <th></th>\n",
       "      <th>id</th>\n",
       "      <th>age</th>\n",
       "      <th>bp</th>\n",
       "      <th>sg</th>\n",
       "      <th>al</th>\n",
       "      <th>su</th>\n",
       "      <th>bgr</th>\n",
       "      <th>bu</th>\n",
       "      <th>sc</th>\n",
       "      <th>sod</th>\n",
       "      <th>pot</th>\n",
       "      <th>hemo</th>\n",
       "    </tr>\n",
       "  </thead>\n",
       "  <tbody>\n",
       "    <tr>\n",
       "      <th>count</th>\n",
       "      <td>400.000000</td>\n",
       "      <td>391.000000</td>\n",
       "      <td>388.000000</td>\n",
       "      <td>353.000000</td>\n",
       "      <td>354.000000</td>\n",
       "      <td>351.000000</td>\n",
       "      <td>356.000000</td>\n",
       "      <td>381.000000</td>\n",
       "      <td>383.000000</td>\n",
       "      <td>313.000000</td>\n",
       "      <td>312.000000</td>\n",
       "      <td>348.000000</td>\n",
       "    </tr>\n",
       "    <tr>\n",
       "      <th>mean</th>\n",
       "      <td>199.500000</td>\n",
       "      <td>51.483376</td>\n",
       "      <td>76.469072</td>\n",
       "      <td>1.017408</td>\n",
       "      <td>1.016949</td>\n",
       "      <td>0.450142</td>\n",
       "      <td>148.036517</td>\n",
       "      <td>57.425722</td>\n",
       "      <td>3.072454</td>\n",
       "      <td>137.528754</td>\n",
       "      <td>4.627244</td>\n",
       "      <td>12.526437</td>\n",
       "    </tr>\n",
       "    <tr>\n",
       "      <th>std</th>\n",
       "      <td>115.614301</td>\n",
       "      <td>17.169714</td>\n",
       "      <td>13.683637</td>\n",
       "      <td>0.005717</td>\n",
       "      <td>1.352679</td>\n",
       "      <td>1.099191</td>\n",
       "      <td>79.281714</td>\n",
       "      <td>50.503006</td>\n",
       "      <td>5.741126</td>\n",
       "      <td>10.408752</td>\n",
       "      <td>3.193904</td>\n",
       "      <td>2.912587</td>\n",
       "    </tr>\n",
       "    <tr>\n",
       "      <th>min</th>\n",
       "      <td>0.000000</td>\n",
       "      <td>2.000000</td>\n",
       "      <td>50.000000</td>\n",
       "      <td>1.005000</td>\n",
       "      <td>0.000000</td>\n",
       "      <td>0.000000</td>\n",
       "      <td>22.000000</td>\n",
       "      <td>1.500000</td>\n",
       "      <td>0.400000</td>\n",
       "      <td>4.500000</td>\n",
       "      <td>2.500000</td>\n",
       "      <td>3.100000</td>\n",
       "    </tr>\n",
       "    <tr>\n",
       "      <th>25%</th>\n",
       "      <td>99.750000</td>\n",
       "      <td>42.000000</td>\n",
       "      <td>70.000000</td>\n",
       "      <td>1.010000</td>\n",
       "      <td>0.000000</td>\n",
       "      <td>0.000000</td>\n",
       "      <td>99.000000</td>\n",
       "      <td>27.000000</td>\n",
       "      <td>0.900000</td>\n",
       "      <td>135.000000</td>\n",
       "      <td>3.800000</td>\n",
       "      <td>10.300000</td>\n",
       "    </tr>\n",
       "    <tr>\n",
       "      <th>50%</th>\n",
       "      <td>199.500000</td>\n",
       "      <td>55.000000</td>\n",
       "      <td>80.000000</td>\n",
       "      <td>1.020000</td>\n",
       "      <td>0.000000</td>\n",
       "      <td>0.000000</td>\n",
       "      <td>121.000000</td>\n",
       "      <td>42.000000</td>\n",
       "      <td>1.300000</td>\n",
       "      <td>138.000000</td>\n",
       "      <td>4.400000</td>\n",
       "      <td>12.650000</td>\n",
       "    </tr>\n",
       "    <tr>\n",
       "      <th>75%</th>\n",
       "      <td>299.250000</td>\n",
       "      <td>64.500000</td>\n",
       "      <td>80.000000</td>\n",
       "      <td>1.020000</td>\n",
       "      <td>2.000000</td>\n",
       "      <td>0.000000</td>\n",
       "      <td>163.000000</td>\n",
       "      <td>66.000000</td>\n",
       "      <td>2.800000</td>\n",
       "      <td>142.000000</td>\n",
       "      <td>4.900000</td>\n",
       "      <td>15.000000</td>\n",
       "    </tr>\n",
       "    <tr>\n",
       "      <th>max</th>\n",
       "      <td>399.000000</td>\n",
       "      <td>90.000000</td>\n",
       "      <td>180.000000</td>\n",
       "      <td>1.025000</td>\n",
       "      <td>5.000000</td>\n",
       "      <td>5.000000</td>\n",
       "      <td>490.000000</td>\n",
       "      <td>391.000000</td>\n",
       "      <td>76.000000</td>\n",
       "      <td>163.000000</td>\n",
       "      <td>47.000000</td>\n",
       "      <td>17.800000</td>\n",
       "    </tr>\n",
       "  </tbody>\n",
       "</table>\n",
       "</div>"
      ],
      "text/plain": [
       "               id         age          bp          sg          al          su  \\\n",
       "count  400.000000  391.000000  388.000000  353.000000  354.000000  351.000000   \n",
       "mean   199.500000   51.483376   76.469072    1.017408    1.016949    0.450142   \n",
       "std    115.614301   17.169714   13.683637    0.005717    1.352679    1.099191   \n",
       "min      0.000000    2.000000   50.000000    1.005000    0.000000    0.000000   \n",
       "25%     99.750000   42.000000   70.000000    1.010000    0.000000    0.000000   \n",
       "50%    199.500000   55.000000   80.000000    1.020000    0.000000    0.000000   \n",
       "75%    299.250000   64.500000   80.000000    1.020000    2.000000    0.000000   \n",
       "max    399.000000   90.000000  180.000000    1.025000    5.000000    5.000000   \n",
       "\n",
       "              bgr          bu          sc         sod         pot        hemo  \n",
       "count  356.000000  381.000000  383.000000  313.000000  312.000000  348.000000  \n",
       "mean   148.036517   57.425722    3.072454  137.528754    4.627244   12.526437  \n",
       "std     79.281714   50.503006    5.741126   10.408752    3.193904    2.912587  \n",
       "min     22.000000    1.500000    0.400000    4.500000    2.500000    3.100000  \n",
       "25%     99.000000   27.000000    0.900000  135.000000    3.800000   10.300000  \n",
       "50%    121.000000   42.000000    1.300000  138.000000    4.400000   12.650000  \n",
       "75%    163.000000   66.000000    2.800000  142.000000    4.900000   15.000000  \n",
       "max    490.000000  391.000000   76.000000  163.000000   47.000000   17.800000  "
      ]
     },
     "execution_count": 56,
     "metadata": {},
     "output_type": "execute_result"
    }
   ],
   "source": [
    "data.describe()"
   ]
  },
  {
   "cell_type": "code",
   "execution_count": 57,
   "id": "70f7f1b4",
   "metadata": {},
   "outputs": [
    {
     "data": {
      "text/plain": [
       "id                  0\n",
       "age                 9\n",
       "bp                 12\n",
       "sg                 47\n",
       "al                 46\n",
       "su                 49\n",
       "rbc               152\n",
       "pc                 65\n",
       "pcc                 4\n",
       "ba                  4\n",
       "bgr                44\n",
       "bu                 19\n",
       "sc                 17\n",
       "sod                87\n",
       "pot                88\n",
       "hemo               52\n",
       "pcv                70\n",
       "wc                105\n",
       "rc                130\n",
       "htn                 2\n",
       "dm                  2\n",
       "cad                 2\n",
       "appet               1\n",
       "pe                  1\n",
       "ane                 1\n",
       "classification      0\n",
       "dtype: int64"
      ]
     },
     "execution_count": 57,
     "metadata": {},
     "output_type": "execute_result"
    }
   ],
   "source": [
    "data.isnull().sum()"
   ]
  },
  {
   "cell_type": "code",
   "execution_count": 92,
   "id": "40ace2f4",
   "metadata": {},
   "outputs": [],
   "source": [
    "X=data.iloc[:,:-1]\n",
    "y=data['id']"
   ]
  },
  {
   "cell_type": "code",
   "execution_count": 118,
   "id": "0498e5f6",
   "metadata": {
    "scrolled": true
   },
   "outputs": [],
   "source": [
    "from sklearn.model_selection import train_test_split\n",
    "X_train,X_test,y_train,y_test=train_test_split(X,y,test_size=0.2,random_state=1)"
   ]
  },
  {
   "cell_type": "code",
   "execution_count": 131,
   "id": "7c727dbe",
   "metadata": {},
   "outputs": [
    {
     "data": {
      "text/plain": [
       "id   age   bp    sg     al   su   rbc       pc        pcc         ba          bgr    bu     sc    sod    pot  hemo  pcv  wc     rc   htn  dm   cad  appet  pe   ane\n",
       "3    48.0  70.0  1.005  4.0  0.0  normal    abnormal  present     notpresent  117.0  56.0   3.8   111.0  2.5  11.2  32   6700   3.9  yes  no   no   poor   yes  yes    1\n",
       "353  39.0  60.0  1.020  0.0  0.0  normal    normal    notpresent  notpresent  86.0   37.0   0.6   150.0  5.0  13.6  51   5800   4.5  no   no   no   good   no   no     1\n",
       "351  29.0  80.0  1.020  0.0  0.0  normal    normal    notpresent  notpresent  83.0   49.0   0.9   139.0  3.3  17.5  40   9900   4.7  no   no   no   good   no   no     1\n",
       "348  38.0  80.0  1.020  0.0  0.0  normal    normal    notpresent  notpresent  99.0   19.0   0.5   147.0  3.5  13.6  44   7300   6.4  no   no   no   good   no   no     1\n",
       "345  22.0  60.0  1.025  0.0  0.0  normal    normal    notpresent  notpresent  97.0   18.0   1.2   138.0  4.3  13.5  42   7900   6.4  no   no   no   good   no   no     1\n",
       "                                                                                                                                                                      ..\n",
       "251  23.0  80.0  1.025  0.0  0.0  normal    normal    notpresent  notpresent  70.0   36.0   1.0   150.0  4.6  17.0  52   9800   5.0  no   no   no   good   no   no     1\n",
       "250  40.0  80.0  1.025  0.0  0.0  normal    normal    notpresent  notpresent  140.0  10.0   1.2   135.0  5.0  15.0  48   10400  4.5  no   no   no   good   no   no     1\n",
       "249  56.0  90.0  1.010  4.0  1.0  normal    abnormal  present     notpresent  176.0  309.0  13.3  124.0  6.5  3.1   9    5400   2.1  yes  yes  no   poor   yes  yes    1\n",
       "248  59.0  70.0  1.010  1.0  3.0  abnormal  abnormal  notpresent  notpresent  424.0  55.0   1.7   138.0  4.5  12.6  37   10200  4.1  yes  yes  yes  good   no   no     1\n",
       "399  58.0  80.0  1.025  0.0  0.0  normal    normal    notpresent  notpresent  131.0  18.0   1.1   141.0  3.5  15.8  53   6800   6.1  no   no   no   good   no   no     1\n",
       "Length: 122, dtype: int64"
      ]
     },
     "execution_count": 131,
     "metadata": {},
     "output_type": "execute_result"
    }
   ],
   "source": [
    "X_train.value_counts()"
   ]
  },
  {
   "cell_type": "code",
   "execution_count": 132,
   "id": "13d0bae2",
   "metadata": {},
   "outputs": [
    {
     "data": {
      "text/plain": [
       "id   age   bp    sg     al   su   rbc     pc        pcc         ba          bgr    bu    sc   sod    pot  hemo  pcv  wc     rc   htn  dm  cad  appet  pe   ane\n",
       "3    48.0  70.0  1.005  4.0  0.0  normal  abnormal  present     notpresent  117.0  56.0  3.8  111.0  2.5  11.2  32   6700   3.9  yes  no  no   poor   yes  yes    1\n",
       "343  37.0  60.0  1.025  0.0  0.0  normal  normal    notpresent  notpresent  111.0  35.0  0.8  135.0  4.1  16.2  50   5500   5.7  no   no  no   good   no   no     1\n",
       "335  60.0  60.0  1.020  0.0  0.0  normal  normal    notpresent  notpresent  134.0  45.0  0.5  139.0  4.8  14.2  48   10700  5.6  no   no  no   good   no   no     1\n",
       "337  44.0  70.0  1.025  0.0  0.0  normal  normal    notpresent  notpresent  92.0   40.0  0.9  141.0  4.9  14.0  52   7500   6.2  no   no  no   good   no   no     1\n",
       "338  62.0  80.0  1.020  0.0  0.0  normal  normal    notpresent  notpresent  132.0  34.0  0.8  147.0  3.5  17.8  44   4700   4.5  no   no  no   good   no   no     1\n",
       "                                                                                                                                                                 ..\n",
       "260  30.0  80.0  1.020  0.0  0.0  normal  normal    notpresent  notpresent  131.0  38.0  1.0  147.0  3.8  14.1  45   9400   5.3  no   no  no   good   no   no     1\n",
       "261  49.0  80.0  1.020  0.0  0.0  normal  normal    notpresent  notpresent  122.0  32.0  1.2  139.0  3.9  17.0  41   5600   4.9  no   no  no   good   no   no     1\n",
       "262  55.0  80.0  1.020  0.0  0.0  normal  normal    notpresent  notpresent  118.0  18.0  0.9  135.0  3.6  15.5  43   7200   5.4  no   no  no   good   no   no     1\n",
       "263  45.0  80.0  1.020  0.0  0.0  normal  normal    notpresent  notpresent  117.0  46.0  1.2  137.0  5.0  16.2  45   8600   5.2  no   no  no   good   no   no     1\n",
       "399  58.0  80.0  1.025  0.0  0.0  normal  normal    notpresent  notpresent  131.0  18.0  1.1  141.0  3.5  15.8  53   6800   6.1  no   no  no   good   no   no     1\n",
       "Length: 158, dtype: int64"
      ]
     },
     "execution_count": 132,
     "metadata": {},
     "output_type": "execute_result"
    }
   ],
   "source": [
    "X.value_counts()"
   ]
  },
  {
   "cell_type": "code",
   "execution_count": 133,
   "id": "d3627fb5",
   "metadata": {},
   "outputs": [
    {
     "data": {
      "text/plain": [
       "0      1\n",
       "1      1\n",
       "266    1\n",
       "265    1\n",
       "264    1\n",
       "      ..\n",
       "129    1\n",
       "128    1\n",
       "127    1\n",
       "126    1\n",
       "399    1\n",
       "Name: id, Length: 320, dtype: int64"
      ]
     },
     "execution_count": 133,
     "metadata": {},
     "output_type": "execute_result"
    }
   ],
   "source": [
    "y_train.value_counts()"
   ]
  },
  {
   "cell_type": "code",
   "execution_count": 134,
   "id": "7542d1b9",
   "metadata": {},
   "outputs": [
    {
     "data": {
      "text/plain": [
       "0      1\n",
       "263    1\n",
       "273    1\n",
       "272    1\n",
       "271    1\n",
       "      ..\n",
       "130    1\n",
       "129    1\n",
       "128    1\n",
       "127    1\n",
       "399    1\n",
       "Name: id, Length: 400, dtype: int64"
      ]
     },
     "execution_count": 134,
     "metadata": {},
     "output_type": "execute_result"
    }
   ],
   "source": [
    "y.value_counts()"
   ]
  },
  {
   "cell_type": "code",
   "execution_count": 135,
   "id": "a78d3fcc",
   "metadata": {},
   "outputs": [
    {
     "data": {
      "text/plain": [
       "id   age   bp     sg     al   su   rbc       pc        pcc         ba          bgr    bu     sc    sod    pot  hemo  pcv  wc     rc   htn  dm   cad  appet  pe   ane\n",
       "11   63.0  70.0   1.010  3.0  0.0  abnormal  abnormal  present     notpresent  380.0  60.0   2.7   131.0  4.2  10.8  32   4500   3.8  yes  yes  no   poor   yes  no     1\n",
       "58   73.0  80.0   1.020  2.0  0.0  abnormal  abnormal  notpresent  notpresent  253.0  142.0  4.6   138.0  5.8  10.5  33   7200   4.3  yes  yes  yes  good   no   no     1\n",
       "321  65.0  60.0   1.020  0.0  0.0  normal    normal    notpresent  notpresent  109.0  39.0   1.0   144.0  3.5  13.9  48   9600   4.8  no   no   no   good   no   no     1\n",
       "339  25.0  70.0   1.020  0.0  0.0  normal    normal    notpresent  notpresent  88.0   42.0   0.5   136.0  3.5  13.3  48   7000   4.9  no   no   no   good   no   no     1\n",
       "342  44.0  60.0   1.020  0.0  0.0  normal    normal    notpresent  notpresent  95.0   46.0   0.5   138.0  4.2  15.0  50   7700   6.3  no   no   no   good   no   no     1\n",
       "347  43.0  60.0   1.025  0.0  0.0  normal    normal    notpresent  notpresent  108.0  25.0   1.0   144.0  5.0  17.8  43   7200   5.5  no   no   no   good   no   no     1\n",
       "354  32.0  60.0   1.025  0.0  0.0  normal    normal    notpresent  notpresent  102.0  17.0   0.4   147.0  4.7  14.6  41   6800   5.1  no   no   no   good   no   no     1\n",
       "360  35.0  60.0   1.025  0.0  0.0  normal    normal    notpresent  notpresent  105.0  39.0   0.5   135.0  3.9  14.7  43   5800   6.2  no   no   no   good   no   no     1\n",
       "361  29.0  80.0   1.020  0.0  0.0  normal    normal    notpresent  notpresent  70.0   16.0   0.7   138.0  3.5  13.7  54   5400   5.8  no   no   no   good   no   no     1\n",
       "366  60.0  80.0   1.025  0.0  0.0  normal    normal    notpresent  notpresent  81.0   15.0   0.5   141.0  3.6  15.0  46   10500  5.3  no   no   no   good   no   no     1\n",
       "371  28.0  60.0   1.025  0.0  0.0  normal    normal    notpresent  notpresent  79.0   50.0   0.5   145.0  5.0  17.6  51   6500   5.0  no   no   no   good   no   no     1\n",
       "372  72.0  60.0   1.020  0.0  0.0  normal    normal    notpresent  notpresent  109.0  26.0   0.9   150.0  4.9  15.0  52   10500  5.5  no   no   no   good   no   no     1\n",
       "382  48.0  80.0   1.025  0.0  0.0  normal    normal    notpresent  notpresent  75.0   22.0   0.8   137.0  5.0  16.8  51   6000   6.5  no   no   no   good   no   no     1\n",
       "385  63.0  70.0   1.020  0.0  0.0  normal    normal    notpresent  notpresent  113.0  25.0   0.6   146.0  4.9  16.5  52   8000   5.1  no   no   no   good   no   no     1\n",
       "387  15.0  80.0   1.025  0.0  0.0  normal    normal    notpresent  notpresent  93.0   17.0   0.9   136.0  3.9  16.7  50   6200   5.2  no   no   no   good   no   no     1\n",
       "389  41.0  80.0   1.025  0.0  0.0  normal    normal    notpresent  notpresent  112.0  48.0   0.7   140.0  5.0  17.0  52   7200   5.8  no   no   no   good   no   no     1\n",
       "397  12.0  80.0   1.020  0.0  0.0  normal    normal    notpresent  notpresent  100.0  26.0   0.6   137.0  4.4  15.8  49   6600   5.4  no   no   no   good   no   no     1\n",
       "314  39.0  70.0   1.025  0.0  0.0  normal    normal    notpresent  notpresent  131.0  46.0   0.6   145.0  5.0  15.6  41   9400   4.7  no   no   no   good   no   no     1\n",
       "310  46.0  60.0   1.020  0.0  0.0  normal    normal    notpresent  notpresent  102.0  27.0   0.7   142.0  4.9  13.2  44   11000  5.4  no   no   no   good   no   no     1\n",
       "307  47.0  60.0   1.020  0.0  0.0  normal    normal    notpresent  notpresent  137.0  17.0   0.5   150.0  3.5  13.6  44   7900   4.5  no   no   no   good   no   no     1\n",
       "258  42.0  80.0   1.020  0.0  0.0  normal    normal    notpresent  notpresent  98.0   20.0   0.5   140.0  3.5  13.9  44   8400   5.5  no   no   no   good   no   no     1\n",
       "92   71.0  70.0   1.010  3.0  0.0  normal    abnormal  present     present     219.0  82.0   3.6   133.0  4.4  10.4  33   5600   3.6  yes  yes  yes  good   no   no     1\n",
       "171  83.0  70.0   1.020  3.0  0.0  normal    normal    notpresent  notpresent  102.0  60.0   2.6   115.0  5.7  8.7   26   12800  3.1  yes  no   no   poor   no   yes    1\n",
       "225  60.0  90.0   1.010  3.0  5.0  abnormal  normal    notpresent  present     490.0  95.0   2.7   131.0  3.8  11.5  35   12000  4.5  yes  yes  no   good   no   no     1\n",
       "229  59.0  50.0   1.010  3.0  0.0  normal    abnormal  notpresent  notpresent  241.0  191.0  12.0  114.0  2.9  9.6   31   15700  3.8  no   yes  no   good   yes  no     1\n",
       "242  69.0  70.0   1.010  4.0  3.0  normal    abnormal  present     present     214.0  96.0   6.3   120.0  3.9  9.4   28   11500  3.3  yes  yes  yes  good   yes  yes    1\n",
       "246  48.0  110.0  1.015  3.0  0.0  abnormal  normal    present     notpresent  106.0  215.0  15.2  120.0  5.7  8.6   26   5000   2.5  yes  no   yes  good   no   yes    1\n",
       "270  23.0  80.0   1.025  0.0  0.0  normal    normal    notpresent  notpresent  111.0  34.0   1.1   145.0  4.0  14.3  41   7200   5.0  no   no   no   good   no   no     1\n",
       "296  41.0  70.0   1.020  0.0  0.0  normal    normal    notpresent  notpresent  125.0  38.0   0.6   140.0  5.0  16.8  41   6300   5.9  no   no   no   good   no   no     1\n",
       "272  56.0  80.0   1.025  0.0  0.0  normal    normal    notpresent  notpresent  139.0  15.0   1.2   135.0  5.0  14.8  42   5600   5.5  no   no   no   good   no   no     1\n",
       "275  52.0  80.0   1.020  0.0  0.0  normal    normal    notpresent  notpresent  125.0  22.0   1.2   139.0  4.6  16.5  43   4700   4.6  no   no   no   good   no   no     1\n",
       "278  48.0  60.0   1.020  0.0  0.0  normal    normal    notpresent  notpresent  112.0  44.0   1.2   142.0  4.9  14.5  44   9400   6.4  no   no   no   good   no   no     1\n",
       "284  33.0  80.0   1.025  0.0  0.0  normal    normal    notpresent  notpresent  100.0  37.0   1.2   142.0  4.0  16.9  52   6700   6.0  no   no   no   good   no   no     1\n",
       "286  71.0  70.0   1.020  0.0  0.0  normal    normal    notpresent  notpresent  81.0   18.0   0.8   145.0  5.0  14.7  44   9800   6.0  no   no   no   good   no   no     1\n",
       "291  47.0  80.0   1.025  0.0  0.0  normal    normal    notpresent  notpresent  124.0  44.0   1.0   140.0  4.9  14.9  41   7000   5.7  no   no   no   good   no   no     1\n",
       "398  17.0  60.0   1.025  0.0  0.0  normal    normal    notpresent  notpresent  114.0  50.0   1.0   135.0  4.9  14.2  51   7200   5.9  no   no   no   good   no   no     1\n",
       "dtype: int64"
      ]
     },
     "execution_count": 135,
     "metadata": {},
     "output_type": "execute_result"
    }
   ],
   "source": [
    "X_test.value_counts()"
   ]
  },
  {
   "cell_type": "code",
   "execution_count": 136,
   "id": "2edf026b",
   "metadata": {},
   "outputs": [
    {
     "data": {
      "text/plain": [
       "107    1\n",
       "385    1\n",
       "223    1\n",
       "222    1\n",
       "92     1\n",
       "      ..\n",
       "41     1\n",
       "296    1\n",
       "165    1\n",
       "350    1\n",
       "382    1\n",
       "Name: id, Length: 80, dtype: int64"
      ]
     },
     "execution_count": 136,
     "metadata": {},
     "output_type": "execute_result"
    }
   ],
   "source": [
    "y_test.value_counts()"
   ]
  },
  {
   "cell_type": "code",
   "execution_count": 95,
   "id": "abc8241a",
   "metadata": {},
   "outputs": [
    {
     "name": "stdout",
     "output_type": "stream",
     "text": [
      "      id   age     bp     sg   al   su       rbc        pc         pcc  \\\n",
      "93    93  73.0  100.0  1.010  3.0  2.0  abnormal  abnormal     present   \n",
      "23    23  21.0   70.0  1.010  0.0  0.0       NaN    normal  notpresent   \n",
      "299  299  73.0   60.0  1.020  0.0  0.0    normal    normal  notpresent   \n",
      "13    13  68.0   70.0    NaN  NaN  NaN       NaN       NaN  notpresent   \n",
      "90    90  63.0  100.0  1.010  2.0  2.0    normal    normal  notpresent   \n",
      "..   ...   ...    ...    ...  ...  ...       ...       ...         ...   \n",
      "255  255  34.0   80.0  1.025  0.0  0.0    normal    normal  notpresent   \n",
      "72    72  64.0   90.0  1.010  3.0  3.0       NaN  abnormal     present   \n",
      "396  396  42.0   70.0  1.025  0.0  0.0    normal    normal  notpresent   \n",
      "235  235  45.0   70.0  1.010  2.0  0.0       NaN    normal  notpresent   \n",
      "37    37  72.0   80.0    NaN  NaN  NaN       NaN       NaN  notpresent   \n",
      "\n",
      "             ba  ...  hemo  pcv     wc   rc  htn   dm  cad appet   pe  ane  \n",
      "93   notpresent  ...   9.2   30   7000  3.2  yes  yes  yes  poor   no   no  \n",
      "23   notpresent  ...   NaN  NaN    NaN  NaN   no   no   no  poor   no  yes  \n",
      "299  notpresent  ...  15.1   52  11000  4.7   no   no   no  good   no   no  \n",
      "13   notpresent  ...   9.8  NaN    NaN  NaN  yes  yes  yes  poor  yes   no  \n",
      "90      present  ...  13.0   40   9800  4.2  yes   no  yes  good   no   no  \n",
      "..          ...  ...   ...  ...    ...  ...  ...  ...  ...   ...  ...  ...  \n",
      "255  notpresent  ...  13.6   52   9200  6.3   no   no   no  good   no   no  \n",
      "72   notpresent  ...  10.3  NaN    NaN  NaN  yes  yes   no  good  yes   no  \n",
      "396  notpresent  ...  16.5   54   7800  6.2   no   no   no  good   no   no  \n",
      "235  notpresent  ...   7.9   26   5700  NaN   no   no  yes  good   no  yes  \n",
      "37   notpresent  ...   9.7   28   6900  2.5  yes  yes   no  poor   no  yes  \n",
      "\n",
      "[320 rows x 25 columns]\n"
     ]
    }
   ],
   "source": [
    "print(X_train)"
   ]
  },
  {
   "cell_type": "code",
   "execution_count": 96,
   "id": "2676eb82",
   "metadata": {},
   "outputs": [
    {
     "name": "stdout",
     "output_type": "stream",
     "text": [
      "      id   age    bp     sg   al   su       rbc        pc         pcc  \\\n",
      "398  398  17.0  60.0  1.025  0.0  0.0    normal    normal  notpresent   \n",
      "125  125  72.0  90.0    NaN  NaN  NaN       NaN       NaN  notpresent   \n",
      "328  328  28.0  70.0  1.020  0.0  0.0    normal    normal         NaN   \n",
      "339  339  25.0  70.0  1.020  0.0  0.0    normal    normal  notpresent   \n",
      "172  172  62.0  80.0  1.010  1.0  2.0       NaN       NaN  notpresent   \n",
      "..   ...   ...   ...    ...  ...  ...       ...       ...         ...   \n",
      "347  347  43.0  60.0  1.025  0.0  0.0    normal    normal  notpresent   \n",
      "41    41  45.0  70.0  1.010  0.0  0.0       NaN    normal  notpresent   \n",
      "180  180  73.0  90.0  1.010  1.0  4.0  abnormal  abnormal     present   \n",
      "132  132  50.0   NaN    NaN  NaN  NaN    normal       NaN  notpresent   \n",
      "224  224  34.0  60.0  1.020  0.0  0.0       NaN    normal  notpresent   \n",
      "\n",
      "             ba  ...  hemo  pcv     wc   rc  htn   dm cad appet   pe  ane  \n",
      "398  notpresent  ...  14.2   51   7200  5.9   no   no  no  good   no   no  \n",
      "125  notpresent  ...   NaN  NaN    NaN  NaN  yes  yes  no  poor   no   no  \n",
      "328         NaN  ...   NaN   45   8600  6.5   no   no  no  good   no   no  \n",
      "339  notpresent  ...  13.3   48   7000  4.9   no   no  no  good   no   no  \n",
      "172  notpresent  ...  10.6   34  12800  4.9   no   no  no  good   no   no  \n",
      "..          ...  ...   ...  ...    ...  ...  ...  ...  ..   ...  ...  ...  \n",
      "347  notpresent  ...  17.8   43   7200  5.5   no   no  no  good   no   no  \n",
      "41   notpresent  ...   NaN  NaN    NaN  NaN   no   no  no  good  yes   no  \n",
      "180  notpresent  ...  10.3   28    NaN  NaN   no  yes  no  good   no   no  \n",
      "132  notpresent  ...   8.6   24  13200  2.7  yes   no  no  good  yes  yes  \n",
      "224  notpresent  ...   NaN  NaN    NaN  NaN   no   no  no  good  yes   no  \n",
      "\n",
      "[80 rows x 25 columns]\n"
     ]
    }
   ],
   "source": [
    "print(X_test)"
   ]
  },
  {
   "cell_type": "code",
   "execution_count": 97,
   "id": "0a06a759",
   "metadata": {},
   "outputs": [
    {
     "name": "stdout",
     "output_type": "stream",
     "text": [
      "93      93\n",
      "23      23\n",
      "299    299\n",
      "13      13\n",
      "90      90\n",
      "      ... \n",
      "255    255\n",
      "72      72\n",
      "396    396\n",
      "235    235\n",
      "37      37\n",
      "Name: id, Length: 320, dtype: int64\n"
     ]
    }
   ],
   "source": [
    "print(y_train)"
   ]
  },
  {
   "cell_type": "code",
   "execution_count": 98,
   "id": "83010108",
   "metadata": {},
   "outputs": [
    {
     "name": "stdout",
     "output_type": "stream",
     "text": [
      "398    398\n",
      "125    125\n",
      "328    328\n",
      "339    339\n",
      "172    172\n",
      "      ... \n",
      "347    347\n",
      "41      41\n",
      "180    180\n",
      "132    132\n",
      "224    224\n",
      "Name: id, Length: 80, dtype: int64\n"
     ]
    }
   ],
   "source": [
    "print(y_test)"
   ]
  },
  {
   "cell_type": "code",
   "execution_count": 99,
   "id": "c5ffa470",
   "metadata": {},
   "outputs": [],
   "source": [
    "import seaborn as sns\n",
    "import matplotlib.pyplot as plt\n",
    "from sklearn.tree import DecisionTreeClassifier\n",
    "from sklearn import metrics\n",
    "from sklearn import svm"
   ]
  },
  {
   "cell_type": "code",
   "execution_count": 100,
   "id": "faaed421",
   "metadata": {},
   "outputs": [
    {
     "name": "stdout",
     "output_type": "stream",
     "text": [
      "^C\n",
      "Note: you may need to restart the kernel to use updated packages.\n"
     ]
    }
   ],
   "source": [
    "pip install scikit-learn"
   ]
  },
  {
   "cell_type": "code",
   "execution_count": 76,
   "id": "c83fe7e6",
   "metadata": {},
   "outputs": [
    {
     "data": {
      "image/png": "[encoded data removed]",
      "text/plain": [
       "<Figure size 432x288 with 2 Axes>"
      ]
     },
     "metadata": {
      "needs_background": "light"
     },
     "output_type": "display_data"
    }
   ],
   "source": [
    "var=sns.heatmap(data.corr(),annot=True)\n",
    "plt.show()"
   ]
  },
  {
   "cell_type": "code",
   "execution_count": 142,
   "id": "da5ee4b4",
   "metadata": {},
   "outputs": [],
   "source": [
    "model=svm.SVC(kernel='linear')"
   ]
  },
  {
   "cell_type": "code",
   "execution_count": 144,
   "id": "70dc0dad",
   "metadata": {
    "scrolled": true
   },
   "outputs": [
    {
     "ename": "NameError",
     "evalue": "name 'null' is not defined",
     "output_type": "error",
     "traceback": [
      "\u001b[1;31m---------------------------------------------------------------------------\u001b[0m",
      "\u001b[1;31mNameError\u001b[0m                                 Traceback (most recent call last)",
      "\u001b[1;32m<ipython-input-144-4ee1dc842148>\u001b[0m in \u001b[0;36m<module>\u001b[1;34m\u001b[0m\n\u001b[1;32m----> 1\u001b[1;33m \u001b[0mSVCM\u001b[0m\u001b[1;33m=\u001b[0m\u001b[0mmodel\u001b[0m\u001b[1;33m.\u001b[0m\u001b[0mfit\u001b[0m\u001b[1;33m(\u001b[0m\u001b[0mX_train\u001b[0m\u001b[1;33m,\u001b[0m \u001b[0my_train\u001b[0m\u001b[1;33m,\u001b[0m  \u001b[0msample_weight\u001b[0m\u001b[1;33m=\u001b[0m\u001b[0msum\u001b[0m\u001b[1;33m(\u001b[0m\u001b[0mnull\u001b[0m\u001b[1;33m)\u001b[0m\u001b[1;33m,\u001b[0m\u001b[0mbatch_size\u001b[0m\u001b[1;33m=\u001b[0m\u001b[1;36m8\u001b[0m\u001b[1;33m,\u001b[0m \u001b[0mepochs\u001b[0m\u001b[1;33m=\u001b[0m\u001b[1;36m5\u001b[0m\u001b[1;33m)\u001b[0m\u001b[1;33m\u001b[0m\u001b[1;33m\u001b[0m\u001b[0m\n\u001b[0m",
      "\u001b[1;31mNameError\u001b[0m: name 'null' is not defined"
     ]
    }
   ],
   "source": [
    "\n",
    "SVCM=model.fit(X_train, y_train,  sample_weight=sum(null),batch_size=8, epochs=5)"
   ]
  },
  {
   "cell_type": "code",
   "execution_count": 120,
   "id": "2aeda3fe",
   "metadata": {},
   "outputs": [
    {
     "ename": "NameError",
     "evalue": "name 'SVCM' is not defined",
     "output_type": "error",
     "traceback": [
      "\u001b[1;31m---------------------------------------------------------------------------\u001b[0m",
      "\u001b[1;31mNameError\u001b[0m                                 Traceback (most recent call last)",
      "\u001b[1;32m<ipython-input-120-4b80c130e1e4>\u001b[0m in \u001b[0;36m<module>\u001b[1;34m\u001b[0m\n\u001b[1;32m----> 1\u001b[1;33m \u001b[0mpred\u001b[0m\u001b[1;33m=\u001b[0m\u001b[0mSVCM\u001b[0m\u001b[1;33m.\u001b[0m\u001b[0mpredict\u001b[0m\u001b[1;33m(\u001b[0m\u001b[0mX_test\u001b[0m\u001b[1;33m)\u001b[0m\u001b[1;33m\u001b[0m\u001b[1;33m\u001b[0m\u001b[0m\n\u001b[0m",
      "\u001b[1;31mNameError\u001b[0m: name 'SVCM' is not defined"
     ]
    }
   ],
   "source": [
    "pred=SVCM.predict(X_test)"
   ]
  },
  {
   "cell_type": "code",
   "execution_count": 138,
   "id": "6d7eb0be",
   "metadata": {},
   "outputs": [
    {
     "ename": "NameError",
     "evalue": "name 'pred' is not defined",
     "output_type": "error",
     "traceback": [
      "\u001b[1;31m---------------------------------------------------------------------------\u001b[0m",
      "\u001b[1;31mNameError\u001b[0m                                 Traceback (most recent call last)",
      "\u001b[1;32m<ipython-input-138-02292805878c>\u001b[0m in \u001b[0;36m<module>\u001b[1;34m\u001b[0m\n\u001b[1;32m----> 1\u001b[1;33m \u001b[0mmetrics\u001b[0m\u001b[1;33m.\u001b[0m\u001b[0mconfusion_matrix\u001b[0m\u001b[1;33m(\u001b[0m\u001b[0mpred\u001b[0m\u001b[1;33m,\u001b[0m\u001b[0my_test\u001b[0m\u001b[1;33m)\u001b[0m\u001b[1;33m\u001b[0m\u001b[1;33m\u001b[0m\u001b[0m\n\u001b[0m",
      "\u001b[1;31mNameError\u001b[0m: name 'pred' is not defined"
     ]
    }
   ],
   "source": [
    "metrics.confusion_matrix(pred,y_test)"
   ]
  },
  {
   "cell_type": "code",
   "execution_count": 139,
   "id": "7f52487e",
   "metadata": {},
   "outputs": [
    {
     "ename": "NameError",
     "evalue": "name 'pred' is not defined",
     "output_type": "error",
     "traceback": [
      "\u001b[1;31m---------------------------------------------------------------------------\u001b[0m",
      "\u001b[1;31mNameError\u001b[0m                                 Traceback (most recent call last)",
      "\u001b[1;32m<ipython-input-139-038c1aaacf84>\u001b[0m in \u001b[0;36m<module>\u001b[1;34m\u001b[0m\n\u001b[1;32m----> 1\u001b[1;33m \u001b[0mmetrics\u001b[0m\u001b[1;33m.\u001b[0m\u001b[0maccuracy_score\u001b[0m\u001b[1;33m(\u001b[0m\u001b[0mpred\u001b[0m\u001b[1;33m,\u001b[0m\u001b[0my_test\u001b[0m\u001b[1;33m)\u001b[0m\u001b[1;33m\u001b[0m\u001b[1;33m\u001b[0m\u001b[0m\n\u001b[0m",
      "\u001b[1;31mNameError\u001b[0m: name 'pred' is not defined"
     ]
    }
   ],
   "source": [
    "metrics.accuracy_score(pred,y_test)"
   ]
  },
  {
   "cell_type": "code",
   "execution_count": 140,
   "id": "ce0579af",
   "metadata": {},
   "outputs": [
    {
     "ename": "NameError",
     "evalue": "name 'pred' is not defined",
     "output_type": "error",
     "traceback": [
      "\u001b[1;31m---------------------------------------------------------------------------\u001b[0m",
      "\u001b[1;31mNameError\u001b[0m                                 Traceback (most recent call last)",
      "\u001b[1;32m<ipython-input-140-0639bf6eb8f7>\u001b[0m in \u001b[0;36m<module>\u001b[1;34m\u001b[0m\n\u001b[1;32m----> 1\u001b[1;33m \u001b[0mprint\u001b[0m\u001b[1;33m(\u001b[0m\u001b[0mmetrics\u001b[0m\u001b[1;33m.\u001b[0m\u001b[0mclassification_report\u001b[0m\u001b[1;33m(\u001b[0m\u001b[0my_test\u001b[0m\u001b[1;33m,\u001b[0m\u001b[0mpred\u001b[0m\u001b[1;33m)\u001b[0m\u001b[1;33m)\u001b[0m\u001b[1;33m\u001b[0m\u001b[1;33m\u001b[0m\u001b[0m\n\u001b[0m",
      "\u001b[1;31mNameError\u001b[0m: name 'pred' is not defined"
     ]
    }
   ],
   "source": [
    "print(metrics.classification_report(y_test,pred))"
   ]
  },
  {
   "cell_type": "code",
   "execution_count": null,
   "id": "4fd3bafa",
   "metadata": {},
   "outputs": [],
   "source": []
  }
 ],
 "metadata": {
  "kernelspec": {
   "display_name": "Python 3",
   "language": "python",
   "name": "python3"
  },
  "language_info": {
   "codemirror_mode": {
    "name": "ipython",
    "version": 3
   },
   "file_extension": ".py",
   "mimetype": "text/x-python",
   "name": "python",
   "nbconvert_exporter": "python",
   "pygments_lexer": "ipython3",
   "version": "3.8.8"
  }
 },
 "nbformat": 4,
 "nbformat_minor": 5
}
