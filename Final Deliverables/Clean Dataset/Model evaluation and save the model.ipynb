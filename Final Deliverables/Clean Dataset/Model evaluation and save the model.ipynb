{
  "nbformat": 4,
  "nbformat_minor": 0,
  "metadata": {
    "colab": {
      "provenance": []
    },
    "kernelspec": {
      "name": "python3",
      "display_name": "Python 3"
    },
    "language_info": {
      "name": "python"
    }
  },
  "cells": [
    {
      "cell_type": "markdown",
      "source": [
        "# **Chronic Kidney Disease Prediction Using Machine Learning Algorithms**\n",
        "\n",
        "---\n",
        "\n"
      ],
      "metadata": {
        "id": "ncZ_fdrZUGxE"
      }
    },
    {
      "cell_type": "markdown",
      "source": [
        "## **Import Library**"
      ],
      "metadata": {
        "id": "pnqZJFjWUQvV"
      }
    },
    {
      "cell_type": "code",
      "execution_count": null,
      "metadata": {
        "id": "6xZDeVKOo1W_"
      },
      "outputs": [],
      "source": [
        "import pandas as pd\n",
        "import numpy as np\n",
        "import matplotlib.pyplot as plt\n",
        "import sklearn as sk\n",
        "import seaborn as sns\n",
        "import missingno as msn\n",
        "from sklearn.preprocessing import LabelEncoder\n",
        "from sklearn.model_selection import train_test_split\n",
        "from sklearn.preprocessing import StandardScaler\n",
        "from sklearn.linear_model import LogisticRegression\n",
        "from sklearn.neighbors import KNeighborsClassifier\n",
        "from sklearn.tree import DecisionTreeClassifier"
      ]
    },
    {
      "cell_type": "markdown",
      "source": [
        "## **Import Data**"
      ],
      "metadata": {
        "id": "K0L8NiLCUvbm"
      }
    },
    {
      "cell_type": "code",
      "source": [
        "df=pd.read_csv('/content/chronic_kidney_disease.csv')\n",
        "df"
      ],
      "metadata": {
        "colab": {
          "base_uri": "https://localhost:8080/",
          "height": 424
        },
        "id": "G2bq5sM1q8vY",
        "outputId": "680ef0db-832c-47c6-e4a5-c00c9759fae5"
      },
      "execution_count": null,
      "outputs": [
        {
          "output_type": "execute_result",
          "data": {
            "text/plain": [
              "      id   age    bp     sg   al   su     rbc        pc         pcc  \\\n",
              "0      0  48.0  80.0  1.020  1.0  0.0     NaN    normal  notpresent   \n",
              "1      1   7.0  50.0  1.020  4.0  0.0     NaN    normal  notpresent   \n",
              "2      2  62.0  80.0  1.010  2.0  3.0  normal    normal  notpresent   \n",
              "3      3  48.0  70.0  1.005  4.0  0.0  normal  abnormal     present   \n",
              "4      4  51.0  80.0  1.010  2.0  0.0  normal    normal  notpresent   \n",
              "..   ...   ...   ...    ...  ...  ...     ...       ...         ...   \n",
              "395  395  55.0  80.0  1.020  0.0  0.0  normal    normal  notpresent   \n",
              "396  396  42.0  70.0  1.025  0.0  0.0  normal    normal  notpresent   \n",
              "397  397  12.0  80.0  1.020  0.0  0.0  normal    normal  notpresent   \n",
              "398  398  17.0  60.0  1.025  0.0  0.0  normal    normal  notpresent   \n",
              "399  399  58.0  80.0  1.025  0.0  0.0  normal    normal  notpresent   \n",
              "\n",
              "             ba  ...  pcv    wc   rc  htn   dm  cad appet   pe  ane  \\\n",
              "0    notpresent  ...   44  7800  5.2  yes  yes   no  good   no   no   \n",
              "1    notpresent  ...   38  6000  NaN   no   no   no  good   no   no   \n",
              "2    notpresent  ...   31  7500  NaN   no  yes   no  poor   no  yes   \n",
              "3    notpresent  ...   32  6700  3.9  yes   no   no  poor  yes  yes   \n",
              "4    notpresent  ...   35  7300  4.6   no   no   no  good   no   no   \n",
              "..          ...  ...  ...   ...  ...  ...  ...  ...   ...  ...  ...   \n",
              "395  notpresent  ...   47  6700  4.9   no   no   no  good   no   no   \n",
              "396  notpresent  ...   54  7800  6.2   no   no   no  good   no   no   \n",
              "397  notpresent  ...   49  6600  5.4   no   no   no  good   no   no   \n",
              "398  notpresent  ...   51  7200  5.9   no   no   no  good   no   no   \n",
              "399  notpresent  ...   53  6800  6.1   no   no   no  good   no   no   \n",
              "\n",
              "    classification  \n",
              "0              ckd  \n",
              "1              ckd  \n",
              "2              ckd  \n",
              "3              ckd  \n",
              "4              ckd  \n",
              "..             ...  \n",
              "395         notckd  \n",
              "396         notckd  \n",
              "397         notckd  \n",
              "398         notckd  \n",
              "399         notckd  \n",
              "\n",
              "[400 rows x 26 columns]"
            ],
            "text/html": [
              "\n",
              "  <div id=\"df-9cfa3f9e-c92f-41f3-8045-41aa05941353\">\n",
              "    <div class=\"colab-df-container\">\n",
              "      <div>\n",
              "<style scoped>\n",
              "    .dataframe tbody tr th:only-of-type {\n",
              "        vertical-align: middle;\n",
              "    }\n",
              "\n",
              "    .dataframe tbody tr th {\n",
              "        vertical-align: top;\n",
              "    }\n",
              "\n",
              "    .dataframe thead th {\n",
              "        text-align: right;\n",
              "    }\n",
              "</style>\n",
              "<table border=\"1\" class=\"dataframe\">\n",
              "  <thead>\n",
              "    <tr style=\"text-align: right;\">\n",
              "      <th></th>\n",
              "      <th>id</th>\n",
              "      <th>age</th>\n",
              "      <th>bp</th>\n",
              "      <th>sg</th>\n",
              "      <th>al</th>\n",
              "      <th>su</th>\n",
              "      <th>rbc</th>\n",
              "      <th>pc</th>\n",
              "      <th>pcc</th>\n",
              "      <th>ba</th>\n",
              "      <th>...</th>\n",
              "      <th>pcv</th>\n",
              "      <th>wc</th>\n",
              "      <th>rc</th>\n",
              "      <th>htn</th>\n",
              "      <th>dm</th>\n",
              "      <th>cad</th>\n",
              "      <th>appet</th>\n",
              "      <th>pe</th>\n",
              "      <th>ane</th>\n",
              "      <th>classification</th>\n",
              "    </tr>\n",
              "  </thead>\n",
              "  <tbody>\n",
              "    <tr>\n",
              "      <th>0</th>\n",
              "      <td>0</td>\n",
              "      <td>48.0</td>\n",
              "      <td>80.0</td>\n",
              "      <td>1.020</td>\n",
              "      <td>1.0</td>\n",
              "      <td>0.0</td>\n",
              "      <td>NaN</td>\n",
              "      <td>normal</td>\n",
              "      <td>notpresent</td>\n",
              "      <td>notpresent</td>\n",
              "      <td>...</td>\n",
              "      <td>44</td>\n",
              "      <td>7800</td>\n",
              "      <td>5.2</td>\n",
              "      <td>yes</td>\n",
              "      <td>yes</td>\n",
              "      <td>no</td>\n",
              "      <td>good</td>\n",
              "      <td>no</td>\n",
              "      <td>no</td>\n",
              "      <td>ckd</td>\n",
              "    </tr>\n",
              "    <tr>\n",
              "      <th>1</th>\n",
              "      <td>1</td>\n",
              "      <td>7.0</td>\n",
              "      <td>50.0</td>\n",
              "      <td>1.020</td>\n",
              "      <td>4.0</td>\n",
              "      <td>0.0</td>\n",
              "      <td>NaN</td>\n",
              "      <td>normal</td>\n",
              "      <td>notpresent</td>\n",
              "      <td>notpresent</td>\n",
              "      <td>...</td>\n",
              "      <td>38</td>\n",
              "      <td>6000</td>\n",
              "      <td>NaN</td>\n",
              "      <td>no</td>\n",
              "      <td>no</td>\n",
              "      <td>no</td>\n",
              "      <td>good</td>\n",
              "      <td>no</td>\n",
              "      <td>no</td>\n",
              "      <td>ckd</td>\n",
              "    </tr>\n",
              "    <tr>\n",
              "      <th>2</th>\n",
              "      <td>2</td>\n",
              "      <td>62.0</td>\n",
              "      <td>80.0</td>\n",
              "      <td>1.010</td>\n",
              "      <td>2.0</td>\n",
              "      <td>3.0</td>\n",
              "      <td>normal</td>\n",
              "      <td>normal</td>\n",
              "      <td>notpresent</td>\n",
              "      <td>notpresent</td>\n",
              "      <td>...</td>\n",
              "      <td>31</td>\n",
              "      <td>7500</td>\n",
              "      <td>NaN</td>\n",
              "      <td>no</td>\n",
              "      <td>yes</td>\n",
              "      <td>no</td>\n",
              "      <td>poor</td>\n",
              "      <td>no</td>\n",
              "      <td>yes</td>\n",
              "      <td>ckd</td>\n",
              "    </tr>\n",
              "    <tr>\n",
              "      <th>3</th>\n",
              "      <td>3</td>\n",
              "      <td>48.0</td>\n",
              "      <td>70.0</td>\n",
              "      <td>1.005</td>\n",
              "      <td>4.0</td>\n",
              "      <td>0.0</td>\n",
              "      <td>normal</td>\n",
              "      <td>abnormal</td>\n",
              "      <td>present</td>\n",
              "      <td>notpresent</td>\n",
              "      <td>...</td>\n",
              "      <td>32</td>\n",
              "      <td>6700</td>\n",
              "      <td>3.9</td>\n",
              "      <td>yes</td>\n",
              "      <td>no</td>\n",
              "      <td>no</td>\n",
              "      <td>poor</td>\n",
              "      <td>yes</td>\n",
              "      <td>yes</td>\n",
              "      <td>ckd</td>\n",
              "    </tr>\n",
              "    <tr>\n",
              "      <th>4</th>\n",
              "      <td>4</td>\n",
              "      <td>51.0</td>\n",
              "      <td>80.0</td>\n",
              "      <td>1.010</td>\n",
              "      <td>2.0</td>\n",
              "      <td>0.0</td>\n",
              "      <td>normal</td>\n",
              "      <td>normal</td>\n",
              "      <td>notpresent</td>\n",
              "      <td>notpresent</td>\n",
              "      <td>...</td>\n",
              "      <td>35</td>\n",
              "      <td>7300</td>\n",
              "      <td>4.6</td>\n",
              "      <td>no</td>\n",
              "      <td>no</td>\n",
              "      <td>no</td>\n",
              "      <td>good</td>\n",
              "      <td>no</td>\n",
              "      <td>no</td>\n",
              "      <td>ckd</td>\n",
              "    </tr>\n",
              "    <tr>\n",
              "      <th>...</th>\n",
              "      <td>...</td>\n",
              "      <td>...</td>\n",
              "      <td>...</td>\n",
              "      <td>...</td>\n",
              "      <td>...</td>\n",
              "      <td>...</td>\n",
              "      <td>...</td>\n",
              "      <td>...</td>\n",
              "      <td>...</td>\n",
              "      <td>...</td>\n",
              "      <td>...</td>\n",
              "      <td>...</td>\n",
              "      <td>...</td>\n",
              "      <td>...</td>\n",
              "      <td>...</td>\n",
              "      <td>...</td>\n",
              "      <td>...</td>\n",
              "      <td>...</td>\n",
              "      <td>...</td>\n",
              "      <td>...</td>\n",
              "      <td>...</td>\n",
              "    </tr>\n",
              "    <tr>\n",
              "      <th>395</th>\n",
              "      <td>395</td>\n",
              "      <td>55.0</td>\n",
              "      <td>80.0</td>\n",
              "      <td>1.020</td>\n",
              "      <td>0.0</td>\n",
              "      <td>0.0</td>\n",
              "      <td>normal</td>\n",
              "      <td>normal</td>\n",
              "      <td>notpresent</td>\n",
              "      <td>notpresent</td>\n",
              "      <td>...</td>\n",
              "      <td>47</td>\n",
              "      <td>6700</td>\n",
              "      <td>4.9</td>\n",
              "      <td>no</td>\n",
              "      <td>no</td>\n",
              "      <td>no</td>\n",
              "      <td>good</td>\n",
              "      <td>no</td>\n",
              "      <td>no</td>\n",
              "      <td>notckd</td>\n",
              "    </tr>\n",
              "    <tr>\n",
              "      <th>396</th>\n",
              "      <td>396</td>\n",
              "      <td>42.0</td>\n",
              "      <td>70.0</td>\n",
              "      <td>1.025</td>\n",
              "      <td>0.0</td>\n",
              "      <td>0.0</td>\n",
              "      <td>normal</td>\n",
              "      <td>normal</td>\n",
              "      <td>notpresent</td>\n",
              "      <td>notpresent</td>\n",
              "      <td>...</td>\n",
              "      <td>54</td>\n",
              "      <td>7800</td>\n",
              "      <td>6.2</td>\n",
              "      <td>no</td>\n",
              "      <td>no</td>\n",
              "      <td>no</td>\n",
              "      <td>good</td>\n",
              "      <td>no</td>\n",
              "      <td>no</td>\n",
              "      <td>notckd</td>\n",
              "    </tr>\n",
              "    <tr>\n",
              "      <th>397</th>\n",
              "      <td>397</td>\n",
              "      <td>12.0</td>\n",
              "      <td>80.0</td>\n",
              "      <td>1.020</td>\n",
              "      <td>0.0</td>\n",
              "      <td>0.0</td>\n",
              "      <td>normal</td>\n",
              "      <td>normal</td>\n",
              "      <td>notpresent</td>\n",
              "      <td>notpresent</td>\n",
              "      <td>...</td>\n",
              "      <td>49</td>\n",
              "      <td>6600</td>\n",
              "      <td>5.4</td>\n",
              "      <td>no</td>\n",
              "      <td>no</td>\n",
              "      <td>no</td>\n",
              "      <td>good</td>\n",
              "      <td>no</td>\n",
              "      <td>no</td>\n",
              "      <td>notckd</td>\n",
              "    </tr>\n",
              "    <tr>\n",
              "      <th>398</th>\n",
              "      <td>398</td>\n",
              "      <td>17.0</td>\n",
              "      <td>60.0</td>\n",
              "      <td>1.025</td>\n",
              "      <td>0.0</td>\n",
              "      <td>0.0</td>\n",
              "      <td>normal</td>\n",
              "      <td>normal</td>\n",
              "      <td>notpresent</td>\n",
              "      <td>notpresent</td>\n",
              "      <td>...</td>\n",
              "      <td>51</td>\n",
              "      <td>7200</td>\n",
              "      <td>5.9</td>\n",
              "      <td>no</td>\n",
              "      <td>no</td>\n",
              "      <td>no</td>\n",
              "      <td>good</td>\n",
              "      <td>no</td>\n",
              "      <td>no</td>\n",
              "      <td>notckd</td>\n",
              "    </tr>\n",
              "    <tr>\n",
              "      <th>399</th>\n",
              "      <td>399</td>\n",
              "      <td>58.0</td>\n",
              "      <td>80.0</td>\n",
              "      <td>1.025</td>\n",
              "      <td>0.0</td>\n",
              "      <td>0.0</td>\n",
              "      <td>normal</td>\n",
              "      <td>normal</td>\n",
              "      <td>notpresent</td>\n",
              "      <td>notpresent</td>\n",
              "      <td>...</td>\n",
              "      <td>53</td>\n",
              "      <td>6800</td>\n",
              "      <td>6.1</td>\n",
              "      <td>no</td>\n",
              "      <td>no</td>\n",
              "      <td>no</td>\n",
              "      <td>good</td>\n",
              "      <td>no</td>\n",
              "      <td>no</td>\n",
              "      <td>notckd</td>\n",
              "    </tr>\n",
              "  </tbody>\n",
              "</table>\n",
              "<p>400 rows � 26 columns</p>\n",
              "</div>\n",
              "      <button class=\"colab-df-convert\" onclick=\"convertToInteractive('df-9cfa3f9e-c92f-41f3-8045-41aa05941353')\"\n",
              "              title=\"Convert this dataframe to an interactive table.\"\n",
              "              style=\"display:none;\">\n",
              "        \n",
              "  <svg xmlns=\"http://www.w3.org/2000/svg\" height=\"24px\"viewBox=\"0 0 24 24\"\n",
              "       width=\"24px\">\n",
              "    <path d=\"M0 0h24v24H0V0z\" fill=\"none\"/>\n",
              "    <path d=\"M18.56 5.44l.94 2.06.94-2.06 2.06-.94-2.06-.94-.94-2.06-.94 2.06-2.06.94zm-11 1L8.5 8.5l.94-2.06 2.06-.94-2.06-.94L8.5 2.5l-.94 2.06-2.06.94zm10 10l.94 2.06.94-2.06 2.06-.94-2.06-.94-.94-2.06-.94 2.06-2.06.94z\"/><path d=\"M17.41 7.96l-1.37-1.37c-.4-.4-.92-.59-1.43-.59-.52 0-1.04.2-1.43.59L10.3 9.45l-7.72 7.72c-.78.78-.78 2.05 0 2.83L4 21.41c.39.39.9.59 1.41.59.51 0 1.02-.2 1.41-.59l7.78-7.78 2.81-2.81c.8-.78.8-2.07 0-2.86zM5.41 20L4 18.59l7.72-7.72 1.47 1.35L5.41 20z\"/>\n",
              "  </svg>\n",
              "      </button>\n",
              "      \n",
              "  <style>\n",
              "    .colab-df-container {\n",
              "      display:flex;\n",
              "      flex-wrap:wrap;\n",
              "      gap: 12px;\n",
              "    }\n",
              "\n",
              "    .colab-df-convert {\n",
              "      background-color: #E8F0FE;\n",
              "      border: none;\n",
              "      border-radius: 50%;\n",
              "      cursor: pointer;\n",
              "      display: none;\n",
              "      fill: #1967D2;\n",
              "      height: 32px;\n",
              "      padding: 0 0 0 0;\n",
              "      width: 32px;\n",
              "    }\n",
              "\n",
              "    .colab-df-convert:hover {\n",
              "      background-color: #E2EBFA;\n",
              "      box-shadow: 0px 1px 2px rgba(60, 64, 67, 0.3), 0px 1px 3px 1px rgba(60, 64, 67, 0.15);\n",
              "      fill: #174EA6;\n",
              "    }\n",
              "\n",
              "    [theme=dark] .colab-df-convert {\n",
              "      background-color: #3B4455;\n",
              "      fill: #D2E3FC;\n",
              "    }\n",
              "\n",
              "    [theme=dark] .colab-df-convert:hover {\n",
              "      background-color: #434B5C;\n",
              "      box-shadow: 0px 1px 3px 1px rgba(0, 0, 0, 0.15);\n",
              "      filter: drop-shadow(0px 1px 2px rgba(0, 0, 0, 0.3));\n",
              "      fill: #FFFFFF;\n",
              "    }\n",
              "  </style>\n",
              "\n",
              "      <script>\n",
              "        const buttonEl =\n",
              "          document.querySelector('#df-9cfa3f9e-c92f-41f3-8045-41aa05941353 button.colab-df-convert');\n",
              "        buttonEl.style.display =\n",
              "          google.colab.kernel.accessAllowed ? 'block' : 'none';\n",
              "\n",
              "        async function convertToInteractive(key) {\n",
              "          const element = document.querySelector('#df-9cfa3f9e-c92f-41f3-8045-41aa05941353');\n",
              "          const dataTable =\n",
              "            await google.colab.kernel.invokeFunction('convertToInteractive',\n",
              "                                                     [key], {});\n",
              "          if (!dataTable) return;\n",
              "\n",
              "          const docLinkHtml = 'Like what you see? Visit the ' +\n",
              "            '<a target=\"_blank\" href=https://colab.research.google.com/notebooks/data_table.ipynb>data table notebook</a>'\n",
              "            + ' to learn more about interactive tables.';\n",
              "          element.innerHTML = '';\n",
              "          dataTable['output_type'] = 'display_data';\n",
              "          await google.colab.output.renderOutput(dataTable, element);\n",
              "          const docLink = document.createElement('div');\n",
              "          docLink.innerHTML = docLinkHtml;\n",
              "          element.appendChild(docLink);\n",
              "        }\n",
              "      </script>\n",
              "    </div>\n",
              "  </div>\n",
              "  "
            ]
          },
          "metadata": {},
          "execution_count": 2
        }
      ]
    },
    {
      "cell_type": "markdown",
      "source": [
        "## **Describe Data**"
      ],
      "metadata": {
        "id": "6fNwL-_cUzK2"
      }
    },
    {
      "cell_type": "code",
      "source": [
        "df.shape"
      ],
      "metadata": {
        "colab": {
          "base_uri": "https://localhost:8080/"
        },
        "id": "rT0Z0K-wrN53",
        "outputId": "8ab5e536-b77b-4b62-fa55-d906e2c325bf"
      },
      "execution_count": null,
      "outputs": [
        {
          "output_type": "execute_result",
          "data": {
            "text/plain": [
              "(400, 26)"
            ]
          },
          "metadata": {},
          "execution_count": 3
        }
      ]
    },
    {
      "cell_type": "code",
      "source": [
        "df.head()\n"
      ],
      "metadata": {
        "colab": {
          "base_uri": "https://localhost:8080/",
          "height": 236
        },
        "id": "-4QtcG8OrUX_",
        "outputId": "5f3ed2ec-d4c6-44c6-cd30-fdafaa4c8b22"
      },
      "execution_count": null,
      "outputs": [
        {
          "output_type": "execute_result",
          "data": {
            "text/plain": [
              "   id   age    bp     sg   al   su     rbc        pc         pcc          ba  \\\n",
              "0   0  48.0  80.0  1.020  1.0  0.0     NaN    normal  notpresent  notpresent   \n",
              "1   1   7.0  50.0  1.020  4.0  0.0     NaN    normal  notpresent  notpresent   \n",
              "2   2  62.0  80.0  1.010  2.0  3.0  normal    normal  notpresent  notpresent   \n",
              "3   3  48.0  70.0  1.005  4.0  0.0  normal  abnormal     present  notpresent   \n",
              "4   4  51.0  80.0  1.010  2.0  0.0  normal    normal  notpresent  notpresent   \n",
              "\n",
              "   ...  pcv    wc   rc  htn   dm  cad appet   pe  ane classification  \n",
              "0  ...   44  7800  5.2  yes  yes   no  good   no   no            ckd  \n",
              "1  ...   38  6000  NaN   no   no   no  good   no   no            ckd  \n",
              "2  ...   31  7500  NaN   no  yes   no  poor   no  yes            ckd  \n",
              "3  ...   32  6700  3.9  yes   no   no  poor  yes  yes            ckd  \n",
              "4  ...   35  7300  4.6   no   no   no  good   no   no            ckd  \n",
              "\n",
              "[5 rows x 26 columns]"
            ],
            "text/html": [
              "\n",
              "  <div id=\"df-b9bbabdc-035f-4f32-8ca8-cffb027c02f9\">\n",
              "    <div class=\"colab-df-container\">\n",
              "      <div>\n",
              "<style scoped>\n",
              "    .dataframe tbody tr th:only-of-type {\n",
              "        vertical-align: middle;\n",
              "    }\n",
              "\n",
              "    .dataframe tbody tr th {\n",
              "        vertical-align: top;\n",
              "    }\n",
              "\n",
              "    .dataframe thead th {\n",
              "        text-align: right;\n",
              "    }\n",
              "</style>\n",
              "<table border=\"1\" class=\"dataframe\">\n",
              "  <thead>\n",
              "    <tr style=\"text-align: right;\">\n",
              "      <th></th>\n",
              "      <th>id</th>\n",
              "      <th>age</th>\n",
              "      <th>bp</th>\n",
              "      <th>sg</th>\n",
              "      <th>al</th>\n",
              "      <th>su</th>\n",
              "      <th>rbc</th>\n",
              "      <th>pc</th>\n",
              "      <th>pcc</th>\n",
              "      <th>ba</th>\n",
              "      <th>...</th>\n",
              "      <th>pcv</th>\n",
              "      <th>wc</th>\n",
              "      <th>rc</th>\n",
              "      <th>htn</th>\n",
              "      <th>dm</th>\n",
              "      <th>cad</th>\n",
              "      <th>appet</th>\n",
              "      <th>pe</th>\n",
              "      <th>ane</th>\n",
              "      <th>classification</th>\n",
              "    </tr>\n",
              "  </thead>\n",
              "  <tbody>\n",
              "    <tr>\n",
              "      <th>0</th>\n",
              "      <td>0</td>\n",
              "      <td>48.0</td>\n",
              "      <td>80.0</td>\n",
              "      <td>1.020</td>\n",
              "      <td>1.0</td>\n",
              "      <td>0.0</td>\n",
              "      <td>NaN</td>\n",
              "      <td>normal</td>\n",
              "      <td>notpresent</td>\n",
              "      <td>notpresent</td>\n",
              "      <td>...</td>\n",
              "      <td>44</td>\n",
              "      <td>7800</td>\n",
              "      <td>5.2</td>\n",
              "      <td>yes</td>\n",
              "      <td>yes</td>\n",
              "      <td>no</td>\n",
              "      <td>good</td>\n",
              "      <td>no</td>\n",
              "      <td>no</td>\n",
              "      <td>ckd</td>\n",
              "    </tr>\n",
              "    <tr>\n",
              "      <th>1</th>\n",
              "      <td>1</td>\n",
              "      <td>7.0</td>\n",
              "      <td>50.0</td>\n",
              "      <td>1.020</td>\n",
              "      <td>4.0</td>\n",
              "      <td>0.0</td>\n",
              "      <td>NaN</td>\n",
              "      <td>normal</td>\n",
              "      <td>notpresent</td>\n",
              "      <td>notpresent</td>\n",
              "      <td>...</td>\n",
              "      <td>38</td>\n",
              "      <td>6000</td>\n",
              "      <td>NaN</td>\n",
              "      <td>no</td>\n",
              "      <td>no</td>\n",
              "      <td>no</td>\n",
              "      <td>good</td>\n",
              "      <td>no</td>\n",
              "      <td>no</td>\n",
              "      <td>ckd</td>\n",
              "    </tr>\n",
              "    <tr>\n",
              "      <th>2</th>\n",
              "      <td>2</td>\n",
              "      <td>62.0</td>\n",
              "      <td>80.0</td>\n",
              "      <td>1.010</td>\n",
              "      <td>2.0</td>\n",
              "      <td>3.0</td>\n",
              "      <td>normal</td>\n",
              "      <td>normal</td>\n",
              "      <td>notpresent</td>\n",
              "      <td>notpresent</td>\n",
              "      <td>...</td>\n",
              "      <td>31</td>\n",
              "      <td>7500</td>\n",
              "      <td>NaN</td>\n",
              "      <td>no</td>\n",
              "      <td>yes</td>\n",
              "      <td>no</td>\n",
              "      <td>poor</td>\n",
              "      <td>no</td>\n",
              "      <td>yes</td>\n",
              "      <td>ckd</td>\n",
              "    </tr>\n",
              "    <tr>\n",
              "      <th>3</th>\n",
              "      <td>3</td>\n",
              "      <td>48.0</td>\n",
              "      <td>70.0</td>\n",
              "      <td>1.005</td>\n",
              "      <td>4.0</td>\n",
              "      <td>0.0</td>\n",
              "      <td>normal</td>\n",
              "      <td>abnormal</td>\n",
              "      <td>present</td>\n",
              "      <td>notpresent</td>\n",
              "      <td>...</td>\n",
              "      <td>32</td>\n",
              "      <td>6700</td>\n",
              "      <td>3.9</td>\n",
              "      <td>yes</td>\n",
              "      <td>no</td>\n",
              "      <td>no</td>\n",
              "      <td>poor</td>\n",
              "      <td>yes</td>\n",
              "      <td>yes</td>\n",
              "      <td>ckd</td>\n",
              "    </tr>\n",
              "    <tr>\n",
              "      <th>4</th>\n",
              "      <td>4</td>\n",
              "      <td>51.0</td>\n",
              "      <td>80.0</td>\n",
              "      <td>1.010</td>\n",
              "      <td>2.0</td>\n",
              "      <td>0.0</td>\n",
              "      <td>normal</td>\n",
              "      <td>normal</td>\n",
              "      <td>notpresent</td>\n",
              "      <td>notpresent</td>\n",
              "      <td>...</td>\n",
              "      <td>35</td>\n",
              "      <td>7300</td>\n",
              "      <td>4.6</td>\n",
              "      <td>no</td>\n",
              "      <td>no</td>\n",
              "      <td>no</td>\n",
              "      <td>good</td>\n",
              "      <td>no</td>\n",
              "      <td>no</td>\n",
              "      <td>ckd</td>\n",
              "    </tr>\n",
              "  </tbody>\n",
              "</table>\n",
              "<p>5 rows � 26 columns</p>\n",
              "</div>\n",
              "      <button class=\"colab-df-convert\" onclick=\"convertToInteractive('df-b9bbabdc-035f-4f32-8ca8-cffb027c02f9')\"\n",
              "              title=\"Convert this dataframe to an interactive table.\"\n",
              "              style=\"display:none;\">\n",
              "        \n",
              "  <svg xmlns=\"http://www.w3.org/2000/svg\" height=\"24px\"viewBox=\"0 0 24 24\"\n",
              "       width=\"24px\">\n",
              "    <path d=\"M0 0h24v24H0V0z\" fill=\"none\"/>\n",
              "    <path d=\"M18.56 5.44l.94 2.06.94-2.06 2.06-.94-2.06-.94-.94-2.06-.94 2.06-2.06.94zm-11 1L8.5 8.5l.94-2.06 2.06-.94-2.06-.94L8.5 2.5l-.94 2.06-2.06.94zm10 10l.94 2.06.94-2.06 2.06-.94-2.06-.94-.94-2.06-.94 2.06-2.06.94z\"/><path d=\"M17.41 7.96l-1.37-1.37c-.4-.4-.92-.59-1.43-.59-.52 0-1.04.2-1.43.59L10.3 9.45l-7.72 7.72c-.78.78-.78 2.05 0 2.83L4 21.41c.39.39.9.59 1.41.59.51 0 1.02-.2 1.41-.59l7.78-7.78 2.81-2.81c.8-.78.8-2.07 0-2.86zM5.41 20L4 18.59l7.72-7.72 1.47 1.35L5.41 20z\"/>\n",
              "  </svg>\n",
              "      </button>\n",
              "      \n",
              "  <style>\n",
              "    .colab-df-container {\n",
              "      display:flex;\n",
              "      flex-wrap:wrap;\n",
              "      gap: 12px;\n",
              "    }\n",
              "\n",
              "    .colab-df-convert {\n",
              "      background-color: #E8F0FE;\n",
              "      border: none;\n",
              "      border-radius: 50%;\n",
              "      cursor: pointer;\n",
              "      display: none;\n",
              "      fill: #1967D2;\n",
              "      height: 32px;\n",
              "      padding: 0 0 0 0;\n",
              "      width: 32px;\n",
              "    }\n",
              "\n",
              "    .colab-df-convert:hover {\n",
              "      background-color: #E2EBFA;\n",
              "      box-shadow: 0px 1px 2px rgba(60, 64, 67, 0.3), 0px 1px 3px 1px rgba(60, 64, 67, 0.15);\n",
              "      fill: #174EA6;\n",
              "    }\n",
              "\n",
              "    [theme=dark] .colab-df-convert {\n",
              "      background-color: #3B4455;\n",
              "      fill: #D2E3FC;\n",
              "    }\n",
              "\n",
              "    [theme=dark] .colab-df-convert:hover {\n",
              "      background-color: #434B5C;\n",
              "      box-shadow: 0px 1px 3px 1px rgba(0, 0, 0, 0.15);\n",
              "      filter: drop-shadow(0px 1px 2px rgba(0, 0, 0, 0.3));\n",
              "      fill: #FFFFFF;\n",
              "    }\n",
              "  </style>\n",
              "\n",
              "      <script>\n",
              "        const buttonEl =\n",
              "          document.querySelector('#df-b9bbabdc-035f-4f32-8ca8-cffb027c02f9 button.colab-df-convert');\n",
              "        buttonEl.style.display =\n",
              "          google.colab.kernel.accessAllowed ? 'block' : 'none';\n",
              "\n",
              "        async function convertToInteractive(key) {\n",
              "          const element = document.querySelector('#df-b9bbabdc-035f-4f32-8ca8-cffb027c02f9');\n",
              "          const dataTable =\n",
              "            await google.colab.kernel.invokeFunction('convertToInteractive',\n",
              "                                                     [key], {});\n",
              "          if (!dataTable) return;\n",
              "\n",
              "          const docLinkHtml = 'Like what you see? Visit the ' +\n",
              "            '<a target=\"_blank\" href=https://colab.research.google.com/notebooks/data_table.ipynb>data table notebook</a>'\n",
              "            + ' to learn more about interactive tables.';\n",
              "          element.innerHTML = '';\n",
              "          dataTable['output_type'] = 'display_data';\n",
              "          await google.colab.output.renderOutput(dataTable, element);\n",
              "          const docLink = document.createElement('div');\n",
              "          docLink.innerHTML = docLinkHtml;\n",
              "          element.appendChild(docLink);\n",
              "        }\n",
              "      </script>\n",
              "    </div>\n",
              "  </div>\n",
              "  "
            ]
          },
          "metadata": {},
          "execution_count": 4
        }
      ]
    },
    {
      "cell_type": "code",
      "source": [
        "df.describe()"
      ],
      "metadata": {
        "colab": {
          "base_uri": "https://localhost:8080/",
          "height": 300
        },
        "id": "rCveuLr1rXen",
        "outputId": "255c6985-532a-4518-8e1d-b3c82a005e98"
      },
      "execution_count": null,
      "outputs": [
        {
          "output_type": "execute_result",
          "data": {
            "text/plain": [
              "               id         age          bp          sg          al          su  \\\n",
              "count  400.000000  391.000000  388.000000  353.000000  354.000000  351.000000   \n",
              "mean   199.500000   51.483376   76.469072    1.017408    1.016949    0.450142   \n",
              "std    115.614301   17.169714   13.683637    0.005717    1.352679    1.099191   \n",
              "min      0.000000    2.000000   50.000000    1.005000    0.000000    0.000000   \n",
              "25%     99.750000   42.000000   70.000000    1.010000    0.000000    0.000000   \n",
              "50%    199.500000   55.000000   80.000000    1.020000    0.000000    0.000000   \n",
              "75%    299.250000   64.500000   80.000000    1.020000    2.000000    0.000000   \n",
              "max    399.000000   90.000000  180.000000    1.025000    5.000000    5.000000   \n",
              "\n",
              "              bgr          bu          sc         sod         pot        hemo  \n",
              "count  356.000000  381.000000  383.000000  313.000000  312.000000  348.000000  \n",
              "mean   148.036517   57.425722    3.072454  137.528754    4.627244   12.526437  \n",
              "std     79.281714   50.503006    5.741126   10.408752    3.193904    2.912587  \n",
              "min     22.000000    1.500000    0.400000    4.500000    2.500000    3.100000  \n",
              "25%     99.000000   27.000000    0.900000  135.000000    3.800000   10.300000  \n",
              "50%    121.000000   42.000000    1.300000  138.000000    4.400000   12.650000  \n",
              "75%    163.000000   66.000000    2.800000  142.000000    4.900000   15.000000  \n",
              "max    490.000000  391.000000   76.000000  163.000000   47.000000   17.800000  "
            ],
            "text/html": [
              "\n",
              "  <div id=\"df-e6e58641-8c60-4864-a4f1-22b033622f1f\">\n",
              "    <div class=\"colab-df-container\">\n",
              "      <div>\n",
              "<style scoped>\n",
              "    .dataframe tbody tr th:only-of-type {\n",
              "        vertical-align: middle;\n",
              "    }\n",
              "\n",
              "    .dataframe tbody tr th {\n",
              "        vertical-align: top;\n",
              "    }\n",
              "\n",
              "    .dataframe thead th {\n",
              "        text-align: right;\n",
              "    }\n",
              "</style>\n",
              "<table border=\"1\" class=\"dataframe\">\n",
              "  <thead>\n",
              "    <tr style=\"text-align: right;\">\n",
              "      <th></th>\n",
              "      <th>id</th>\n",
              "      <th>age</th>\n",
              "      <th>bp</th>\n",
              "      <th>sg</th>\n",
              "      <th>al</th>\n",
              "      <th>su</th>\n",
              "      <th>bgr</th>\n",
              "      <th>bu</th>\n",
              "      <th>sc</th>\n",
              "      <th>sod</th>\n",
              "      <th>pot</th>\n",
              "      <th>hemo</th>\n",
              "    </tr>\n",
              "  </thead>\n",
              "  <tbody>\n",
              "    <tr>\n",
              "      <th>count</th>\n",
              "      <td>400.000000</td>\n",
              "      <td>391.000000</td>\n",
              "      <td>388.000000</td>\n",
              "      <td>353.000000</td>\n",
              "      <td>354.000000</td>\n",
              "      <td>351.000000</td>\n",
              "      <td>356.000000</td>\n",
              "      <td>381.000000</td>\n",
              "      <td>383.000000</td>\n",
              "      <td>313.000000</td>\n",
              "      <td>312.000000</td>\n",
              "      <td>348.000000</td>\n",
              "    </tr>\n",
              "    <tr>\n",
              "      <th>mean</th>\n",
              "      <td>199.500000</td>\n",
              "      <td>51.483376</td>\n",
              "      <td>76.469072</td>\n",
              "      <td>1.017408</td>\n",
              "      <td>1.016949</td>\n",
              "      <td>0.450142</td>\n",
              "      <td>148.036517</td>\n",
              "      <td>57.425722</td>\n",
              "      <td>3.072454</td>\n",
              "      <td>137.528754</td>\n",
              "      <td>4.627244</td>\n",
              "      <td>12.526437</td>\n",
              "    </tr>\n",
              "    <tr>\n",
              "      <th>std</th>\n",
              "      <td>115.614301</td>\n",
              "      <td>17.169714</td>\n",
              "      <td>13.683637</td>\n",
              "      <td>0.005717</td>\n",
              "      <td>1.352679</td>\n",
              "      <td>1.099191</td>\n",
              "      <td>79.281714</td>\n",
              "      <td>50.503006</td>\n",
              "      <td>5.741126</td>\n",
              "      <td>10.408752</td>\n",
              "      <td>3.193904</td>\n",
              "      <td>2.912587</td>\n",
              "    </tr>\n",
              "    <tr>\n",
              "      <th>min</th>\n",
              "      <td>0.000000</td>\n",
              "      <td>2.000000</td>\n",
              "      <td>50.000000</td>\n",
              "      <td>1.005000</td>\n",
              "      <td>0.000000</td>\n",
              "      <td>0.000000</td>\n",
              "      <td>22.000000</td>\n",
              "      <td>1.500000</td>\n",
              "      <td>0.400000</td>\n",
              "      <td>4.500000</td>\n",
              "      <td>2.500000</td>\n",
              "      <td>3.100000</td>\n",
              "    </tr>\n",
              "    <tr>\n",
              "      <th>25%</th>\n",
              "      <td>99.750000</td>\n",
              "      <td>42.000000</td>\n",
              "      <td>70.000000</td>\n",
              "      <td>1.010000</td>\n",
              "      <td>0.000000</td>\n",
              "      <td>0.000000</td>\n",
              "      <td>99.000000</td>\n",
              "      <td>27.000000</td>\n",
              "      <td>0.900000</td>\n",
              "      <td>135.000000</td>\n",
              "      <td>3.800000</td>\n",
              "      <td>10.300000</td>\n",
              "    </tr>\n",
              "    <tr>\n",
              "      <th>50%</th>\n",
              "      <td>199.500000</td>\n",
              "      <td>55.000000</td>\n",
              "      <td>80.000000</td>\n",
              "      <td>1.020000</td>\n",
              "      <td>0.000000</td>\n",
              "      <td>0.000000</td>\n",
              "      <td>121.000000</td>\n",
              "      <td>42.000000</td>\n",
              "      <td>1.300000</td>\n",
              "      <td>138.000000</td>\n",
              "      <td>4.400000</td>\n",
              "      <td>12.650000</td>\n",
              "    </tr>\n",
              "    <tr>\n",
              "      <th>75%</th>\n",
              "      <td>299.250000</td>\n",
              "      <td>64.500000</td>\n",
              "      <td>80.000000</td>\n",
              "      <td>1.020000</td>\n",
              "      <td>2.000000</td>\n",
              "      <td>0.000000</td>\n",
              "      <td>163.000000</td>\n",
              "      <td>66.000000</td>\n",
              "      <td>2.800000</td>\n",
              "      <td>142.000000</td>\n",
              "      <td>4.900000</td>\n",
              "      <td>15.000000</td>\n",
              "    </tr>\n",
              "    <tr>\n",
              "      <th>max</th>\n",
              "      <td>399.000000</td>\n",
              "      <td>90.000000</td>\n",
              "      <td>180.000000</td>\n",
              "      <td>1.025000</td>\n",
              "      <td>5.000000</td>\n",
              "      <td>5.000000</td>\n",
              "      <td>490.000000</td>\n",
              "      <td>391.000000</td>\n",
              "      <td>76.000000</td>\n",
              "      <td>163.000000</td>\n",
              "      <td>47.000000</td>\n",
              "      <td>17.800000</td>\n",
              "    </tr>\n",
              "  </tbody>\n",
              "</table>\n",
              "</div>\n",
              "      <button class=\"colab-df-convert\" onclick=\"convertToInteractive('df-e6e58641-8c60-4864-a4f1-22b033622f1f')\"\n",
              "              title=\"Convert this dataframe to an interactive table.\"\n",
              "              style=\"display:none;\">\n",
              "        \n",
              "  <svg xmlns=\"http://www.w3.org/2000/svg\" height=\"24px\"viewBox=\"0 0 24 24\"\n",
              "       width=\"24px\">\n",
              "    <path d=\"M0 0h24v24H0V0z\" fill=\"none\"/>\n",
              "    <path d=\"M18.56 5.44l.94 2.06.94-2.06 2.06-.94-2.06-.94-.94-2.06-.94 2.06-2.06.94zm-11 1L8.5 8.5l.94-2.06 2.06-.94-2.06-.94L8.5 2.5l-.94 2.06-2.06.94zm10 10l.94 2.06.94-2.06 2.06-.94-2.06-.94-.94-2.06-.94 2.06-2.06.94z\"/><path d=\"M17.41 7.96l-1.37-1.37c-.4-.4-.92-.59-1.43-.59-.52 0-1.04.2-1.43.59L10.3 9.45l-7.72 7.72c-.78.78-.78 2.05 0 2.83L4 21.41c.39.39.9.59 1.41.59.51 0 1.02-.2 1.41-.59l7.78-7.78 2.81-2.81c.8-.78.8-2.07 0-2.86zM5.41 20L4 18.59l7.72-7.72 1.47 1.35L5.41 20z\"/>\n",
              "  </svg>\n",
              "      </button>\n",
              "      \n",
              "  <style>\n",
              "    .colab-df-container {\n",
              "      display:flex;\n",
              "      flex-wrap:wrap;\n",
              "      gap: 12px;\n",
              "    }\n",
              "\n",
              "    .colab-df-convert {\n",
              "      background-color: #E8F0FE;\n",
              "      border: none;\n",
              "      border-radius: 50%;\n",
              "      cursor: pointer;\n",
              "      display: none;\n",
              "      fill: #1967D2;\n",
              "      height: 32px;\n",
              "      padding: 0 0 0 0;\n",
              "      width: 32px;\n",
              "    }\n",
              "\n",
              "    .colab-df-convert:hover {\n",
              "      background-color: #E2EBFA;\n",
              "      box-shadow: 0px 1px 2px rgba(60, 64, 67, 0.3), 0px 1px 3px 1px rgba(60, 64, 67, 0.15);\n",
              "      fill: #174EA6;\n",
              "    }\n",
              "\n",
              "    [theme=dark] .colab-df-convert {\n",
              "      background-color: #3B4455;\n",
              "      fill: #D2E3FC;\n",
              "    }\n",
              "\n",
              "    [theme=dark] .colab-df-convert:hover {\n",
              "      background-color: #434B5C;\n",
              "      box-shadow: 0px 1px 3px 1px rgba(0, 0, 0, 0.15);\n",
              "      filter: drop-shadow(0px 1px 2px rgba(0, 0, 0, 0.3));\n",
              "      fill: #FFFFFF;\n",
              "    }\n",
              "  </style>\n",
              "\n",
              "      <script>\n",
              "        const buttonEl =\n",
              "          document.querySelector('#df-e6e58641-8c60-4864-a4f1-22b033622f1f button.colab-df-convert');\n",
              "        buttonEl.style.display =\n",
              "          google.colab.kernel.accessAllowed ? 'block' : 'none';\n",
              "\n",
              "        async function convertToInteractive(key) {\n",
              "          const element = document.querySelector('#df-e6e58641-8c60-4864-a4f1-22b033622f1f');\n",
              "          const dataTable =\n",
              "            await google.colab.kernel.invokeFunction('convertToInteractive',\n",
              "                                                     [key], {});\n",
              "          if (!dataTable) return;\n",
              "\n",
              "          const docLinkHtml = 'Like what you see? Visit the ' +\n",
              "            '<a target=\"_blank\" href=https://colab.research.google.com/notebooks/data_table.ipynb>data table notebook</a>'\n",
              "            + ' to learn more about interactive tables.';\n",
              "          element.innerHTML = '';\n",
              "          dataTable['output_type'] = 'display_data';\n",
              "          await google.colab.output.renderOutput(dataTable, element);\n",
              "          const docLink = document.createElement('div');\n",
              "          docLink.innerHTML = docLinkHtml;\n",
              "          element.appendChild(docLink);\n",
              "        }\n",
              "      </script>\n",
              "    </div>\n",
              "  </div>\n",
              "  "
            ]
          },
          "metadata": {},
          "execution_count": 5
        }
      ]
    },
    {
      "cell_type": "code",
      "source": [
        "df.info()"
      ],
      "metadata": {
        "colab": {
          "base_uri": "https://localhost:8080/"
        },
        "id": "M3RWkkUOsFti",
        "outputId": "43869c21-6d48-4517-a64d-249ba10b6c4a"
      },
      "execution_count": null,
      "outputs": [
        {
          "output_type": "stream",
          "name": "stdout",
          "text": [
            "<class 'pandas.core.frame.DataFrame'>\n",
            "RangeIndex: 400 entries, 0 to 399\n",
            "Data columns (total 26 columns):\n",
            " #   Column          Non-Null Count  Dtype  \n",
            "---  ------          --------------  -----  \n",
            " 0   id              400 non-null    int64  \n",
            " 1   age             391 non-null    float64\n",
            " 2   bp              388 non-null    float64\n",
            " 3   sg              353 non-null    float64\n",
            " 4   al              354 non-null    float64\n",
            " 5   su              351 non-null    float64\n",
            " 6   rbc             248 non-null    object \n",
            " 7   pc              335 non-null    object \n",
            " 8   pcc             396 non-null    object \n",
            " 9   ba              396 non-null    object \n",
            " 10  bgr             356 non-null    float64\n",
            " 11  bu              381 non-null    float64\n",
            " 12  sc              383 non-null    float64\n",
            " 13  sod             313 non-null    float64\n",
            " 14  pot             312 non-null    float64\n",
            " 15  hemo            348 non-null    float64\n",
            " 16  pcv             330 non-null    object \n",
            " 17  wc              295 non-null    object \n",
            " 18  rc              270 non-null    object \n",
            " 19  htn             398 non-null    object \n",
            " 20  dm              398 non-null    object \n",
            " 21  cad             398 non-null    object \n",
            " 22  appet           399 non-null    object \n",
            " 23  pe              399 non-null    object \n",
            " 24  ane             399 non-null    object \n",
            " 25  classification  400 non-null    object \n",
            "dtypes: float64(11), int64(1), object(14)\n",
            "memory usage: 81.4+ KB\n"
          ]
        }
      ]
    },
    {
      "cell_type": "code",
      "source": [
        "df.dtypes"
      ],
      "metadata": {
        "colab": {
          "base_uri": "https://localhost:8080/"
        },
        "id": "favucIv7s0tc",
        "outputId": "57bcb63c-78eb-4214-956d-e8f5706459cb"
      },
      "execution_count": null,
      "outputs": [
        {
          "output_type": "execute_result",
          "data": {
            "text/plain": [
              "id                  int64\n",
              "age               float64\n",
              "bp                float64\n",
              "sg                float64\n",
              "al                float64\n",
              "su                float64\n",
              "rbc                object\n",
              "pc                 object\n",
              "pcc                object\n",
              "ba                 object\n",
              "bgr               float64\n",
              "bu                float64\n",
              "sc                float64\n",
              "sod               float64\n",
              "pot               float64\n",
              "hemo              float64\n",
              "pcv                object\n",
              "wc                 object\n",
              "rc                 object\n",
              "htn                object\n",
              "dm                 object\n",
              "cad                object\n",
              "appet              object\n",
              "pe                 object\n",
              "ane                object\n",
              "classification     object\n",
              "dtype: object"
            ]
          },
          "metadata": {},
          "execution_count": 7
        }
      ]
    },
    {
      "cell_type": "markdown",
      "source": [
        "## **Data Preprocessing**"
      ],
      "metadata": {
        "id": "VloAx-GDs6A3"
      }
    },
    {
      "cell_type": "markdown",
      "source": [
        "**Check for Missing values and deal with them**."
      ],
      "metadata": {
        "id": "b66oBzG7VPCB"
      }
    },
    {
      "cell_type": "code",
      "source": [
        "df.isnull().sum()"
      ],
      "metadata": {
        "colab": {
          "base_uri": "https://localhost:8080/"
        },
        "id": "EWrlXF2Ds7DJ",
        "outputId": "051ab19c-571d-4132-99a8-74e35e8217ac"
      },
      "execution_count": null,
      "outputs": [
        {
          "output_type": "execute_result",
          "data": {
            "text/plain": [
              "id                  0\n",
              "age                 9\n",
              "bp                 12\n",
              "sg                 47\n",
              "al                 46\n",
              "su                 49\n",
              "rbc               152\n",
              "pc                 65\n",
              "pcc                 4\n",
              "ba                  4\n",
              "bgr                44\n",
              "bu                 19\n",
              "sc                 17\n",
              "sod                87\n",
              "pot                88\n",
              "hemo               52\n",
              "pcv                70\n",
              "wc                105\n",
              "rc                130\n",
              "htn                 2\n",
              "dm                  2\n",
              "cad                 2\n",
              "appet               1\n",
              "pe                  1\n",
              "ane                 1\n",
              "classification      0\n",
              "dtype: int64"
            ]
          },
          "metadata": {},
          "execution_count": 8
        }
      ]
    },
    {
      "cell_type": "code",
      "source": [
        "f, ax = plt.subplots(figsize=(13, 9))\n",
        "sns.heatmap(df.isnull(),yticklabels=False,cmap=\"crest\")"
      ],
      "metadata": {
        "colab": {
          "base_uri": "https://localhost:8080/",
          "height": 615
        },
        "id": "G8_A2tbtmfLd",
        "outputId": "e369ffbe-5706-4b25-fe68-602a404f7a85"
      },
      "execution_count": null,
      "outputs": [
        {
          "output_type": "execute_result",
          "data": {
            "text/plain": [
              "<matplotlib.axes._subplots.AxesSubplot at 0x7f2bbb119ed0>"
            ]
          },
          "metadata": {},
          "execution_count": 9
        },
        {
          "output_type": "display_data",
          "data": {
            "text/plain": [
              "<Figure size 936x648 with 2 Axes>"
            ],
            "image/png": "[encoded data removed]"
          },
          "metadata": {
            "needs_background": "light"
          }
        }
      ]
    },
    {
      "cell_type": "code",
      "source": [
        "df[\"age\"]=df[\"age\"].fillna(df[\"age\"].mean())"
      ],
      "metadata": {
        "id": "qR2rm-BRu4im"
      },
      "execution_count": null,
      "outputs": []
    },
    {
      "cell_type": "code",
      "source": [
        "df['age'].isnull().sum()"
      ],
      "metadata": {
        "colab": {
          "base_uri": "https://localhost:8080/"
        },
        "id": "N3LScuDuu-TK",
        "outputId": "f91024e0-1199-42c8-ecef-d2e199047150"
      },
      "execution_count": null,
      "outputs": [
        {
          "output_type": "execute_result",
          "data": {
            "text/plain": [
              "0"
            ]
          },
          "metadata": {},
          "execution_count": 11
        }
      ]
    },
    {
      "cell_type": "code",
      "source": [
        "df.columns"
      ],
      "metadata": {
        "colab": {
          "base_uri": "https://localhost:8080/"
        },
        "id": "vpWQDCUWvDp6",
        "outputId": "e3613280-e650-4070-9e8b-625c58a491c5"
      },
      "execution_count": null,
      "outputs": [
        {
          "output_type": "execute_result",
          "data": {
            "text/plain": [
              "Index(['id', 'age', 'bp', 'sg', 'al', 'su', 'rbc', 'pc', 'pcc', 'ba', 'bgr',\n",
              "       'bu', 'sc', 'sod', 'pot', 'hemo', 'pcv', 'wc', 'rc', 'htn', 'dm', 'cad',\n",
              "       'appet', 'pe', 'ane', 'classification'],\n",
              "      dtype='object')"
            ]
          },
          "metadata": {},
          "execution_count": 12
        }
      ]
    },
    {
      "cell_type": "code",
      "source": [
        "df[\"sg\"]=df[\"sg\"].fillna(df[\"sg\"].mean())\n",
        "df[\"al\"]=df[\"al\"].fillna(df[\"al\"].mean())\n",
        "df[\"bp\"]=df[\"bp\"].fillna(df[\"bp\"].mean())"
      ],
      "metadata": {
        "id": "zg0h3D1RvNRe"
      },
      "execution_count": null,
      "outputs": []
    },
    {
      "cell_type": "code",
      "source": [
        "numerical=[]\n",
        "for col in df.columns:\n",
        "    if df[col].dtype==\"float64\":\n",
        "        numerical.append(col)\n",
        "print(numerical)\n",
        "for col in df.columns:\n",
        "    if col in numerical:\n",
        "        df[col].fillna(df[col].median(), inplace=True)\n",
        "    else:\n",
        "        df[col].fillna(df[col].mode()[0], inplace=True)"
      ],
      "metadata": {
        "colab": {
          "base_uri": "https://localhost:8080/"
        },
        "id": "4S8zdC7cvbqK",
        "outputId": "69cddb5f-b4d4-47de-f859-f063693618a1"
      },
      "execution_count": null,
      "outputs": [
        {
          "output_type": "stream",
          "name": "stdout",
          "text": [
            "['age', 'bp', 'sg', 'al', 'su', 'bgr', 'bu', 'sc', 'sod', 'pot', 'hemo']\n"
          ]
        }
      ]
    },
    {
      "cell_type": "code",
      "source": [
        "df.isnull().sum()\n"
      ],
      "metadata": {
        "colab": {
          "base_uri": "https://localhost:8080/"
        },
        "id": "A-Ufu9fovfQ7",
        "outputId": "02ff02eb-fd46-4aba-a6e0-d0be8a01afe8"
      },
      "execution_count": null,
      "outputs": [
        {
          "output_type": "execute_result",
          "data": {
            "text/plain": [
              "id                0\n",
              "age               0\n",
              "bp                0\n",
              "sg                0\n",
              "al                0\n",
              "su                0\n",
              "rbc               0\n",
              "pc                0\n",
              "pcc               0\n",
              "ba                0\n",
              "bgr               0\n",
              "bu                0\n",
              "sc                0\n",
              "sod               0\n",
              "pot               0\n",
              "hemo              0\n",
              "pcv               0\n",
              "wc                0\n",
              "rc                0\n",
              "htn               0\n",
              "dm                0\n",
              "cad               0\n",
              "appet             0\n",
              "pe                0\n",
              "ane               0\n",
              "classification    0\n",
              "dtype: int64"
            ]
          },
          "metadata": {},
          "execution_count": 15
        }
      ]
    },
    {
      "cell_type": "markdown",
      "source": [
        "**Finding Correlation**"
      ],
      "metadata": {
        "id": "SoDgp2RKlOlH"
      }
    },
    {
      "cell_type": "code",
      "source": [
        "df.corr()"
      ],
      "metadata": {
        "colab": {
          "base_uri": "https://localhost:8080/",
          "height": 426
        },
        "id": "HvwputARtC5T",
        "outputId": "be21e80c-8bf1-452e-aa41-53f679b869b0"
      },
      "execution_count": null,
      "outputs": [
        {
          "output_type": "execute_result",
          "data": {
            "text/plain": [
              "            id       age        bp        sg        al        su       bgr  \\\n",
              "id    1.000000 -0.184043 -0.243732  0.613623 -0.520040 -0.247181 -0.297213   \n",
              "age  -0.184043  1.000000  0.148004 -0.180570  0.114764  0.187615  0.230858   \n",
              "bp   -0.243732  0.148004  1.000000 -0.182463  0.146593  0.190218  0.150075   \n",
              "sg    0.613623 -0.180570 -0.182463  1.000000 -0.466698 -0.282115 -0.308115   \n",
              "al   -0.520040  0.114764  0.146593 -0.466698  1.000000  0.261983  0.309238   \n",
              "su   -0.247181  0.187615  0.190218 -0.282115  0.261983  1.000000  0.627002   \n",
              "bgr  -0.297213  0.230858  0.150075 -0.308115  0.309238  0.627002  1.000000   \n",
              "bu   -0.299054  0.192809  0.182980 -0.274926  0.406913  0.126897  0.118859   \n",
              "sc   -0.263262  0.133438  0.144478 -0.210004  0.232673  0.096434  0.068886   \n",
              "sod   0.316549 -0.085760 -0.102120  0.236087 -0.268868 -0.051758 -0.130569   \n",
              "pot  -0.071029  0.049753  0.064715 -0.051244  0.110606  0.177396  0.052732   \n",
              "hemo  0.607231 -0.175166 -0.279024  0.529966 -0.549426 -0.156807 -0.254435   \n",
              "\n",
              "            bu        sc       sod       pot      hemo  \n",
              "id   -0.299054 -0.263262  0.316549 -0.071029  0.607231  \n",
              "age   0.192809  0.133438 -0.085760  0.049753 -0.175166  \n",
              "bp    0.182980  0.144478 -0.102120  0.064715 -0.279024  \n",
              "sg   -0.274926 -0.210004  0.236087 -0.051244  0.529966  \n",
              "al    0.406913  0.232673 -0.268868  0.110606 -0.549426  \n",
              "su    0.126897  0.096434 -0.051758  0.177396 -0.156807  \n",
              "bgr   0.118859  0.068886 -0.130569  0.052732 -0.254435  \n",
              "bu    1.000000  0.581517 -0.308806  0.339771 -0.541635  \n",
              "sc    0.581517  1.000000 -0.624036  0.204751 -0.342492  \n",
              "sod  -0.308806 -0.624036  1.000000  0.069612  0.331483  \n",
              "pot   0.339771  0.204751  0.069612  1.000000 -0.096428  \n",
              "hemo -0.541635 -0.342492  0.331483 -0.096428  1.000000  "
            ],
            "text/html": [
              "\n",
              "  <div id=\"df-b3c3422e-919b-42db-a51a-49ac41bf88d0\">\n",
              "    <div class=\"colab-df-container\">\n",
              "      <div>\n",
              "<style scoped>\n",
              "    .dataframe tbody tr th:only-of-type {\n",
              "        vertical-align: middle;\n",
              "    }\n",
              "\n",
              "    .dataframe tbody tr th {\n",
              "        vertical-align: top;\n",
              "    }\n",
              "\n",
              "    .dataframe thead th {\n",
              "        text-align: right;\n",
              "    }\n",
              "</style>\n",
              "<table border=\"1\" class=\"dataframe\">\n",
              "  <thead>\n",
              "    <tr style=\"text-align: right;\">\n",
              "      <th></th>\n",
              "      <th>id</th>\n",
              "      <th>age</th>\n",
              "      <th>bp</th>\n",
              "      <th>sg</th>\n",
              "      <th>al</th>\n",
              "      <th>su</th>\n",
              "      <th>bgr</th>\n",
              "      <th>bu</th>\n",
              "      <th>sc</th>\n",
              "      <th>sod</th>\n",
              "      <th>pot</th>\n",
              "      <th>hemo</th>\n",
              "    </tr>\n",
              "  </thead>\n",
              "  <tbody>\n",
              "    <tr>\n",
              "      <th>id</th>\n",
              "      <td>1.000000</td>\n",
              "      <td>-0.184043</td>\n",
              "      <td>-0.243732</td>\n",
              "      <td>0.613623</td>\n",
              "      <td>-0.520040</td>\n",
              "      <td>-0.247181</td>\n",
              "      <td>-0.297213</td>\n",
              "      <td>-0.299054</td>\n",
              "      <td>-0.263262</td>\n",
              "      <td>0.316549</td>\n",
              "      <td>-0.071029</td>\n",
              "      <td>0.607231</td>\n",
              "    </tr>\n",
              "    <tr>\n",
              "      <th>age</th>\n",
              "      <td>-0.184043</td>\n",
              "      <td>1.000000</td>\n",
              "      <td>0.148004</td>\n",
              "      <td>-0.180570</td>\n",
              "      <td>0.114764</td>\n",
              "      <td>0.187615</td>\n",
              "      <td>0.230858</td>\n",
              "      <td>0.192809</td>\n",
              "      <td>0.133438</td>\n",
              "      <td>-0.085760</td>\n",
              "      <td>0.049753</td>\n",
              "      <td>-0.175166</td>\n",
              "    </tr>\n",
              "    <tr>\n",
              "      <th>bp</th>\n",
              "      <td>-0.243732</td>\n",
              "      <td>0.148004</td>\n",
              "      <td>1.000000</td>\n",
              "      <td>-0.182463</td>\n",
              "      <td>0.146593</td>\n",
              "      <td>0.190218</td>\n",
              "      <td>0.150075</td>\n",
              "      <td>0.182980</td>\n",
              "      <td>0.144478</td>\n",
              "      <td>-0.102120</td>\n",
              "      <td>0.064715</td>\n",
              "      <td>-0.279024</td>\n",
              "    </tr>\n",
              "    <tr>\n",
              "      <th>sg</th>\n",
              "      <td>0.613623</td>\n",
              "      <td>-0.180570</td>\n",
              "      <td>-0.182463</td>\n",
              "      <td>1.000000</td>\n",
              "      <td>-0.466698</td>\n",
              "      <td>-0.282115</td>\n",
              "      <td>-0.308115</td>\n",
              "      <td>-0.274926</td>\n",
              "      <td>-0.210004</td>\n",
              "      <td>0.236087</td>\n",
              "      <td>-0.051244</td>\n",
              "      <td>0.529966</td>\n",
              "    </tr>\n",
              "    <tr>\n",
              "      <th>al</th>\n",
              "      <td>-0.520040</td>\n",
              "      <td>0.114764</td>\n",
              "      <td>0.146593</td>\n",
              "      <td>-0.466698</td>\n",
              "      <td>1.000000</td>\n",
              "      <td>0.261983</td>\n",
              "      <td>0.309238</td>\n",
              "      <td>0.406913</td>\n",
              "      <td>0.232673</td>\n",
              "      <td>-0.268868</td>\n",
              "      <td>0.110606</td>\n",
              "      <td>-0.549426</td>\n",
              "    </tr>\n",
              "    <tr>\n",
              "      <th>su</th>\n",
              "      <td>-0.247181</td>\n",
              "      <td>0.187615</td>\n",
              "      <td>0.190218</td>\n",
              "      <td>-0.282115</td>\n",
              "      <td>0.261983</td>\n",
              "      <td>1.000000</td>\n",
              "      <td>0.627002</td>\n",
              "      <td>0.126897</td>\n",
              "      <td>0.096434</td>\n",
              "      <td>-0.051758</td>\n",
              "      <td>0.177396</td>\n",
              "      <td>-0.156807</td>\n",
              "    </tr>\n",
              "    <tr>\n",
              "      <th>bgr</th>\n",
              "      <td>-0.297213</td>\n",
              "      <td>0.230858</td>\n",
              "      <td>0.150075</td>\n",
              "      <td>-0.308115</td>\n",
              "      <td>0.309238</td>\n",
              "      <td>0.627002</td>\n",
              "      <td>1.000000</td>\n",
              "      <td>0.118859</td>\n",
              "      <td>0.068886</td>\n",
              "      <td>-0.130569</td>\n",
              "      <td>0.052732</td>\n",
              "      <td>-0.254435</td>\n",
              "    </tr>\n",
              "    <tr>\n",
              "      <th>bu</th>\n",
              "      <td>-0.299054</td>\n",
              "      <td>0.192809</td>\n",
              "      <td>0.182980</td>\n",
              "      <td>-0.274926</td>\n",
              "      <td>0.406913</td>\n",
              "      <td>0.126897</td>\n",
              "      <td>0.118859</td>\n",
              "      <td>1.000000</td>\n",
              "      <td>0.581517</td>\n",
              "      <td>-0.308806</td>\n",
              "      <td>0.339771</td>\n",
              "      <td>-0.541635</td>\n",
              "    </tr>\n",
              "    <tr>\n",
              "      <th>sc</th>\n",
              "      <td>-0.263262</td>\n",
              "      <td>0.133438</td>\n",
              "      <td>0.144478</td>\n",
              "      <td>-0.210004</td>\n",
              "      <td>0.232673</td>\n",
              "      <td>0.096434</td>\n",
              "      <td>0.068886</td>\n",
              "      <td>0.581517</td>\n",
              "      <td>1.000000</td>\n",
              "      <td>-0.624036</td>\n",
              "      <td>0.204751</td>\n",
              "      <td>-0.342492</td>\n",
              "    </tr>\n",
              "    <tr>\n",
              "      <th>sod</th>\n",
              "      <td>0.316549</td>\n",
              "      <td>-0.085760</td>\n",
              "      <td>-0.102120</td>\n",
              "      <td>0.236087</td>\n",
              "      <td>-0.268868</td>\n",
              "      <td>-0.051758</td>\n",
              "      <td>-0.130569</td>\n",
              "      <td>-0.308806</td>\n",
              "      <td>-0.624036</td>\n",
              "      <td>1.000000</td>\n",
              "      <td>0.069612</td>\n",
              "      <td>0.331483</td>\n",
              "    </tr>\n",
              "    <tr>\n",
              "      <th>pot</th>\n",
              "      <td>-0.071029</td>\n",
              "      <td>0.049753</td>\n",
              "      <td>0.064715</td>\n",
              "      <td>-0.051244</td>\n",
              "      <td>0.110606</td>\n",
              "      <td>0.177396</td>\n",
              "      <td>0.052732</td>\n",
              "      <td>0.339771</td>\n",
              "      <td>0.204751</td>\n",
              "      <td>0.069612</td>\n",
              "      <td>1.000000</td>\n",
              "      <td>-0.096428</td>\n",
              "    </tr>\n",
              "    <tr>\n",
              "      <th>hemo</th>\n",
              "      <td>0.607231</td>\n",
              "      <td>-0.175166</td>\n",
              "      <td>-0.279024</td>\n",
              "      <td>0.529966</td>\n",
              "      <td>-0.549426</td>\n",
              "      <td>-0.156807</td>\n",
              "      <td>-0.254435</td>\n",
              "      <td>-0.541635</td>\n",
              "      <td>-0.342492</td>\n",
              "      <td>0.331483</td>\n",
              "      <td>-0.096428</td>\n",
              "      <td>1.000000</td>\n",
              "    </tr>\n",
              "  </tbody>\n",
              "</table>\n",
              "</div>\n",
              "      <button class=\"colab-df-convert\" onclick=\"convertToInteractive('df-b3c3422e-919b-42db-a51a-49ac41bf88d0')\"\n",
              "              title=\"Convert this dataframe to an interactive table.\"\n",
              "              style=\"display:none;\">\n",
              "        \n",
              "  <svg xmlns=\"http://www.w3.org/2000/svg\" height=\"24px\"viewBox=\"0 0 24 24\"\n",
              "       width=\"24px\">\n",
              "    <path d=\"M0 0h24v24H0V0z\" fill=\"none\"/>\n",
              "    <path d=\"M18.56 5.44l.94 2.06.94-2.06 2.06-.94-2.06-.94-.94-2.06-.94 2.06-2.06.94zm-11 1L8.5 8.5l.94-2.06 2.06-.94-2.06-.94L8.5 2.5l-.94 2.06-2.06.94zm10 10l.94 2.06.94-2.06 2.06-.94-2.06-.94-.94-2.06-.94 2.06-2.06.94z\"/><path d=\"M17.41 7.96l-1.37-1.37c-.4-.4-.92-.59-1.43-.59-.52 0-1.04.2-1.43.59L10.3 9.45l-7.72 7.72c-.78.78-.78 2.05 0 2.83L4 21.41c.39.39.9.59 1.41.59.51 0 1.02-.2 1.41-.59l7.78-7.78 2.81-2.81c.8-.78.8-2.07 0-2.86zM5.41 20L4 18.59l7.72-7.72 1.47 1.35L5.41 20z\"/>\n",
              "  </svg>\n",
              "      </button>\n",
              "      \n",
              "  <style>\n",
              "    .colab-df-container {\n",
              "      display:flex;\n",
              "      flex-wrap:wrap;\n",
              "      gap: 12px;\n",
              "    }\n",
              "\n",
              "    .colab-df-convert {\n",
              "      background-color: #E8F0FE;\n",
              "      border: none;\n",
              "      border-radius: 50%;\n",
              "      cursor: pointer;\n",
              "      display: none;\n",
              "      fill: #1967D2;\n",
              "      height: 32px;\n",
              "      padding: 0 0 0 0;\n",
              "      width: 32px;\n",
              "    }\n",
              "\n",
              "    .colab-df-convert:hover {\n",
              "      background-color: #E2EBFA;\n",
              "      box-shadow: 0px 1px 2px rgba(60, 64, 67, 0.3), 0px 1px 3px 1px rgba(60, 64, 67, 0.15);\n",
              "      fill: #174EA6;\n",
              "    }\n",
              "\n",
              "    [theme=dark] .colab-df-convert {\n",
              "      background-color: #3B4455;\n",
              "      fill: #D2E3FC;\n",
              "    }\n",
              "\n",
              "    [theme=dark] .colab-df-convert:hover {\n",
              "      background-color: #434B5C;\n",
              "      box-shadow: 0px 1px 3px 1px rgba(0, 0, 0, 0.15);\n",
              "      filter: drop-shadow(0px 1px 2px rgba(0, 0, 0, 0.3));\n",
              "      fill: #FFFFFF;\n",
              "    }\n",
              "  </style>\n",
              "\n",
              "      <script>\n",
              "        const buttonEl =\n",
              "          document.querySelector('#df-b3c3422e-919b-42db-a51a-49ac41bf88d0 button.colab-df-convert');\n",
              "        buttonEl.style.display =\n",
              "          google.colab.kernel.accessAllowed ? 'block' : 'none';\n",
              "\n",
              "        async function convertToInteractive(key) {\n",
              "          const element = document.querySelector('#df-b3c3422e-919b-42db-a51a-49ac41bf88d0');\n",
              "          const dataTable =\n",
              "            await google.colab.kernel.invokeFunction('convertToInteractive',\n",
              "                                                     [key], {});\n",
              "          if (!dataTable) return;\n",
              "\n",
              "          const docLinkHtml = 'Like what you see? Visit the ' +\n",
              "            '<a target=\"_blank\" href=https://colab.research.google.com/notebooks/data_table.ipynb>data table notebook</a>'\n",
              "            + ' to learn more about interactive tables.';\n",
              "          element.innerHTML = '';\n",
              "          dataTable['output_type'] = 'display_data';\n",
              "          await google.colab.output.renderOutput(dataTable, element);\n",
              "          const docLink = document.createElement('div');\n",
              "          docLink.innerHTML = docLinkHtml;\n",
              "          element.appendChild(docLink);\n",
              "        }\n",
              "      </script>\n",
              "    </div>\n",
              "  </div>\n",
              "  "
            ]
          },
          "metadata": {},
          "execution_count": 16
        }
      ]
    },
    {
      "cell_type": "code",
      "source": [
        "plt.figure(figsize=(15,8));\n",
        "plt.title(\"Correlation\",color=\"green\")\n",
        "sns.heatmap(df.corr(),linewidth=1,annot=True);"
      ],
      "metadata": {
        "colab": {
          "base_uri": "https://localhost:8080/",
          "height": 499
        },
        "id": "m9cYfGj2tyEN",
        "outputId": "43a521ae-d883-4459-fdb5-fe9e12ca61ae"
      },
      "execution_count": null,
      "outputs": [
        {
          "output_type": "display_data",
          "data": {
            "text/plain": [
              "<Figure size 1080x576 with 2 Axes>"
            ],
            "image/png": "[encoded data removed]"
          },
          "metadata": {
            "needs_background": "light"
          }
        }
      ]
    },
    {
      "cell_type": "code",
      "source": [
        "df.duplicated().value_counts() # checking for duuplicates"
      ],
      "metadata": {
        "colab": {
          "base_uri": "https://localhost:8080/"
        },
        "id": "Wm7KBECtt02F",
        "outputId": "72ef08e0-856e-494a-e3cf-05d0dc2114d1"
      },
      "execution_count": null,
      "outputs": [
        {
          "output_type": "execute_result",
          "data": {
            "text/plain": [
              "False    400\n",
              "dtype: int64"
            ]
          },
          "metadata": {},
          "execution_count": 18
        }
      ]
    },
    {
      "cell_type": "code",
      "source": [
        "df['classification'].value_counts()"
      ],
      "metadata": {
        "colab": {
          "base_uri": "https://localhost:8080/"
        },
        "id": "wlosOJT9uC0Z",
        "outputId": "8095fe7e-e234-4066-b80b-db2028008f78"
      },
      "execution_count": null,
      "outputs": [
        {
          "output_type": "execute_result",
          "data": {
            "text/plain": [
              "ckd       248\n",
              "notckd    150\n",
              "ckd\\t       2\n",
              "Name: classification, dtype: int64"
            ]
          },
          "metadata": {},
          "execution_count": 19
        }
      ]
    },
    {
      "cell_type": "code",
      "source": [
        "df[\"classification\"]=df[\"classification\"].replace(\"ckd\\t\",\"ckd\",regex=True)"
      ],
      "metadata": {
        "id": "iVkw5HJwue1c"
      },
      "execution_count": null,
      "outputs": []
    },
    {
      "cell_type": "code",
      "source": [
        "df['classification'].value_counts()"
      ],
      "metadata": {
        "colab": {
          "base_uri": "https://localhost:8080/"
        },
        "id": "QMeSbomiuqUm",
        "outputId": "f4471816-cb79-45e7-a271-e9500f1ee4fa"
      },
      "execution_count": null,
      "outputs": [
        {
          "output_type": "execute_result",
          "data": {
            "text/plain": [
              "ckd       250\n",
              "notckd    150\n",
              "Name: classification, dtype: int64"
            ]
          },
          "metadata": {},
          "execution_count": 21
        }
      ]
    },
    {
      "cell_type": "markdown",
      "source": [
        "**Dropping unnecessary columns**"
      ],
      "metadata": {
        "id": "DogfjYL5l8pN"
      }
    },
    {
      "cell_type": "code",
      "source": [
        "df.drop('id',axis=1,inplace=True)"
      ],
      "metadata": {
        "id": "-BiITsDeusGY"
      },
      "execution_count": null,
      "outputs": []
    },
    {
      "cell_type": "code",
      "source": [
        "df.head()"
      ],
      "metadata": {
        "colab": {
          "base_uri": "https://localhost:8080/",
          "height": 236
        },
        "id": "sQiFbdsnusEF",
        "outputId": "d70aabc6-aefe-49de-cd92-1fcfb50592db"
      },
      "execution_count": null,
      "outputs": [
        {
          "output_type": "execute_result",
          "data": {
            "text/plain": [
              "    age    bp     sg   al   su     rbc        pc         pcc          ba  \\\n",
              "0  48.0  80.0  1.020  1.0  0.0  normal    normal  notpresent  notpresent   \n",
              "1   7.0  50.0  1.020  4.0  0.0  normal    normal  notpresent  notpresent   \n",
              "2  62.0  80.0  1.010  2.0  3.0  normal    normal  notpresent  notpresent   \n",
              "3  48.0  70.0  1.005  4.0  0.0  normal  abnormal     present  notpresent   \n",
              "4  51.0  80.0  1.010  2.0  0.0  normal    normal  notpresent  notpresent   \n",
              "\n",
              "     bgr  ...  pcv    wc   rc  htn   dm cad appet   pe  ane classification  \n",
              "0  121.0  ...   44  7800  5.2  yes  yes  no  good   no   no            ckd  \n",
              "1  121.0  ...   38  6000  5.2   no   no  no  good   no   no            ckd  \n",
              "2  423.0  ...   31  7500  5.2   no  yes  no  poor   no  yes            ckd  \n",
              "3  117.0  ...   32  6700  3.9  yes   no  no  poor  yes  yes            ckd  \n",
              "4  106.0  ...   35  7300  4.6   no   no  no  good   no   no            ckd  \n",
              "\n",
              "[5 rows x 25 columns]"
            ],
            "text/html": [
              "\n",
              "  <div id=\"df-db349e9d-9f83-45fb-8619-e5a4a56c89a3\">\n",
              "    <div class=\"colab-df-container\">\n",
              "      <div>\n",
              "<style scoped>\n",
              "    .dataframe tbody tr th:only-of-type {\n",
              "        vertical-align: middle;\n",
              "    }\n",
              "\n",
              "    .dataframe tbody tr th {\n",
              "        vertical-align: top;\n",
              "    }\n",
              "\n",
              "    .dataframe thead th {\n",
              "        text-align: right;\n",
              "    }\n",
              "</style>\n",
              "<table border=\"1\" class=\"dataframe\">\n",
              "  <thead>\n",
              "    <tr style=\"text-align: right;\">\n",
              "      <th></th>\n",
              "      <th>age</th>\n",
              "      <th>bp</th>\n",
              "      <th>sg</th>\n",
              "      <th>al</th>\n",
              "      <th>su</th>\n",
              "      <th>rbc</th>\n",
              "      <th>pc</th>\n",
              "      <th>pcc</th>\n",
              "      <th>ba</th>\n",
              "      <th>bgr</th>\n",
              "      <th>...</th>\n",
              "      <th>pcv</th>\n",
              "      <th>wc</th>\n",
              "      <th>rc</th>\n",
              "      <th>htn</th>\n",
              "      <th>dm</th>\n",
              "      <th>cad</th>\n",
              "      <th>appet</th>\n",
              "      <th>pe</th>\n",
              "      <th>ane</th>\n",
              "      <th>classification</th>\n",
              "    </tr>\n",
              "  </thead>\n",
              "  <tbody>\n",
              "    <tr>\n",
              "      <th>0</th>\n",
              "      <td>48.0</td>\n",
              "      <td>80.0</td>\n",
              "      <td>1.020</td>\n",
              "      <td>1.0</td>\n",
              "      <td>0.0</td>\n",
              "      <td>normal</td>\n",
              "      <td>normal</td>\n",
              "      <td>notpresent</td>\n",
              "      <td>notpresent</td>\n",
              "      <td>121.0</td>\n",
              "      <td>...</td>\n",
              "      <td>44</td>\n",
              "      <td>7800</td>\n",
              "      <td>5.2</td>\n",
              "      <td>yes</td>\n",
              "      <td>yes</td>\n",
              "      <td>no</td>\n",
              "      <td>good</td>\n",
              "      <td>no</td>\n",
              "      <td>no</td>\n",
              "      <td>ckd</td>\n",
              "    </tr>\n",
              "    <tr>\n",
              "      <th>1</th>\n",
              "      <td>7.0</td>\n",
              "      <td>50.0</td>\n",
              "      <td>1.020</td>\n",
              "      <td>4.0</td>\n",
              "      <td>0.0</td>\n",
              "      <td>normal</td>\n",
              "      <td>normal</td>\n",
              "      <td>notpresent</td>\n",
              "      <td>notpresent</td>\n",
              "      <td>121.0</td>\n",
              "      <td>...</td>\n",
              "      <td>38</td>\n",
              "      <td>6000</td>\n",
              "      <td>5.2</td>\n",
              "      <td>no</td>\n",
              "      <td>no</td>\n",
              "      <td>no</td>\n",
              "      <td>good</td>\n",
              "      <td>no</td>\n",
              "      <td>no</td>\n",
              "      <td>ckd</td>\n",
              "    </tr>\n",
              "    <tr>\n",
              "      <th>2</th>\n",
              "      <td>62.0</td>\n",
              "      <td>80.0</td>\n",
              "      <td>1.010</td>\n",
              "      <td>2.0</td>\n",
              "      <td>3.0</td>\n",
              "      <td>normal</td>\n",
              "      <td>normal</td>\n",
              "      <td>notpresent</td>\n",
              "      <td>notpresent</td>\n",
              "      <td>423.0</td>\n",
              "      <td>...</td>\n",
              "      <td>31</td>\n",
              "      <td>7500</td>\n",
              "      <td>5.2</td>\n",
              "      <td>no</td>\n",
              "      <td>yes</td>\n",
              "      <td>no</td>\n",
              "      <td>poor</td>\n",
              "      <td>no</td>\n",
              "      <td>yes</td>\n",
              "      <td>ckd</td>\n",
              "    </tr>\n",
              "    <tr>\n",
              "      <th>3</th>\n",
              "      <td>48.0</td>\n",
              "      <td>70.0</td>\n",
              "      <td>1.005</td>\n",
              "      <td>4.0</td>\n",
              "      <td>0.0</td>\n",
              "      <td>normal</td>\n",
              "      <td>abnormal</td>\n",
              "      <td>present</td>\n",
              "      <td>notpresent</td>\n",
              "      <td>117.0</td>\n",
              "      <td>...</td>\n",
              "      <td>32</td>\n",
              "      <td>6700</td>\n",
              "      <td>3.9</td>\n",
              "      <td>yes</td>\n",
              "      <td>no</td>\n",
              "      <td>no</td>\n",
              "      <td>poor</td>\n",
              "      <td>yes</td>\n",
              "      <td>yes</td>\n",
              "      <td>ckd</td>\n",
              "    </tr>\n",
              "    <tr>\n",
              "      <th>4</th>\n",
              "      <td>51.0</td>\n",
              "      <td>80.0</td>\n",
              "      <td>1.010</td>\n",
              "      <td>2.0</td>\n",
              "      <td>0.0</td>\n",
              "      <td>normal</td>\n",
              "      <td>normal</td>\n",
              "      <td>notpresent</td>\n",
              "      <td>notpresent</td>\n",
              "      <td>106.0</td>\n",
              "      <td>...</td>\n",
              "      <td>35</td>\n",
              "      <td>7300</td>\n",
              "      <td>4.6</td>\n",
              "      <td>no</td>\n",
              "      <td>no</td>\n",
              "      <td>no</td>\n",
              "      <td>good</td>\n",
              "      <td>no</td>\n",
              "      <td>no</td>\n",
              "      <td>ckd</td>\n",
              "    </tr>\n",
              "  </tbody>\n",
              "</table>\n",
              "<p>5 rows � 25 columns</p>\n",
              "</div>\n",
              "      <button class=\"colab-df-convert\" onclick=\"convertToInteractive('df-db349e9d-9f83-45fb-8619-e5a4a56c89a3')\"\n",
              "              title=\"Convert this dataframe to an interactive table.\"\n",
              "              style=\"display:none;\">\n",
              "        \n",
              "  <svg xmlns=\"http://www.w3.org/2000/svg\" height=\"24px\"viewBox=\"0 0 24 24\"\n",
              "       width=\"24px\">\n",
              "    <path d=\"M0 0h24v24H0V0z\" fill=\"none\"/>\n",
              "    <path d=\"M18.56 5.44l.94 2.06.94-2.06 2.06-.94-2.06-.94-.94-2.06-.94 2.06-2.06.94zm-11 1L8.5 8.5l.94-2.06 2.06-.94-2.06-.94L8.5 2.5l-.94 2.06-2.06.94zm10 10l.94 2.06.94-2.06 2.06-.94-2.06-.94-.94-2.06-.94 2.06-2.06.94z\"/><path d=\"M17.41 7.96l-1.37-1.37c-.4-.4-.92-.59-1.43-.59-.52 0-1.04.2-1.43.59L10.3 9.45l-7.72 7.72c-.78.78-.78 2.05 0 2.83L4 21.41c.39.39.9.59 1.41.59.51 0 1.02-.2 1.41-.59l7.78-7.78 2.81-2.81c.8-.78.8-2.07 0-2.86zM5.41 20L4 18.59l7.72-7.72 1.47 1.35L5.41 20z\"/>\n",
              "  </svg>\n",
              "      </button>\n",
              "      \n",
              "  <style>\n",
              "    .colab-df-container {\n",
              "      display:flex;\n",
              "      flex-wrap:wrap;\n",
              "      gap: 12px;\n",
              "    }\n",
              "\n",
              "    .colab-df-convert {\n",
              "      background-color: #E8F0FE;\n",
              "      border: none;\n",
              "      border-radius: 50%;\n",
              "      cursor: pointer;\n",
              "      display: none;\n",
              "      fill: #1967D2;\n",
              "      height: 32px;\n",
              "      padding: 0 0 0 0;\n",
              "      width: 32px;\n",
              "    }\n",
              "\n",
              "    .colab-df-convert:hover {\n",
              "      background-color: #E2EBFA;\n",
              "      box-shadow: 0px 1px 2px rgba(60, 64, 67, 0.3), 0px 1px 3px 1px rgba(60, 64, 67, 0.15);\n",
              "      fill: #174EA6;\n",
              "    }\n",
              "\n",
              "    [theme=dark] .colab-df-convert {\n",
              "      background-color: #3B4455;\n",
              "      fill: #D2E3FC;\n",
              "    }\n",
              "\n",
              "    [theme=dark] .colab-df-convert:hover {\n",
              "      background-color: #434B5C;\n",
              "      box-shadow: 0px 1px 3px 1px rgba(0, 0, 0, 0.15);\n",
              "      filter: drop-shadow(0px 1px 2px rgba(0, 0, 0, 0.3));\n",
              "      fill: #FFFFFF;\n",
              "    }\n",
              "  </style>\n",
              "\n",
              "      <script>\n",
              "        const buttonEl =\n",
              "          document.querySelector('#df-db349e9d-9f83-45fb-8619-e5a4a56c89a3 button.colab-df-convert');\n",
              "        buttonEl.style.display =\n",
              "          google.colab.kernel.accessAllowed ? 'block' : 'none';\n",
              "\n",
              "        async function convertToInteractive(key) {\n",
              "          const element = document.querySelector('#df-db349e9d-9f83-45fb-8619-e5a4a56c89a3');\n",
              "          const dataTable =\n",
              "            await google.colab.kernel.invokeFunction('convertToInteractive',\n",
              "                                                     [key], {});\n",
              "          if (!dataTable) return;\n",
              "\n",
              "          const docLinkHtml = 'Like what you see? Visit the ' +\n",
              "            '<a target=\"_blank\" href=https://colab.research.google.com/notebooks/data_table.ipynb>data table notebook</a>'\n",
              "            + ' to learn more about interactive tables.';\n",
              "          element.innerHTML = '';\n",
              "          dataTable['output_type'] = 'display_data';\n",
              "          await google.colab.output.renderOutput(dataTable, element);\n",
              "          const docLink = document.createElement('div');\n",
              "          docLink.innerHTML = docLinkHtml;\n",
              "          element.appendChild(docLink);\n",
              "        }\n",
              "      </script>\n",
              "    </div>\n",
              "  </div>\n",
              "  "
            ]
          },
          "metadata": {},
          "execution_count": 23
        }
      ]
    },
    {
      "cell_type": "markdown",
      "source": [
        "**Finding and replacing the outliers**"
      ],
      "metadata": {
        "id": "7xD2xGpfm_C4"
      }
    },
    {
      "cell_type": "code",
      "source": [
        "df.dtypes"
      ],
      "metadata": {
        "colab": {
          "base_uri": "https://localhost:8080/"
        },
        "id": "vzwRB0pXoQaE",
        "outputId": "e608811c-afac-4c36-b4aa-7654e2a9f90d"
      },
      "execution_count": null,
      "outputs": [
        {
          "output_type": "execute_result",
          "data": {
            "text/plain": [
              "age               float64\n",
              "bp                float64\n",
              "sg                float64\n",
              "al                float64\n",
              "su                float64\n",
              "rbc                object\n",
              "pc                 object\n",
              "pcc                object\n",
              "ba                 object\n",
              "bgr               float64\n",
              "bu                float64\n",
              "sc                float64\n",
              "sod               float64\n",
              "pot               float64\n",
              "hemo              float64\n",
              "pcv                object\n",
              "wc                 object\n",
              "rc                 object\n",
              "htn                object\n",
              "dm                 object\n",
              "cad                object\n",
              "appet              object\n",
              "pe                 object\n",
              "ane                object\n",
              "classification     object\n",
              "dtype: object"
            ]
          },
          "metadata": {},
          "execution_count": 24
        }
      ]
    },
    {
      "cell_type": "code",
      "source": [
        "sns.set_theme(style=\"darkgrid\")\n",
        "fig, ((ax1, ax2,ax3,ax4,ax5), (ax6, ax7,ax8,ax9,ax10))= plt.subplots(nrows=2, ncols=5, figsize=(18,14))\n",
        "sns.boxplot(data=df,x=\"age\",ax=ax1)\n",
        "sns.boxplot(data=df,x=\"bp\",ax=ax2)\n",
        "sns.boxplot(data=df,x=\"sg\",ax=ax3)\n",
        "sns.boxplot(data=df,x=\"al\",ax=ax4)\n",
        "sns.boxplot(data=df,x=\"bgr\",ax=ax5)\n",
        "sns.boxplot(data=df,x=\"bu\",ax=ax6)\n",
        "sns.boxplot(data=df,x=\"sc\",ax=ax7)\n",
        "sns.boxplot(data=df,x=\"sod\",ax=ax8)\n",
        "sns.boxplot(data=df,x=\"pot\",ax=ax9)\n",
        "sns.boxplot(data=df,x=\"hemo\",ax=ax10)"
      ],
      "metadata": {
        "colab": {
          "base_uri": "https://localhost:8080/",
          "height": 847
        },
        "id": "-1Gtd7xMm8wg",
        "outputId": "9fa9648e-eb9f-498f-9350-58432f95ee43"
      },
      "execution_count": null,
      "outputs": [
        {
          "output_type": "execute_result",
          "data": {
            "text/plain": [
              "<matplotlib.axes._subplots.AxesSubplot at 0x7f2bb66c9590>"
            ]
          },
          "metadata": {},
          "execution_count": 25
        },
        {
          "output_type": "display_data",
          "data": {
            "text/plain": [
              "<Figure size 1296x1008 with 10 Axes>"
            ],
            "image/png": "[encoded data removed]"
          },
          "metadata": {}
        }
      ]
    },
    {
      "cell_type": "code",
      "source": [
        "p25 = df['bgr'].quantile(0.25)\n",
        "p75 = df['bgr'].quantile(0.75)\n",
        "iqr=p75-p25\n",
        "# Finding upper and lower limit\n",
        "upper_limit = p75 + 1.5 * iqr\n",
        "lower_limit = p25 - 1.5 * iqr\n",
        "df[df['bgr'] > upper_limit]\n",
        "df[df['bgr'] < lower_limit]\n",
        "#Trimming the outlier\n",
        "new_df = df[df['bgr'] < upper_limit]\n"
      ],
      "metadata": {
        "id": "WZXSveWHo4OJ"
      },
      "execution_count": null,
      "outputs": []
    },
    {
      "cell_type": "code",
      "source": [
        "p25 = df['sc'].quantile(0.25)\n",
        "p75 = df['sc'].quantile(0.75)\n",
        "iqr=p75-p25\n",
        "# Finding upper and lower limit\n",
        "upper_limit = p75 + 1.5 * iqr\n",
        "lower_limit = p25 - 1.5 * iqr\n",
        "df[df['sc'] > upper_limit]\n",
        "df[df['sc'] < lower_limit]\n",
        "#Trimming the outlier\n",
        "new_df = df[df['sc'] < upper_limit]"
      ],
      "metadata": {
        "id": "T0DFGAiNpM_K"
      },
      "execution_count": null,
      "outputs": []
    },
    {
      "cell_type": "code",
      "source": [
        "p25 = df['bu'].quantile(0.25)\n",
        "p75 = df['bu'].quantile(0.75)\n",
        "iqr=p75-p25\n",
        "# Finding upper and lower limit\n",
        "upper_limit = p75 + 1.5 * iqr\n",
        "lower_limit = p25 - 1.5 * iqr\n",
        "df[df['bu'] > upper_limit]\n",
        "df[df['bu'] < lower_limit]\n",
        "#Trimming the outlier\n",
        "new_df = df[df['bu'] < upper_limit]"
      ],
      "metadata": {
        "id": "CgpCjVL4pTPD"
      },
      "execution_count": null,
      "outputs": []
    },
    {
      "cell_type": "markdown",
      "source": [
        "**Check for Categorical columns and perform encoding**"
      ],
      "metadata": {
        "id": "_7P0UoPAmG9N"
      }
    },
    {
      "cell_type": "code",
      "source": [
        "le = LabelEncoder()\n",
        "object_col = [col for col in df.columns if df[col].dtype == 'object']\n",
        "for col in object_col:\n",
        "    df[col] = le.fit_transform(df[col])"
      ],
      "metadata": {
        "id": "ZZkNyKYEv6fD"
      },
      "execution_count": null,
      "outputs": []
    },
    {
      "cell_type": "code",
      "source": [
        "df.dtypes"
      ],
      "metadata": {
        "colab": {
          "base_uri": "https://localhost:8080/"
        },
        "id": "HO79XzsMv-CL",
        "outputId": "344df88d-bd7e-4545-fd3b-ad829bd3f0a1"
      },
      "execution_count": null,
      "outputs": [
        {
          "output_type": "execute_result",
          "data": {
            "text/plain": [
              "age               float64\n",
              "bp                float64\n",
              "sg                float64\n",
              "al                float64\n",
              "su                float64\n",
              "rbc                 int64\n",
              "pc                  int64\n",
              "pcc                 int64\n",
              "ba                  int64\n",
              "bgr               float64\n",
              "bu                float64\n",
              "sc                float64\n",
              "sod               float64\n",
              "pot               float64\n",
              "hemo              float64\n",
              "pcv                 int64\n",
              "wc                  int64\n",
              "rc                  int64\n",
              "htn                 int64\n",
              "dm                  int64\n",
              "cad                 int64\n",
              "appet               int64\n",
              "pe                  int64\n",
              "ane                 int64\n",
              "classification      int64\n",
              "dtype: object"
            ]
          },
          "metadata": {},
          "execution_count": 30
        }
      ]
    },
    {
      "cell_type": "code",
      "source": [
        "df.corr().T"
      ],
      "metadata": {
        "colab": {
          "base_uri": "https://localhost:8080/",
          "height": 926
        },
        "id": "Z20-lpzacrDC",
        "outputId": "1e9d1bc2-a8b9-426f-84a3-8dcc1830e9a3"
      },
      "execution_count": null,
      "outputs": [
        {
          "output_type": "execute_result",
          "data": {
            "text/plain": [
              "                     age        bp        sg        al        su       rbc  \\\n",
              "age             1.000000  0.148004 -0.180570  0.114764  0.187615 -0.011783   \n",
              "bp              0.148004  1.000000 -0.182463  0.146593  0.190218 -0.151369   \n",
              "sg             -0.180570 -0.182463  1.000000 -0.466698 -0.282115  0.236228   \n",
              "al              0.114764  0.146593 -0.466698  1.000000  0.261983 -0.373927   \n",
              "su              0.187615  0.190218 -0.282115  0.261983  1.000000 -0.092940   \n",
              "rbc            -0.011783 -0.151369  0.236228 -0.373927 -0.092940  1.000000   \n",
              "pc             -0.101951 -0.156856  0.345325 -0.535157 -0.190062  0.377394   \n",
              "pcc             0.159074  0.059560 -0.290663  0.399749  0.168091 -0.102948   \n",
              "ba              0.043573  0.112173 -0.220792  0.367855  0.119399 -0.184402   \n",
              "bgr             0.230858  0.150075 -0.308115  0.309238  0.627002 -0.138615   \n",
              "bu              0.192809  0.182980 -0.274926  0.406913  0.126897 -0.233935   \n",
              "sc              0.133438  0.144478 -0.210004  0.232673  0.096434 -0.135660   \n",
              "sod            -0.085760 -0.102120  0.236087 -0.268868 -0.051758  0.139037   \n",
              "pot             0.049753  0.064715 -0.051244  0.110606  0.177396  0.020473   \n",
              "hemo           -0.175166 -0.279024  0.529966 -0.549426 -0.156807  0.280996   \n",
              "pcv            -0.218646 -0.267013  0.488899 -0.476406 -0.163350  0.299237   \n",
              "wc              0.043785 -0.011108 -0.006333 -0.019264  0.021010  0.062015   \n",
              "rc             -0.211913 -0.211268  0.377653 -0.400016 -0.142599  0.158677   \n",
              "htn             0.393440  0.270447 -0.366959  0.481724  0.254268 -0.140538   \n",
              "dm              0.293743  0.152211 -0.250773  0.269855  0.380897 -0.146207   \n",
              "cad             0.225692  0.072585 -0.125424  0.228579  0.227744 -0.113848   \n",
              "appet           0.157741  0.177601 -0.246822  0.330562  0.069216 -0.160868   \n",
              "pe              0.094434  0.054083 -0.272476  0.440893  0.116442 -0.199285   \n",
              "ane             0.050567  0.194962 -0.213276  0.282305  0.042464 -0.107625   \n",
              "classification -0.225405 -0.290600  0.698957 -0.599238 -0.294555  0.282642   \n",
              "\n",
              "                      pc       pcc        ba       bgr  ...       pcv  \\\n",
              "age            -0.101951  0.159074  0.043573  0.230858  ... -0.218646   \n",
              "bp             -0.156856  0.059560  0.112173  0.150075  ... -0.267013   \n",
              "sg              0.345325 -0.290663 -0.220792 -0.308115  ...  0.488899   \n",
              "al             -0.535157  0.399749  0.367855  0.309238  ... -0.476406   \n",
              "su             -0.190062  0.168091  0.119399  0.627002  ... -0.163350   \n",
              "rbc             0.377394 -0.102948 -0.184402 -0.138615  ...  0.299237   \n",
              "pc              1.000000 -0.520118 -0.330401 -0.247665  ...  0.398211   \n",
              "pcc            -0.520118  1.000000  0.275082  0.195223  ... -0.247335   \n",
              "ba             -0.330401  0.275082  1.000000  0.079162  ... -0.185100   \n",
              "bgr            -0.247665  0.195223  0.079162  1.000000  ... -0.249856   \n",
              "bu             -0.344501  0.189094  0.161676  0.118859  ... -0.435599   \n",
              "sc             -0.158038  0.054429  0.053959  0.068886  ... -0.298690   \n",
              "sod             0.171171 -0.138816 -0.082156 -0.130569  ...  0.321612   \n",
              "pot            -0.155434 -0.011416 -0.001944  0.052732  ... -0.103792   \n",
              "hemo            0.411707 -0.276645 -0.204860 -0.254435  ...  0.774797   \n",
              "pcv             0.398211 -0.247335 -0.185100 -0.249856  ...  1.000000   \n",
              "wc              0.079813 -0.089209 -0.112368  0.024089  ...  0.065827   \n",
              "rc              0.358180 -0.232917 -0.184823 -0.199200  ...  0.583744   \n",
              "htn            -0.291719  0.195623  0.089046  0.367816  ... -0.543552   \n",
              "dm             -0.167356  0.160626  0.083363  0.428477  ... -0.386039   \n",
              "cad            -0.152519  0.187283  0.160807  0.204869  ... -0.276542   \n",
              "appet          -0.274985  0.189688  0.149126  0.177285  ... -0.332734   \n",
              "pe             -0.350227  0.104356  0.134732  0.094806  ... -0.361331   \n",
              "ane            -0.260566  0.175861  0.052208  0.112449  ... -0.465659   \n",
              "classification  0.375154 -0.265313 -0.186871 -0.379321  ...  0.650531   \n",
              "\n",
              "                      wc        rc       htn        dm       cad     appet  \\\n",
              "age             0.043785 -0.211913  0.393440  0.293743  0.225692  0.157741   \n",
              "bp             -0.011108 -0.211268  0.270447  0.152211  0.072585  0.177601   \n",
              "sg             -0.006333  0.377653 -0.366959 -0.250773 -0.125424 -0.246822   \n",
              "al             -0.019264 -0.400016  0.481724  0.269855  0.228579  0.330562   \n",
              "su              0.021010 -0.142599  0.254268  0.380897  0.227744  0.069216   \n",
              "rbc             0.062015  0.158677 -0.140538 -0.146207 -0.113848 -0.160868   \n",
              "pc              0.079813  0.358180 -0.291719 -0.167356 -0.152519 -0.274985   \n",
              "pcc            -0.089209 -0.232917  0.195623  0.160626  0.187283  0.189688   \n",
              "ba             -0.112368 -0.184823  0.089046  0.083363  0.160807  0.149126   \n",
              "bgr             0.024089 -0.199200  0.367816  0.428477  0.204869  0.177285   \n",
              "bu             -0.035735 -0.445093  0.395601  0.253779  0.215300  0.274123   \n",
              "sc              0.001367 -0.296631  0.282864  0.180089  0.193007  0.162131   \n",
              "sod             0.041701  0.306853 -0.306953 -0.225601 -0.214120 -0.158112   \n",
              "pot            -0.001320 -0.108605  0.055840  0.058141  0.008371 -0.019855   \n",
              "hemo           -0.003744  0.589201 -0.581205 -0.395462 -0.258492 -0.389592   \n",
              "pcv             0.065827  0.583744 -0.543552 -0.386039 -0.276542 -0.332734   \n",
              "wc              1.000000  0.244146  0.030420  0.003348 -0.024728  0.023729   \n",
              "rc              0.244146  1.000000 -0.496244 -0.342012 -0.266395 -0.347918   \n",
              "htn             0.030420 -0.496244  1.000000  0.482889  0.309183  0.345070   \n",
              "dm              0.003348 -0.342012  0.482889  1.000000  0.244996  0.303861   \n",
              "cad            -0.024728 -0.266395  0.309183  0.244996  1.000000  0.159349   \n",
              "appet           0.023729 -0.347918  0.345070  0.303861  0.159349  1.000000   \n",
              "pe              0.038136 -0.275030  0.371026  0.288469  0.174559  0.417055   \n",
              "ane             0.008292 -0.358598  0.347802  0.181449  0.053273  0.254942   \n",
              "classification -0.094409  0.444823 -0.590438 -0.401490 -0.214320 -0.393341   \n",
              "\n",
              "                      pe       ane  classification  \n",
              "age             0.094434  0.050567       -0.225405  \n",
              "bp              0.054083  0.194962       -0.290600  \n",
              "sg             -0.272476 -0.213276        0.698957  \n",
              "al              0.440893  0.282305       -0.599238  \n",
              "su              0.116442  0.042464       -0.294555  \n",
              "rbc            -0.199285 -0.107625        0.282642  \n",
              "pc             -0.350227 -0.260566        0.375154  \n",
              "pcc             0.104356  0.175861       -0.265313  \n",
              "ba              0.134732  0.052208       -0.186871  \n",
              "bgr             0.094806  0.112449       -0.379321  \n",
              "bu              0.338740  0.436321       -0.369393  \n",
              "sc              0.176685  0.236528       -0.291245  \n",
              "sod            -0.150379 -0.198643        0.334900  \n",
              "pot             0.061354  0.100791       -0.065218  \n",
              "hemo           -0.381524 -0.556635        0.726368  \n",
              "pcv            -0.361331 -0.465659        0.650531  \n",
              "wc              0.038136  0.008292       -0.094409  \n",
              "rc             -0.275030 -0.358598        0.444823  \n",
              "htn             0.371026  0.347802       -0.590438  \n",
              "dm              0.288469  0.181449       -0.401490  \n",
              "cad             0.174559  0.053273       -0.214320  \n",
              "appet           0.417055  0.254942       -0.393341  \n",
              "pe              1.000000  0.207025       -0.375154  \n",
              "ane             0.207025  1.000000       -0.325396  \n",
              "classification -0.375154 -0.325396        1.000000  \n",
              "\n",
              "[25 rows x 25 columns]"
            ],
            "text/html": [
              "\n",
              "  <div id=\"df-02a04bf4-ff20-469d-85f0-62720007b290\">\n",
              "    <div class=\"colab-df-container\">\n",
              "      <div>\n",
              "<style scoped>\n",
              "    .dataframe tbody tr th:only-of-type {\n",
              "        vertical-align: middle;\n",
              "    }\n",
              "\n",
              "    .dataframe tbody tr th {\n",
              "        vertical-align: top;\n",
              "    }\n",
              "\n",
              "    .dataframe thead th {\n",
              "        text-align: right;\n",
              "    }\n",
              "</style>\n",
              "<table border=\"1\" class=\"dataframe\">\n",
              "  <thead>\n",
              "    <tr style=\"text-align: right;\">\n",
              "      <th></th>\n",
              "      <th>age</th>\n",
              "      <th>bp</th>\n",
              "      <th>sg</th>\n",
              "      <th>al</th>\n",
              "      <th>su</th>\n",
              "      <th>rbc</th>\n",
              "      <th>pc</th>\n",
              "      <th>pcc</th>\n",
              "      <th>ba</th>\n",
              "      <th>bgr</th>\n",
              "      <th>...</th>\n",
              "      <th>pcv</th>\n",
              "      <th>wc</th>\n",
              "      <th>rc</th>\n",
              "      <th>htn</th>\n",
              "      <th>dm</th>\n",
              "      <th>cad</th>\n",
              "      <th>appet</th>\n",
              "      <th>pe</th>\n",
              "      <th>ane</th>\n",
              "      <th>classification</th>\n",
              "    </tr>\n",
              "  </thead>\n",
              "  <tbody>\n",
              "    <tr>\n",
              "      <th>age</th>\n",
              "      <td>1.000000</td>\n",
              "      <td>0.148004</td>\n",
              "      <td>-0.180570</td>\n",
              "      <td>0.114764</td>\n",
              "      <td>0.187615</td>\n",
              "      <td>-0.011783</td>\n",
              "      <td>-0.101951</td>\n",
              "      <td>0.159074</td>\n",
              "      <td>0.043573</td>\n",
              "      <td>0.230858</td>\n",
              "      <td>...</td>\n",
              "      <td>-0.218646</td>\n",
              "      <td>0.043785</td>\n",
              "      <td>-0.211913</td>\n",
              "      <td>0.393440</td>\n",
              "      <td>0.293743</td>\n",
              "      <td>0.225692</td>\n",
              "      <td>0.157741</td>\n",
              "      <td>0.094434</td>\n",
              "      <td>0.050567</td>\n",
              "      <td>-0.225405</td>\n",
              "    </tr>\n",
              "    <tr>\n",
              "      <th>bp</th>\n",
              "      <td>0.148004</td>\n",
              "      <td>1.000000</td>\n",
              "      <td>-0.182463</td>\n",
              "      <td>0.146593</td>\n",
              "      <td>0.190218</td>\n",
              "      <td>-0.151369</td>\n",
              "      <td>-0.156856</td>\n",
              "      <td>0.059560</td>\n",
              "      <td>0.112173</td>\n",
              "      <td>0.150075</td>\n",
              "      <td>...</td>\n",
              "      <td>-0.267013</td>\n",
              "      <td>-0.011108</td>\n",
              "      <td>-0.211268</td>\n",
              "      <td>0.270447</td>\n",
              "      <td>0.152211</td>\n",
              "      <td>0.072585</td>\n",
              "      <td>0.177601</td>\n",
              "      <td>0.054083</td>\n",
              "      <td>0.194962</td>\n",
              "      <td>-0.290600</td>\n",
              "    </tr>\n",
              "    <tr>\n",
              "      <th>sg</th>\n",
              "      <td>-0.180570</td>\n",
              "      <td>-0.182463</td>\n",
              "      <td>1.000000</td>\n",
              "      <td>-0.466698</td>\n",
              "      <td>-0.282115</td>\n",
              "      <td>0.236228</td>\n",
              "      <td>0.345325</td>\n",
              "      <td>-0.290663</td>\n",
              "      <td>-0.220792</td>\n",
              "      <td>-0.308115</td>\n",
              "      <td>...</td>\n",
              "      <td>0.488899</td>\n",
              "      <td>-0.006333</td>\n",
              "      <td>0.377653</td>\n",
              "      <td>-0.366959</td>\n",
              "      <td>-0.250773</td>\n",
              "      <td>-0.125424</td>\n",
              "      <td>-0.246822</td>\n",
              "      <td>-0.272476</td>\n",
              "      <td>-0.213276</td>\n",
              "      <td>0.698957</td>\n",
              "    </tr>\n",
              "    <tr>\n",
              "      <th>al</th>\n",
              "      <td>0.114764</td>\n",
              "      <td>0.146593</td>\n",
              "      <td>-0.466698</td>\n",
              "      <td>1.000000</td>\n",
              "      <td>0.261983</td>\n",
              "      <td>-0.373927</td>\n",
              "      <td>-0.535157</td>\n",
              "      <td>0.399749</td>\n",
              "      <td>0.367855</td>\n",
              "      <td>0.309238</td>\n",
              "      <td>...</td>\n",
              "      <td>-0.476406</td>\n",
              "      <td>-0.019264</td>\n",
              "      <td>-0.400016</td>\n",
              "      <td>0.481724</td>\n",
              "      <td>0.269855</td>\n",
              "      <td>0.228579</td>\n",
              "      <td>0.330562</td>\n",
              "      <td>0.440893</td>\n",
              "      <td>0.282305</td>\n",
              "      <td>-0.599238</td>\n",
              "    </tr>\n",
              "    <tr>\n",
              "      <th>su</th>\n",
              "      <td>0.187615</td>\n",
              "      <td>0.190218</td>\n",
              "      <td>-0.282115</td>\n",
              "      <td>0.261983</td>\n",
              "      <td>1.000000</td>\n",
              "      <td>-0.092940</td>\n",
              "      <td>-0.190062</td>\n",
              "      <td>0.168091</td>\n",
              "      <td>0.119399</td>\n",
              "      <td>0.627002</td>\n",
              "      <td>...</td>\n",
              "      <td>-0.163350</td>\n",
              "      <td>0.021010</td>\n",
              "      <td>-0.142599</td>\n",
              "      <td>0.254268</td>\n",
              "      <td>0.380897</td>\n",
              "      <td>0.227744</td>\n",
              "      <td>0.069216</td>\n",
              "      <td>0.116442</td>\n",
              "      <td>0.042464</td>\n",
              "      <td>-0.294555</td>\n",
              "    </tr>\n",
              "    <tr>\n",
              "      <th>rbc</th>\n",
              "      <td>-0.011783</td>\n",
              "      <td>-0.151369</td>\n",
              "      <td>0.236228</td>\n",
              "      <td>-0.373927</td>\n",
              "      <td>-0.092940</td>\n",
              "      <td>1.000000</td>\n",
              "      <td>0.377394</td>\n",
              "      <td>-0.102948</td>\n",
              "      <td>-0.184402</td>\n",
              "      <td>-0.138615</td>\n",
              "      <td>...</td>\n",
              "      <td>0.299237</td>\n",
              "      <td>0.062015</td>\n",
              "      <td>0.158677</td>\n",
              "      <td>-0.140538</td>\n",
              "      <td>-0.146207</td>\n",
              "      <td>-0.113848</td>\n",
              "      <td>-0.160868</td>\n",
              "      <td>-0.199285</td>\n",
              "      <td>-0.107625</td>\n",
              "      <td>0.282642</td>\n",
              "    </tr>\n",
              "    <tr>\n",
              "      <th>pc</th>\n",
              "      <td>-0.101951</td>\n",
              "      <td>-0.156856</td>\n",
              "      <td>0.345325</td>\n",
              "      <td>-0.535157</td>\n",
              "      <td>-0.190062</td>\n",
              "      <td>0.377394</td>\n",
              "      <td>1.000000</td>\n",
              "      <td>-0.520118</td>\n",
              "      <td>-0.330401</td>\n",
              "      <td>-0.247665</td>\n",
              "      <td>...</td>\n",
              "      <td>0.398211</td>\n",
              "      <td>0.079813</td>\n",
              "      <td>0.358180</td>\n",
              "      <td>-0.291719</td>\n",
              "      <td>-0.167356</td>\n",
              "      <td>-0.152519</td>\n",
              "      <td>-0.274985</td>\n",
              "      <td>-0.350227</td>\n",
              "      <td>-0.260566</td>\n",
              "      <td>0.375154</td>\n",
              "    </tr>\n",
              "    <tr>\n",
              "      <th>pcc</th>\n",
              "      <td>0.159074</td>\n",
              "      <td>0.059560</td>\n",
              "      <td>-0.290663</td>\n",
              "      <td>0.399749</td>\n",
              "      <td>0.168091</td>\n",
              "      <td>-0.102948</td>\n",
              "      <td>-0.520118</td>\n",
              "      <td>1.000000</td>\n",
              "      <td>0.275082</td>\n",
              "      <td>0.195223</td>\n",
              "      <td>...</td>\n",
              "      <td>-0.247335</td>\n",
              "      <td>-0.089209</td>\n",
              "      <td>-0.232917</td>\n",
              "      <td>0.195623</td>\n",
              "      <td>0.160626</td>\n",
              "      <td>0.187283</td>\n",
              "      <td>0.189688</td>\n",
              "      <td>0.104356</td>\n",
              "      <td>0.175861</td>\n",
              "      <td>-0.265313</td>\n",
              "    </tr>\n",
              "    <tr>\n",
              "      <th>ba</th>\n",
              "      <td>0.043573</td>\n",
              "      <td>0.112173</td>\n",
              "      <td>-0.220792</td>\n",
              "      <td>0.367855</td>\n",
              "      <td>0.119399</td>\n",
              "      <td>-0.184402</td>\n",
              "      <td>-0.330401</td>\n",
              "      <td>0.275082</td>\n",
              "      <td>1.000000</td>\n",
              "      <td>0.079162</td>\n",
              "      <td>...</td>\n",
              "      <td>-0.185100</td>\n",
              "      <td>-0.112368</td>\n",
              "      <td>-0.184823</td>\n",
              "      <td>0.089046</td>\n",
              "      <td>0.083363</td>\n",
              "      <td>0.160807</td>\n",
              "      <td>0.149126</td>\n",
              "      <td>0.134732</td>\n",
              "      <td>0.052208</td>\n",
              "      <td>-0.186871</td>\n",
              "    </tr>\n",
              "    <tr>\n",
              "      <th>bgr</th>\n",
              "      <td>0.230858</td>\n",
              "      <td>0.150075</td>\n",
              "      <td>-0.308115</td>\n",
              "      <td>0.309238</td>\n",
              "      <td>0.627002</td>\n",
              "      <td>-0.138615</td>\n",
              "      <td>-0.247665</td>\n",
              "      <td>0.195223</td>\n",
              "      <td>0.079162</td>\n",
              "      <td>1.000000</td>\n",
              "      <td>...</td>\n",
              "      <td>-0.249856</td>\n",
              "      <td>0.024089</td>\n",
              "      <td>-0.199200</td>\n",
              "      <td>0.367816</td>\n",
              "      <td>0.428477</td>\n",
              "      <td>0.204869</td>\n",
              "      <td>0.177285</td>\n",
              "      <td>0.094806</td>\n",
              "      <td>0.112449</td>\n",
              "      <td>-0.379321</td>\n",
              "    </tr>\n",
              "    <tr>\n",
              "      <th>bu</th>\n",
              "      <td>0.192809</td>\n",
              "      <td>0.182980</td>\n",
              "      <td>-0.274926</td>\n",
              "      <td>0.406913</td>\n",
              "      <td>0.126897</td>\n",
              "      <td>-0.233935</td>\n",
              "      <td>-0.344501</td>\n",
              "      <td>0.189094</td>\n",
              "      <td>0.161676</td>\n",
              "      <td>0.118859</td>\n",
              "      <td>...</td>\n",
              "      <td>-0.435599</td>\n",
              "      <td>-0.035735</td>\n",
              "      <td>-0.445093</td>\n",
              "      <td>0.395601</td>\n",
              "      <td>0.253779</td>\n",
              "      <td>0.215300</td>\n",
              "      <td>0.274123</td>\n",
              "      <td>0.338740</td>\n",
              "      <td>0.436321</td>\n",
              "      <td>-0.369393</td>\n",
              "    </tr>\n",
              "    <tr>\n",
              "      <th>sc</th>\n",
              "      <td>0.133438</td>\n",
              "      <td>0.144478</td>\n",
              "      <td>-0.210004</td>\n",
              "      <td>0.232673</td>\n",
              "      <td>0.096434</td>\n",
              "      <td>-0.135660</td>\n",
              "      <td>-0.158038</td>\n",
              "      <td>0.054429</td>\n",
              "      <td>0.053959</td>\n",
              "      <td>0.068886</td>\n",
              "      <td>...</td>\n",
              "      <td>-0.298690</td>\n",
              "      <td>0.001367</td>\n",
              "      <td>-0.296631</td>\n",
              "      <td>0.282864</td>\n",
              "      <td>0.180089</td>\n",
              "      <td>0.193007</td>\n",
              "      <td>0.162131</td>\n",
              "      <td>0.176685</td>\n",
              "      <td>0.236528</td>\n",
              "      <td>-0.291245</td>\n",
              "    </tr>\n",
              "    <tr>\n",
              "      <th>sod</th>\n",
              "      <td>-0.085760</td>\n",
              "      <td>-0.102120</td>\n",
              "      <td>0.236087</td>\n",
              "      <td>-0.268868</td>\n",
              "      <td>-0.051758</td>\n",
              "      <td>0.139037</td>\n",
              "      <td>0.171171</td>\n",
              "      <td>-0.138816</td>\n",
              "      <td>-0.082156</td>\n",
              "      <td>-0.130569</td>\n",
              "      <td>...</td>\n",
              "      <td>0.321612</td>\n",
              "      <td>0.041701</td>\n",
              "      <td>0.306853</td>\n",
              "      <td>-0.306953</td>\n",
              "      <td>-0.225601</td>\n",
              "      <td>-0.214120</td>\n",
              "      <td>-0.158112</td>\n",
              "      <td>-0.150379</td>\n",
              "      <td>-0.198643</td>\n",
              "      <td>0.334900</td>\n",
              "    </tr>\n",
              "    <tr>\n",
              "      <th>pot</th>\n",
              "      <td>0.049753</td>\n",
              "      <td>0.064715</td>\n",
              "      <td>-0.051244</td>\n",
              "      <td>0.110606</td>\n",
              "      <td>0.177396</td>\n",
              "      <td>0.020473</td>\n",
              "      <td>-0.155434</td>\n",
              "      <td>-0.011416</td>\n",
              "      <td>-0.001944</td>\n",
              "      <td>0.052732</td>\n",
              "      <td>...</td>\n",
              "      <td>-0.103792</td>\n",
              "      <td>-0.001320</td>\n",
              "      <td>-0.108605</td>\n",
              "      <td>0.055840</td>\n",
              "      <td>0.058141</td>\n",
              "      <td>0.008371</td>\n",
              "      <td>-0.019855</td>\n",
              "      <td>0.061354</td>\n",
              "      <td>0.100791</td>\n",
              "      <td>-0.065218</td>\n",
              "    </tr>\n",
              "    <tr>\n",
              "      <th>hemo</th>\n",
              "      <td>-0.175166</td>\n",
              "      <td>-0.279024</td>\n",
              "      <td>0.529966</td>\n",
              "      <td>-0.549426</td>\n",
              "      <td>-0.156807</td>\n",
              "      <td>0.280996</td>\n",
              "      <td>0.411707</td>\n",
              "      <td>-0.276645</td>\n",
              "      <td>-0.204860</td>\n",
              "      <td>-0.254435</td>\n",
              "      <td>...</td>\n",
              "      <td>0.774797</td>\n",
              "      <td>-0.003744</td>\n",
              "      <td>0.589201</td>\n",
              "      <td>-0.581205</td>\n",
              "      <td>-0.395462</td>\n",
              "      <td>-0.258492</td>\n",
              "      <td>-0.389592</td>\n",
              "      <td>-0.381524</td>\n",
              "      <td>-0.556635</td>\n",
              "      <td>0.726368</td>\n",
              "    </tr>\n",
              "    <tr>\n",
              "      <th>pcv</th>\n",
              "      <td>-0.218646</td>\n",
              "      <td>-0.267013</td>\n",
              "      <td>0.488899</td>\n",
              "      <td>-0.476406</td>\n",
              "      <td>-0.163350</td>\n",
              "      <td>0.299237</td>\n",
              "      <td>0.398211</td>\n",
              "      <td>-0.247335</td>\n",
              "      <td>-0.185100</td>\n",
              "      <td>-0.249856</td>\n",
              "      <td>...</td>\n",
              "      <td>1.000000</td>\n",
              "      <td>0.065827</td>\n",
              "      <td>0.583744</td>\n",
              "      <td>-0.543552</td>\n",
              "      <td>-0.386039</td>\n",
              "      <td>-0.276542</td>\n",
              "      <td>-0.332734</td>\n",
              "      <td>-0.361331</td>\n",
              "      <td>-0.465659</td>\n",
              "      <td>0.650531</td>\n",
              "    </tr>\n",
              "    <tr>\n",
              "      <th>wc</th>\n",
              "      <td>0.043785</td>\n",
              "      <td>-0.011108</td>\n",
              "      <td>-0.006333</td>\n",
              "      <td>-0.019264</td>\n",
              "      <td>0.021010</td>\n",
              "      <td>0.062015</td>\n",
              "      <td>0.079813</td>\n",
              "      <td>-0.089209</td>\n",
              "      <td>-0.112368</td>\n",
              "      <td>0.024089</td>\n",
              "      <td>...</td>\n",
              "      <td>0.065827</td>\n",
              "      <td>1.000000</td>\n",
              "      <td>0.244146</td>\n",
              "      <td>0.030420</td>\n",
              "      <td>0.003348</td>\n",
              "      <td>-0.024728</td>\n",
              "      <td>0.023729</td>\n",
              "      <td>0.038136</td>\n",
              "      <td>0.008292</td>\n",
              "      <td>-0.094409</td>\n",
              "    </tr>\n",
              "    <tr>\n",
              "      <th>rc</th>\n",
              "      <td>-0.211913</td>\n",
              "      <td>-0.211268</td>\n",
              "      <td>0.377653</td>\n",
              "      <td>-0.400016</td>\n",
              "      <td>-0.142599</td>\n",
              "      <td>0.158677</td>\n",
              "      <td>0.358180</td>\n",
              "      <td>-0.232917</td>\n",
              "      <td>-0.184823</td>\n",
              "      <td>-0.199200</td>\n",
              "      <td>...</td>\n",
              "      <td>0.583744</td>\n",
              "      <td>0.244146</td>\n",
              "      <td>1.000000</td>\n",
              "      <td>-0.496244</td>\n",
              "      <td>-0.342012</td>\n",
              "      <td>-0.266395</td>\n",
              "      <td>-0.347918</td>\n",
              "      <td>-0.275030</td>\n",
              "      <td>-0.358598</td>\n",
              "      <td>0.444823</td>\n",
              "    </tr>\n",
              "    <tr>\n",
              "      <th>htn</th>\n",
              "      <td>0.393440</td>\n",
              "      <td>0.270447</td>\n",
              "      <td>-0.366959</td>\n",
              "      <td>0.481724</td>\n",
              "      <td>0.254268</td>\n",
              "      <td>-0.140538</td>\n",
              "      <td>-0.291719</td>\n",
              "      <td>0.195623</td>\n",
              "      <td>0.089046</td>\n",
              "      <td>0.367816</td>\n",
              "      <td>...</td>\n",
              "      <td>-0.543552</td>\n",
              "      <td>0.030420</td>\n",
              "      <td>-0.496244</td>\n",
              "      <td>1.000000</td>\n",
              "      <td>0.482889</td>\n",
              "      <td>0.309183</td>\n",
              "      <td>0.345070</td>\n",
              "      <td>0.371026</td>\n",
              "      <td>0.347802</td>\n",
              "      <td>-0.590438</td>\n",
              "    </tr>\n",
              "    <tr>\n",
              "      <th>dm</th>\n",
              "      <td>0.293743</td>\n",
              "      <td>0.152211</td>\n",
              "      <td>-0.250773</td>\n",
              "      <td>0.269855</td>\n",
              "      <td>0.380897</td>\n",
              "      <td>-0.146207</td>\n",
              "      <td>-0.167356</td>\n",
              "      <td>0.160626</td>\n",
              "      <td>0.083363</td>\n",
              "      <td>0.428477</td>\n",
              "      <td>...</td>\n",
              "      <td>-0.386039</td>\n",
              "      <td>0.003348</td>\n",
              "      <td>-0.342012</td>\n",
              "      <td>0.482889</td>\n",
              "      <td>1.000000</td>\n",
              "      <td>0.244996</td>\n",
              "      <td>0.303861</td>\n",
              "      <td>0.288469</td>\n",
              "      <td>0.181449</td>\n",
              "      <td>-0.401490</td>\n",
              "    </tr>\n",
              "    <tr>\n",
              "      <th>cad</th>\n",
              "      <td>0.225692</td>\n",
              "      <td>0.072585</td>\n",
              "      <td>-0.125424</td>\n",
              "      <td>0.228579</td>\n",
              "      <td>0.227744</td>\n",
              "      <td>-0.113848</td>\n",
              "      <td>-0.152519</td>\n",
              "      <td>0.187283</td>\n",
              "      <td>0.160807</td>\n",
              "      <td>0.204869</td>\n",
              "      <td>...</td>\n",
              "      <td>-0.276542</td>\n",
              "      <td>-0.024728</td>\n",
              "      <td>-0.266395</td>\n",
              "      <td>0.309183</td>\n",
              "      <td>0.244996</td>\n",
              "      <td>1.000000</td>\n",
              "      <td>0.159349</td>\n",
              "      <td>0.174559</td>\n",
              "      <td>0.053273</td>\n",
              "      <td>-0.214320</td>\n",
              "    </tr>\n",
              "    <tr>\n",
              "      <th>appet</th>\n",
              "      <td>0.157741</td>\n",
              "      <td>0.177601</td>\n",
              "      <td>-0.246822</td>\n",
              "      <td>0.330562</td>\n",
              "      <td>0.069216</td>\n",
              "      <td>-0.160868</td>\n",
              "      <td>-0.274985</td>\n",
              "      <td>0.189688</td>\n",
              "      <td>0.149126</td>\n",
              "      <td>0.177285</td>\n",
              "      <td>...</td>\n",
              "      <td>-0.332734</td>\n",
              "      <td>0.023729</td>\n",
              "      <td>-0.347918</td>\n",
              "      <td>0.345070</td>\n",
              "      <td>0.303861</td>\n",
              "      <td>0.159349</td>\n",
              "      <td>1.000000</td>\n",
              "      <td>0.417055</td>\n",
              "      <td>0.254942</td>\n",
              "      <td>-0.393341</td>\n",
              "    </tr>\n",
              "    <tr>\n",
              "      <th>pe</th>\n",
              "      <td>0.094434</td>\n",
              "      <td>0.054083</td>\n",
              "      <td>-0.272476</td>\n",
              "      <td>0.440893</td>\n",
              "      <td>0.116442</td>\n",
              "      <td>-0.199285</td>\n",
              "      <td>-0.350227</td>\n",
              "      <td>0.104356</td>\n",
              "      <td>0.134732</td>\n",
              "      <td>0.094806</td>\n",
              "      <td>...</td>\n",
              "      <td>-0.361331</td>\n",
              "      <td>0.038136</td>\n",
              "      <td>-0.275030</td>\n",
              "      <td>0.371026</td>\n",
              "      <td>0.288469</td>\n",
              "      <td>0.174559</td>\n",
              "      <td>0.417055</td>\n",
              "      <td>1.000000</td>\n",
              "      <td>0.207025</td>\n",
              "      <td>-0.375154</td>\n",
              "    </tr>\n",
              "    <tr>\n",
              "      <th>ane</th>\n",
              "      <td>0.050567</td>\n",
              "      <td>0.194962</td>\n",
              "      <td>-0.213276</td>\n",
              "      <td>0.282305</td>\n",
              "      <td>0.042464</td>\n",
              "      <td>-0.107625</td>\n",
              "      <td>-0.260566</td>\n",
              "      <td>0.175861</td>\n",
              "      <td>0.052208</td>\n",
              "      <td>0.112449</td>\n",
              "      <td>...</td>\n",
              "      <td>-0.465659</td>\n",
              "      <td>0.008292</td>\n",
              "      <td>-0.358598</td>\n",
              "      <td>0.347802</td>\n",
              "      <td>0.181449</td>\n",
              "      <td>0.053273</td>\n",
              "      <td>0.254942</td>\n",
              "      <td>0.207025</td>\n",
              "      <td>1.000000</td>\n",
              "      <td>-0.325396</td>\n",
              "    </tr>\n",
              "    <tr>\n",
              "      <th>classification</th>\n",
              "      <td>-0.225405</td>\n",
              "      <td>-0.290600</td>\n",
              "      <td>0.698957</td>\n",
              "      <td>-0.599238</td>\n",
              "      <td>-0.294555</td>\n",
              "      <td>0.282642</td>\n",
              "      <td>0.375154</td>\n",
              "      <td>-0.265313</td>\n",
              "      <td>-0.186871</td>\n",
              "      <td>-0.379321</td>\n",
              "      <td>...</td>\n",
              "      <td>0.650531</td>\n",
              "      <td>-0.094409</td>\n",
              "      <td>0.444823</td>\n",
              "      <td>-0.590438</td>\n",
              "      <td>-0.401490</td>\n",
              "      <td>-0.214320</td>\n",
              "      <td>-0.393341</td>\n",
              "      <td>-0.375154</td>\n",
              "      <td>-0.325396</td>\n",
              "      <td>1.000000</td>\n",
              "    </tr>\n",
              "  </tbody>\n",
              "</table>\n",
              "<p>25 rows � 25 columns</p>\n",
              "</div>\n",
              "      <button class=\"colab-df-convert\" onclick=\"convertToInteractive('df-02a04bf4-ff20-469d-85f0-62720007b290')\"\n",
              "              title=\"Convert this dataframe to an interactive table.\"\n",
              "              style=\"display:none;\">\n",
              "        \n",
              "  <svg xmlns=\"http://www.w3.org/2000/svg\" height=\"24px\"viewBox=\"0 0 24 24\"\n",
              "       width=\"24px\">\n",
              "    <path d=\"M0 0h24v24H0V0z\" fill=\"none\"/>\n",
              "    <path d=\"M18.56 5.44l.94 2.06.94-2.06 2.06-.94-2.06-.94-.94-2.06-.94 2.06-2.06.94zm-11 1L8.5 8.5l.94-2.06 2.06-.94-2.06-.94L8.5 2.5l-.94 2.06-2.06.94zm10 10l.94 2.06.94-2.06 2.06-.94-2.06-.94-.94-2.06-.94 2.06-2.06.94z\"/><path d=\"M17.41 7.96l-1.37-1.37c-.4-.4-.92-.59-1.43-.59-.52 0-1.04.2-1.43.59L10.3 9.45l-7.72 7.72c-.78.78-.78 2.05 0 2.83L4 21.41c.39.39.9.59 1.41.59.51 0 1.02-.2 1.41-.59l7.78-7.78 2.81-2.81c.8-.78.8-2.07 0-2.86zM5.41 20L4 18.59l7.72-7.72 1.47 1.35L5.41 20z\"/>\n",
              "  </svg>\n",
              "      </button>\n",
              "      \n",
              "  <style>\n",
              "    .colab-df-container {\n",
              "      display:flex;\n",
              "      flex-wrap:wrap;\n",
              "      gap: 12px;\n",
              "    }\n",
              "\n",
              "    .colab-df-convert {\n",
              "      background-color: #E8F0FE;\n",
              "      border: none;\n",
              "      border-radius: 50%;\n",
              "      cursor: pointer;\n",
              "      display: none;\n",
              "      fill: #1967D2;\n",
              "      height: 32px;\n",
              "      padding: 0 0 0 0;\n",
              "      width: 32px;\n",
              "    }\n",
              "\n",
              "    .colab-df-convert:hover {\n",
              "      background-color: #E2EBFA;\n",
              "      box-shadow: 0px 1px 2px rgba(60, 64, 67, 0.3), 0px 1px 3px 1px rgba(60, 64, 67, 0.15);\n",
              "      fill: #174EA6;\n",
              "    }\n",
              "\n",
              "    [theme=dark] .colab-df-convert {\n",
              "      background-color: #3B4455;\n",
              "      fill: #D2E3FC;\n",
              "    }\n",
              "\n",
              "    [theme=dark] .colab-df-convert:hover {\n",
              "      background-color: #434B5C;\n",
              "      box-shadow: 0px 1px 3px 1px rgba(0, 0, 0, 0.15);\n",
              "      filter: drop-shadow(0px 1px 2px rgba(0, 0, 0, 0.3));\n",
              "      fill: #FFFFFF;\n",
              "    }\n",
              "  </style>\n",
              "\n",
              "      <script>\n",
              "        const buttonEl =\n",
              "          document.querySelector('#df-02a04bf4-ff20-469d-85f0-62720007b290 button.colab-df-convert');\n",
              "        buttonEl.style.display =\n",
              "          google.colab.kernel.accessAllowed ? 'block' : 'none';\n",
              "\n",
              "        async function convertToInteractive(key) {\n",
              "          const element = document.querySelector('#df-02a04bf4-ff20-469d-85f0-62720007b290');\n",
              "          const dataTable =\n",
              "            await google.colab.kernel.invokeFunction('convertToInteractive',\n",
              "                                                     [key], {});\n",
              "          if (!dataTable) return;\n",
              "\n",
              "          const docLinkHtml = 'Like what you see? Visit the ' +\n",
              "            '<a target=\"_blank\" href=https://colab.research.google.com/notebooks/data_table.ipynb>data table notebook</a>'\n",
              "            + ' to learn more about interactive tables.';\n",
              "          element.innerHTML = '';\n",
              "          dataTable['output_type'] = 'display_data';\n",
              "          await google.colab.output.renderOutput(dataTable, element);\n",
              "          const docLink = document.createElement('div');\n",
              "          docLink.innerHTML = docLinkHtml;\n",
              "          element.appendChild(docLink);\n",
              "        }\n",
              "      </script>\n",
              "    </div>\n",
              "  </div>\n",
              "  "
            ]
          },
          "metadata": {},
          "execution_count": 31
        }
      ]
    },
    {
      "cell_type": "markdown",
      "source": [
        "## **Defining Target or Dependent Variable (y) and Feature or Independent Variables (X)**"
      ],
      "metadata": {
        "id": "aYIGzBxQwQdR"
      }
    },
    {
      "cell_type": "code",
      "source": [
        "X=df[[ 'age', 'bp', 'sg', 'al', 'su', 'rbc',  'ba', 'bgr',\n",
        "       'bu', 'sc', 'sod', 'hemo', 'pcv',  'rc', 'htn',  \n",
        "        'pe']]\n",
        "y=df[['classification']]"
      ],
      "metadata": {
        "id": "jVReKQ4uwRRM"
      },
      "execution_count": null,
      "outputs": []
    },
    {
      "cell_type": "code",
      "source": [
        "#'pc', 'pcc','wc','pot', 'cad','dm','appet','ane'"
      ],
      "metadata": {
        "id": "ESRb5LgUc1ZC"
      },
      "execution_count": null,
      "outputs": []
    },
    {
      "cell_type": "code",
      "source": [
        "\n",
        "\n",
        "X_train,X_test,y_train,y_test=train_test_split(X,y,test_size=0.25,random_state=0)"
      ],
      "metadata": {
        "id": "AM3_ywitwcUE"
      },
      "execution_count": null,
      "outputs": []
    },
    {
      "cell_type": "code",
      "source": [
        "print(\"Training Data ::-\")\n",
        "print(\"The shape of X training data is :-\" ,X_train.shape)\n",
        "print(\"The shape of y training data is :-\" ,y_train.shape)"
      ],
      "metadata": {
        "colab": {
          "base_uri": "https://localhost:8080/"
        },
        "id": "4XRlMLVzwvpc",
        "outputId": "05446f65-72ef-4608-d1ed-b55bbeb4e4f2"
      },
      "execution_count": null,
      "outputs": [
        {
          "output_type": "stream",
          "name": "stdout",
          "text": [
            "Training Data ::-\n",
            "The shape of X training data is :- (300, 16)\n",
            "The shape of y training data is :- (300, 1)\n"
          ]
        }
      ]
    },
    {
      "cell_type": "code",
      "source": [
        "print(\"Testing Data ::-\")\n",
        "print(\"The shape of X testing data is :-\" ,X_test.shape)\n",
        "print(\"The shape of y testing data is :-\" ,y_test.shape)"
      ],
      "metadata": {
        "colab": {
          "base_uri": "https://localhost:8080/"
        },
        "id": "-h0FF32OwzVP",
        "outputId": "fc72d97d-6c86-4cf0-d714-b3e90fa45190"
      },
      "execution_count": null,
      "outputs": [
        {
          "output_type": "stream",
          "name": "stdout",
          "text": [
            "Testing Data ::-\n",
            "The shape of X testing data is :- (100, 16)\n",
            "The shape of y testing data is :- (100, 1)\n"
          ]
        }
      ]
    },
    {
      "cell_type": "markdown",
      "source": [
        "## **Standarlization of X variables**"
      ],
      "metadata": {
        "id": "w6df6L-fxD9B"
      }
    },
    {
      "cell_type": "code",
      "source": [
        "\n",
        "sss=StandardScaler()\n",
        "X=sss.fit_transform(X)\n",
        "X.shape"
      ],
      "metadata": {
        "colab": {
          "base_uri": "https://localhost:8080/"
        },
        "id": "gd9SlU3sw2YM",
        "outputId": "c1bad276-b22a-478c-99b8-5ebdd83a0964"
      },
      "execution_count": null,
      "outputs": [
        {
          "output_type": "execute_result",
          "data": {
            "text/plain": [
              "(400, 16)"
            ]
          },
          "metadata": {},
          "execution_count": 37
        }
      ]
    },
    {
      "cell_type": "code",
      "source": [
        "from sklearn.model_selection import train_test_split\n",
        "X_train,X_test,y_train,y_test=train_test_split(X,y,test_size=0.25,random_state=222)"
      ],
      "metadata": {
        "id": "NYGi9EQHxGuk"
      },
      "execution_count": null,
      "outputs": []
    },
    {
      "cell_type": "markdown",
      "source": [
        "## **Modeling**\n",
        "We will now model the data using  supervised classification methods: \n",
        "\n",
        "\n",
        "1.   Logistics Regression\n",
        "2.   Decision Tree\n",
        "3.   Random Forest\n",
        "4.   KNN\n"
      ],
      "metadata": {
        "id": "mhLogiSlxZOt"
      }
    },
    {
      "cell_type": "code",
      "source": [
        "# Logistic Regression\n",
        "\n",
        "model=LogisticRegression(max_iter=200,random_state=0)\n",
        "model"
      ],
      "metadata": {
        "colab": {
          "base_uri": "https://localhost:8080/"
        },
        "id": "is5XvZMGxXXM",
        "outputId": "5c44c6ef-e6dd-4696-e229-76ee2287e1e6"
      },
      "execution_count": null,
      "outputs": [
        {
          "output_type": "execute_result",
          "data": {
            "text/plain": [
              "LogisticRegression(max_iter=200, random_state=0)"
            ]
          },
          "metadata": {},
          "execution_count": 39
        }
      ]
    },
    {
      "cell_type": "code",
      "source": [
        "model.fit(X_train,y_train)"
      ],
      "metadata": {
        "colab": {
          "base_uri": "https://localhost:8080/"
        },
        "id": "GgcomU1Kx0Vl",
        "outputId": "aaf34983-443e-40c6-cbe3-478684eb26d9"
      },
      "execution_count": null,
      "outputs": [
        {
          "output_type": "stream",
          "name": "stderr",
          "text": [
            "/usr/local/lib/python3.7/dist-packages/sklearn/utils/validation.py:993: DataConversionWarning: A column-vector y was passed when a 1d array was expected. Please change the shape of y to (n_samples, ), for example using ravel().\n",
            "  y = column_or_1d(y, warn=True)\n"
          ]
        },
        {
          "output_type": "execute_result",
          "data": {
            "text/plain": [
              "LogisticRegression(max_iter=200, random_state=0)"
            ]
          },
          "metadata": {},
          "execution_count": 40
        }
      ]
    },
    {
      "cell_type": "code",
      "source": [
        "y_predic=model.predict(X_test)\n",
        "print(y_predic)\n"
      ],
      "metadata": {
        "colab": {
          "base_uri": "https://localhost:8080/"
        },
        "id": "n6nuB222x4wc",
        "outputId": "1528ffd6-6818-40f0-82ee-11420cd8eaa5"
      },
      "execution_count": null,
      "outputs": [
        {
          "output_type": "stream",
          "name": "stdout",
          "text": [
            "[0 0 0 0 0 0 0 0 0 1 0 1 1 1 0 0 1 0 0 1 1 0 0 1 0 0 1 1 0 0 0 0 1 0 1 0 1\n",
            " 1 0 1 1 1 1 0 0 0 0 1 1 0 1 1 0 0 0 1 0 1 0 0 1 1 1 0 1 1 0 0 1 0 0 0 1 0\n",
            " 0 1 0 0 1 0 0 0 1 1 0 0 0 1 1 1 0 0 1 0 0 1 1 1 1 1]\n"
          ]
        }
      ]
    },
    {
      "cell_type": "markdown",
      "source": [
        "Model Evaluation"
      ],
      "metadata": {
        "id": "AJLxHov2x99a"
      }
    },
    {
      "cell_type": "code",
      "source": [
        "from sklearn.metrics import confusion_matrix, classification_report,accuracy_score"
      ],
      "metadata": {
        "id": "MDgxqBV4x76T"
      },
      "execution_count": null,
      "outputs": []
    },
    {
      "cell_type": "code",
      "source": [
        "print(\"Accuracy of the model is :  %3f \" % accuracy_score(y_test,y_predic))"
      ],
      "metadata": {
        "colab": {
          "base_uri": "https://localhost:8080/"
        },
        "id": "FNMZMOVmyEH1",
        "outputId": "95eedc2b-3a88-48ec-dd05-6287c679a3ea"
      },
      "execution_count": null,
      "outputs": [
        {
          "output_type": "stream",
          "name": "stdout",
          "text": [
            "Accuracy of the model is :  0.990000 \n"
          ]
        }
      ]
    },
    {
      "cell_type": "code",
      "source": [
        "print(classification_report(y_test, y_predic))"
      ],
      "metadata": {
        "colab": {
          "base_uri": "https://localhost:8080/"
        },
        "id": "W4DnwL_0yF4V",
        "outputId": "8671995c-4d2a-494d-d4a0-8b780f1b8be5"
      },
      "execution_count": null,
      "outputs": [
        {
          "output_type": "stream",
          "name": "stdout",
          "text": [
            "              precision    recall  f1-score   support\n",
            "\n",
            "           0       1.00      0.98      0.99        57\n",
            "           1       0.98      1.00      0.99        43\n",
            "\n",
            "    accuracy                           0.99       100\n",
            "   macro avg       0.99      0.99      0.99       100\n",
            "weighted avg       0.99      0.99      0.99       100\n",
            "\n"
          ]
        }
      ]
    },
    {
      "cell_type": "code",
      "source": [
        "import pickle"
      ],
      "metadata": {
        "id": "pQBvL_Uh8yNp"
      },
      "execution_count": null,
      "outputs": []
    },
    {
      "cell_type": "code",
      "source": [
        "Pkl_Filename = \"Model_one.pkl\"  \n",
        "\n",
        "with open(Pkl_Filename, 'wb') as file:  \n",
        "    pickle.dump(model, file)"
      ],
      "metadata": {
        "id": "fAkI97sa83XO"
      },
      "execution_count": null,
      "outputs": []
    },
    {
      "cell_type": "markdown",
      "source": [
        "## **Decision Tree Classifier Algorithm**"
      ],
      "metadata": {
        "id": "ruOkBd4vyliw"
      }
    },
    {
      "cell_type": "code",
      "source": [
        "\n",
        "model=DecisionTreeClassifier(random_state=222)\n",
        "model.fit(X_train,y_train)"
      ],
      "metadata": {
        "colab": {
          "base_uri": "https://localhost:8080/"
        },
        "id": "tDfLtNmrynJ2",
        "outputId": "3b8d1ad8-6f4d-4001-ad80-5f34d5e6f35c"
      },
      "execution_count": null,
      "outputs": [
        {
          "output_type": "execute_result",
          "data": {
            "text/plain": [
              "DecisionTreeClassifier(random_state=222)"
            ]
          },
          "metadata": {},
          "execution_count": 47
        }
      ]
    },
    {
      "cell_type": "code",
      "source": [
        "y_predict=model.predict(X_test)\n",
        "print(y_predict)"
      ],
      "metadata": {
        "colab": {
          "base_uri": "https://localhost:8080/"
        },
        "id": "7z3NcFSPypO_",
        "outputId": "b15b7efa-2767-4076-cf08-b5caa3c99045"
      },
      "execution_count": null,
      "outputs": [
        {
          "output_type": "stream",
          "name": "stdout",
          "text": [
            "[0 0 0 0 0 0 0 0 0 1 0 1 1 1 0 0 1 0 0 1 1 0 0 1 0 0 1 1 0 0 0 0 1 0 1 0 1\n",
            " 1 0 1 1 1 1 0 0 0 0 1 1 0 1 0 1 0 0 1 0 1 0 0 1 1 1 0 1 1 0 0 1 0 0 1 1 0\n",
            " 0 1 0 0 1 0 0 0 1 1 0 0 0 1 1 1 0 0 1 0 0 1 1 1 1 1]\n"
          ]
        }
      ]
    },
    {
      "cell_type": "code",
      "source": [
        "from sklearn.metrics import confusion_matrix, classification_report,accuracy_score"
      ],
      "metadata": {
        "id": "MP8mgfexyrXX"
      },
      "execution_count": null,
      "outputs": []
    },
    {
      "cell_type": "code",
      "source": [
        "print(\"Accuracy of the model is :  %3f \" % accuracy_score(y_test,y_predic))"
      ],
      "metadata": {
        "colab": {
          "base_uri": "https://localhost:8080/"
        },
        "id": "KeOEqI5gyzj6",
        "outputId": "ae7f2a5c-65f6-43ee-acf2-1370c1a23b90"
      },
      "execution_count": null,
      "outputs": [
        {
          "output_type": "stream",
          "name": "stdout",
          "text": [
            "Accuracy of the model is :  0.990000 \n"
          ]
        }
      ]
    },
    {
      "cell_type": "code",
      "source": [
        "print(classification_report(y_test, y_predict))"
      ],
      "metadata": {
        "colab": {
          "base_uri": "https://localhost:8080/"
        },
        "id": "fI9pMCPcyt8I",
        "outputId": "4bf223d0-2b78-44c2-a866-2ed9a7f71740"
      },
      "execution_count": null,
      "outputs": [
        {
          "output_type": "stream",
          "name": "stdout",
          "text": [
            "              precision    recall  f1-score   support\n",
            "\n",
            "           0       1.00      0.96      0.98        57\n",
            "           1       0.96      1.00      0.98        43\n",
            "\n",
            "    accuracy                           0.98       100\n",
            "   macro avg       0.98      0.98      0.98       100\n",
            "weighted avg       0.98      0.98      0.98       100\n",
            "\n"
          ]
        }
      ]
    },
    {
      "cell_type": "markdown",
      "source": [
        "## **K-Nearest Neighbors**"
      ],
      "metadata": {
        "id": "QZcd8NGCy_rN"
      }
    },
    {
      "cell_type": "code",
      "source": [
        "\n",
        "model=KNeighborsClassifier()\n"
      ],
      "metadata": {
        "id": "z2_JlhuszDDF"
      },
      "execution_count": null,
      "outputs": []
    },
    {
      "cell_type": "code",
      "source": [
        "model.fit(X_train,y_train)"
      ],
      "metadata": {
        "colab": {
          "base_uri": "https://localhost:8080/"
        },
        "id": "niN7JMV4zFGW",
        "outputId": "ae723f8a-e55b-4f88-b4aa-a3e6a7630a37"
      },
      "execution_count": null,
      "outputs": [
        {
          "output_type": "stream",
          "name": "stderr",
          "text": [
            "/usr/local/lib/python3.7/dist-packages/sklearn/neighbors/_classification.py:198: DataConversionWarning: A column-vector y was passed when a 1d array was expected. Please change the shape of y to (n_samples,), for example using ravel().\n",
            "  return self._fit(X, y)\n"
          ]
        },
        {
          "output_type": "execute_result",
          "data": {
            "text/plain": [
              "KNeighborsClassifier()"
            ]
          },
          "metadata": {},
          "execution_count": 53
        }
      ]
    },
    {
      "cell_type": "code",
      "source": [
        "y_predict=model.predict(X_test)\n",
        "print(y_predict)"
      ],
      "metadata": {
        "colab": {
          "base_uri": "https://localhost:8080/"
        },
        "id": "Kl98diDMzky4",
        "outputId": "70a4ab71-d19d-4a09-c834-99f43238ef5a"
      },
      "execution_count": null,
      "outputs": [
        {
          "output_type": "stream",
          "name": "stdout",
          "text": [
            "[0 0 0 0 0 0 0 0 0 1 0 1 1 1 0 0 1 0 0 1 1 0 0 1 0 0 1 1 0 0 0 0 1 0 1 0 1\n",
            " 1 0 1 1 1 1 0 0 0 0 1 1 0 1 1 0 0 0 1 0 1 0 0 1 1 1 0 1 1 0 0 1 0 0 0 1 0\n",
            " 0 1 0 0 1 0 0 0 1 1 0 0 0 1 1 1 0 0 1 0 0 1 1 1 1 1]\n"
          ]
        }
      ]
    },
    {
      "cell_type": "code",
      "source": [
        "print(classification_report(y_test, y_predict))"
      ],
      "metadata": {
        "colab": {
          "base_uri": "https://localhost:8080/"
        },
        "id": "jUbHuzzqzqsf",
        "outputId": "9f980ba2-bef4-47a2-f08a-1eae2d6c25b3"
      },
      "execution_count": null,
      "outputs": [
        {
          "output_type": "stream",
          "name": "stdout",
          "text": [
            "              precision    recall  f1-score   support\n",
            "\n",
            "           0       1.00      0.98      0.99        57\n",
            "           1       0.98      1.00      0.99        43\n",
            "\n",
            "    accuracy                           0.99       100\n",
            "   macro avg       0.99      0.99      0.99       100\n",
            "weighted avg       0.99      0.99      0.99       100\n",
            "\n"
          ]
        }
      ]
    },
    {
      "cell_type": "code",
      "source": [],
      "metadata": {
        "id": "QXO_EhII0En1"
      },
      "execution_count": null,
      "outputs": []
    }
  ]
}